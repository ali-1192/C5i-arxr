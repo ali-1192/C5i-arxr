{
 "cells": [
  {
   "cell_type": "code",
   "execution_count": 175,
   "id": "02d992aa",
   "metadata": {},
   "outputs": [],
   "source": [
    "import glob\n",
    "import os\n",
    "import ast\n",
    "import pandas as pd\n",
    "import google.cloud.aiplatform as aiplatform\n",
    "%reload_ext autoreload\n",
    "%autoreload 2\n",
    "from utils import generate_prompt_categories,obtain_results_gemini_uid_dict,generate_prompt,generate_prompt_batch,run_llm_label_flow,load_in_data,grab_specific_tag_data_breakdown_test_and_train,chunk_dataframe_into_batches,run_llm_label_flow_gemini\n",
    "from constants import query_tags,sentiment_dict\n",
    "from sklearn.metrics import classification_report\n",
    "pd.set_option('max_colwidth', 800)"
   ]
  },
  {
   "cell_type": "code",
   "execution_count": 211,
   "id": "8c89b2e6",
   "metadata": {},
   "outputs": [],
   "source": [
    "test = [['apples','oranges','sugar_cookies'],['sugar_cookies','apples']]"
   ]
  },
  {
   "cell_type": "code",
   "execution_count": 205,
   "id": "2edc93dc",
   "metadata": {},
   "outputs": [],
   "source": [
    "test_df = pd.DataFrame()\n",
    "test_df['values'] = test"
   ]
  },
  {
   "cell_type": "code",
   "execution_count": 212,
   "id": "855f9df8",
   "metadata": {},
   "outputs": [
    {
     "data": {
      "text/plain": [
       "['apples', 'oranges', 'sugar_cookies']"
      ]
     },
     "execution_count": 212,
     "metadata": {},
     "output_type": "execute_result"
    }
   ],
   "source": [
    "list(test_df['values'].explode())"
   ]
  },
  {
   "cell_type": "code",
   "execution_count": 2,
   "id": "34ba61a8",
   "metadata": {},
   "outputs": [],
   "source": [
    "output_format = \"{'link':'sentiment'}\""
   ]
  },
  {
   "cell_type": "code",
   "execution_count": 195,
   "id": "7a18ac5b",
   "metadata": {},
   "outputs": [],
   "source": [
    "# To add to utils \n",
    "def combine_results_data(all_data,exclude_ids,results_df):\n",
    "    data_excluded = all_data.loc[all_data['uid'].isin(exclude_ids)].reset_index(drop=True)\n",
    "    text_map = {text:label for text,label in zip(results_df['text'],results_df['llm_label'])}\n",
    "    data_excluded['llm_label'] = data_excluded['text'].apply(lambda x: text_map[x] if x in text_map.keys() else None).reset_index(drop=True)\n",
    "    data_excluded = data_excluded.loc[~data_excluded['llm_label'].isna()].reset_index(drop=True)\n",
    "    all_results = pd.concat([results_df,data_excluded]).reset_index(drop=True)\n",
    "    return all_results\n",
    "\n",
    "\n",
    "def make_preds(query,tag):\n",
    "    # Load in main data\n",
    "    main_query_data = load_in_data(query)\n",
    "    \n",
    "    # Load in sampled data\n",
    "    all_data, unique_text_data, excluded_uid_data, train_data, test_data = grab_specific_tag_data_breakdown_test_and_train(main_query_data,tag)\n",
    "    \n",
    "    # Condition for sample \n",
    "    if len(train_data)>5000:\n",
    "        train_data = train_data.sample(n=5000,random_state=42)\n",
    "        \n",
    "    # Create prompt and make preds\n",
    "    prompt = generate_prompt(query.title(), tag.title())\n",
    "    results = run_llm_label_flow_gemini(sentiment_dict, prompt, list(sentiment_dict.keys()), train_data, label_name='llm_label')\n",
    "    \n",
    "    print(f'The label distribution for {query} {tag} is: \\n with singular results')\n",
    "    print(results['llm_label'].value_counts()/len(results))\n",
    "    \n",
    "    # Combine text to label \n",
    "    all_results = combine_results_data(all_data,excluded_uid_data,results)\n",
    "    \n",
    "    print(f'The label distribution for {query} {tag} is: \\n with all results')\n",
    "    print(all_results['llm_label'].value_counts()/len(all_results))\n",
    "    \n",
    "    # Save data\n",
    "    all_results.to_json(f'../data/predictions/{query}/{tag}.json',orient='records',lines=True)\n",
    "    print('Complete')\n",
    "\n",
    "def make_preds_categories(query,tag):\n",
    "    # Load in main data\n",
    "    main_query_data = load_in_data(query)\n",
    "    \n",
    "    # Load in sampled data\n",
    "    all_data, unique_text_data, excluded_uid_data, train_data, test_data = grab_specific_tag_data_breakdown_test_and_train(main_query_data,tag)\n",
    "    \n",
    "    # Condition for sample \n",
    "    if len(train_data)>5000:\n",
    "        train_data = train_data.sample(n=5000,random_state=42)\n",
    "        \n",
    "    # Create prompt and make preds\n",
    "    prompt = generate_prompt_categories(tag.title())\n",
    "    results = run_llm_label_flow_gemini(sentiment_dict, prompt, list(sentiment_dict.keys()), train_data, label_name='llm_label')\n",
    "    \n",
    "    print(f'The label distribution for {query} {tag} is: \\n with singular results')\n",
    "    print(results['llm_label'].value_counts()/len(results))\n",
    "    \n",
    "    # Combine text to label \n",
    "    all_results = combine_results_data(all_data,excluded_uid_data,results)\n",
    "    \n",
    "    print(f'The label distribution for {query} {tag} is: \\n with all results')\n",
    "    print(all_results['llm_label'].value_counts()/len(all_results))\n",
    "    \n",
    "    # Save data\n",
    "    all_results.to_json(f'../data/predictions/{query}/{tag}.json',orient='records',lines=True)\n",
    "    print('Complete')\n",
    "    "
   ]
  },
  {
   "cell_type": "markdown",
   "id": "d444e361",
   "metadata": {},
   "source": [
    "# Glasses "
   ]
  },
  {
   "cell_type": "code",
   "execution_count": 74,
   "id": "b8c1939b",
   "metadata": {},
   "outputs": [],
   "source": [
    "glasses_data = load_in_data('glasses')"
   ]
  },
  {
   "cell_type": "markdown",
   "id": "8cba1925",
   "metadata": {},
   "source": [
    "# Google Testing "
   ]
  },
  {
   "cell_type": "code",
   "execution_count": 77,
   "id": "1d895db2",
   "metadata": {},
   "outputs": [],
   "source": [
    "# 1. Testing reliability on test set \n",
    "google_glasses_test = pd.read_csv('../data/glasses_test_data/google_glasses_test.csv')\n",
    "google_glasses_test = google_glasses_test.rename(columns={'Snippet':'text','Url':'uid'})"
   ]
  },
  {
   "cell_type": "code",
   "execution_count": 78,
   "id": "a98375ce",
   "metadata": {},
   "outputs": [
    {
     "name": "stderr",
     "output_type": "stream",
     "text": [
      "100%|███████████████████████████████████████████| 50/50 [00:05<00:00,  9.57it/s]\n"
     ]
    }
   ],
   "source": [
    "test_results = run_llm_label_flow_gemini(sentiment_dict, gg_prompt, list(sentiment_dict.keys()), google_glasses_test, label_name='llm_label')"
   ]
  },
  {
   "cell_type": "markdown",
   "id": "dd90822f",
   "metadata": {},
   "source": [
    "## Google "
   ]
  },
  {
   "cell_type": "markdown",
   "id": "b3bc23b8",
   "metadata": {},
   "source": [
    "### Grab data"
   ]
  },
  {
   "cell_type": "code",
   "execution_count": 82,
   "id": "2c5cc7da",
   "metadata": {},
   "outputs": [],
   "source": [
    "google_glasses_data, unique_google_glasses_data, excluded_uid_google_glasses, google_glasses_train, google_glasses_test = grab_specific_tag_data_breakdown_test_and_train(glasses_data,'google')"
   ]
  },
  {
   "cell_type": "code",
   "execution_count": 85,
   "id": "2dfae67c",
   "metadata": {},
   "outputs": [],
   "source": [
    "# For Batch processing if necassery\n",
    "# google_glasses_batched = chunk_dataframe_into_batches(google_glasses_train,20)\n",
    "google_glasses_train_sample = google_glasses_train.sample(n=5000,random_state=42).reset_index(drop=True)"
   ]
  },
  {
   "cell_type": "markdown",
   "id": "8f51d906",
   "metadata": {},
   "source": [
    "### Make Predictions "
   ]
  },
  {
   "cell_type": "code",
   "execution_count": 86,
   "id": "bfb6e9a0",
   "metadata": {},
   "outputs": [
    {
     "name": "stderr",
     "output_type": "stream",
     "text": [
      "100%|███████████████████████████████████████| 5334/5334 [09:18<00:00,  9.56it/s]\n"
     ]
    }
   ],
   "source": [
    "gg_prompt = generate_prompt('Glasses', 'google')\n",
    "results = run_llm_label_flow_gemini(sentiment_dict, gg_prompt, list(sentiment_dict.keys()), google_glasses_train, label_name='llm_label')"
   ]
  },
  {
   "cell_type": "code",
   "execution_count": 91,
   "id": "98c6e780",
   "metadata": {},
   "outputs": [],
   "source": [
    "all_google_glass_predictions = combine_results_data(google_glasses_data,excluded_uid_google_glasses,results)"
   ]
  },
  {
   "cell_type": "markdown",
   "id": "20510dd5",
   "metadata": {},
   "source": [
    "#### Compare sentiment breakdown "
   ]
  },
  {
   "cell_type": "code",
   "execution_count": 94,
   "id": "f5077742",
   "metadata": {},
   "outputs": [
    {
     "data": {
      "text/plain": [
       "llm_label\n",
       "1    0.473147\n",
       "0    0.393722\n",
       "2    0.133132\n",
       "Name: count, dtype: float64"
      ]
     },
     "execution_count": 94,
     "metadata": {},
     "output_type": "execute_result"
    }
   ],
   "source": [
    "# OG Train sample results\n",
    "results['llm_label'].value_counts()/len(results)"
   ]
  },
  {
   "cell_type": "code",
   "execution_count": 95,
   "id": "16a9daac",
   "metadata": {},
   "outputs": [
    {
     "data": {
      "text/plain": [
       "llm_label\n",
       "0.0    0.452991\n",
       "1.0    0.411084\n",
       "2.0    0.135925\n",
       "Name: count, dtype: float64"
      ]
     },
     "execution_count": 95,
     "metadata": {},
     "output_type": "execute_result"
    }
   ],
   "source": [
    "# Combined duplicate text results\n",
    "all_google_glass_predictions['llm_label'].value_counts()/len(all_google_glass_predictions)"
   ]
  },
  {
   "cell_type": "code",
   "execution_count": 100,
   "id": "3c46f223",
   "metadata": {},
   "outputs": [],
   "source": [
    "all_google_glass_predictions.to_json('../data/predictions/glasses/google.json',orient='records',lines=True)"
   ]
  },
  {
   "cell_type": "markdown",
   "id": "1924546a",
   "metadata": {},
   "source": [
    "### Apple "
   ]
  },
  {
   "cell_type": "code",
   "execution_count": 101,
   "id": "a76ad236",
   "metadata": {},
   "outputs": [],
   "source": [
    "apple_glasses_data, unique_apple_glasses_data, excluded_uid_apple_glasses, apple_glasses_train, apple_glasses_test = grab_specific_tag_data_breakdown_test_and_train(glasses_data,'apple')"
   ]
  },
  {
   "cell_type": "code",
   "execution_count": 108,
   "id": "f710a9a7",
   "metadata": {},
   "outputs": [],
   "source": [
    "# Note not sampling down as it is to low "
   ]
  },
  {
   "cell_type": "code",
   "execution_count": 109,
   "id": "7bd9cc9d",
   "metadata": {},
   "outputs": [
    {
     "name": "stderr",
     "output_type": "stream",
     "text": [
      "100%|███████████████████████████████████████| 4218/4218 [07:20<00:00,  9.58it/s]\n"
     ]
    }
   ],
   "source": [
    "prompt = generate_prompt('Glasses', 'Apple')\n",
    "results = run_llm_label_flow_gemini(sentiment_dict, prompt, list(sentiment_dict.keys()), apple_glasses_train, label_name='llm_label')"
   ]
  },
  {
   "cell_type": "code",
   "execution_count": 110,
   "id": "fe27279e",
   "metadata": {},
   "outputs": [],
   "source": [
    "all_apple_glass_predictions = combine_results_data(apple_glasses_data,excluded_uid_apple_glasses,results)"
   ]
  },
  {
   "cell_type": "code",
   "execution_count": 111,
   "id": "95c7cb03",
   "metadata": {},
   "outputs": [
    {
     "data": {
      "text/plain": [
       "llm_label\n",
       "1    0.537367\n",
       "2    0.241756\n",
       "0    0.220878\n",
       "Name: count, dtype: float64"
      ]
     },
     "execution_count": 111,
     "metadata": {},
     "output_type": "execute_result"
    }
   ],
   "source": [
    "results['llm_label'].value_counts()/len(results)"
   ]
  },
  {
   "cell_type": "code",
   "execution_count": 112,
   "id": "d3f1500b",
   "metadata": {},
   "outputs": [
    {
     "data": {
      "text/plain": [
       "llm_label\n",
       "1.0    0.493691\n",
       "2.0    0.309046\n",
       "0.0    0.197263\n",
       "Name: count, dtype: float64"
      ]
     },
     "execution_count": 112,
     "metadata": {},
     "output_type": "execute_result"
    }
   ],
   "source": [
    "all_apple_glass_predictions['llm_label'].value_counts()/len(all_apple_glass_predictions)"
   ]
  },
  {
   "cell_type": "code",
   "execution_count": 115,
   "id": "45c64590",
   "metadata": {},
   "outputs": [
    {
     "data": {
      "text/plain": [
       "5627"
      ]
     },
     "execution_count": 115,
     "metadata": {},
     "output_type": "execute_result"
    }
   ],
   "source": [
    "len(all_apple_glass_predictions)"
   ]
  },
  {
   "cell_type": "code",
   "execution_count": 117,
   "id": "de3bb64e",
   "metadata": {},
   "outputs": [],
   "source": [
    "all_apple_glass_predictions.to_json('../data/predictions/glasses/apple.json',orient='records',lines=True)"
   ]
  },
  {
   "cell_type": "markdown",
   "id": "21041c13",
   "metadata": {},
   "source": [
    "# Creating pipeline workflow for fast processing \n",
    "\n",
    "\n",
    "args: query,tag"
   ]
  },
  {
   "cell_type": "code",
   "execution_count": 120,
   "id": "55120a8d",
   "metadata": {},
   "outputs": [],
   "source": [
    "def make_preds(query,tag):\n",
    "    # Load in main data\n",
    "    main_query_data = load_in_data(query)\n",
    "    \n",
    "    # Load in sampled data\n",
    "    all_data, unique_text_data, excluded_uid_data, train_data, test_data = grab_specific_tag_data_breakdown_test_and_train(main_query_data,tag)\n",
    "    \n",
    "    # Condition for sample \n",
    "    if len(train_data)>5000:\n",
    "        train_data = train_data.sample(n=5000,random_state=42)\n",
    "        \n",
    "    # Create prompt and make preds\n",
    "    prompt = generate_prompt(query.title(), tag.title())\n",
    "    results = run_llm_label_flow_gemini(sentiment_dict, prompt, list(sentiment_dict.keys()), train_data, label_name='llm_label')\n",
    "    \n",
    "    print(f'The label distribution for {query} {tag} is: \\n with singular results')\n",
    "    print(results['llm_label'].value_counts()/len(results))\n",
    "    \n",
    "    # Combine text to label \n",
    "    all_results = combine_results_data(all_data,excluded_uid_data,results)\n",
    "    \n",
    "    print(f'The label distribution for {query} {tag} is: \\n with all results')\n",
    "    print(all_results['llm_label'].value_counts()/len(all_results))\n",
    "    \n",
    "    # Save data\n",
    "    all_results.to_json(f'../data/predictions/{query}/{tag}.json',orient='records',lines=True)\n",
    "    print('Complete')\n",
    "    "
   ]
  },
  {
   "cell_type": "markdown",
   "id": "f0571fbb",
   "metadata": {},
   "source": [
    "# Lenovo\n"
   ]
  },
  {
   "cell_type": "code",
   "execution_count": 121,
   "id": "d36c07e3",
   "metadata": {},
   "outputs": [
    {
     "name": "stderr",
     "output_type": "stream",
     "text": [
      "100%|███████████████████████████████████████| 1315/1315 [02:17<00:00,  9.55it/s]\n"
     ]
    },
    {
     "name": "stdout",
     "output_type": "stream",
     "text": [
      "The label distribution for glasses lenovo is: \n",
      " with singular results\n",
      "llm_label\n",
      "1    0.860076\n",
      "2    0.114068\n",
      "0    0.025856\n",
      "Name: count, dtype: float64\n",
      "The label distribution for glasses lenovo is: \n",
      " with all results\n",
      "llm_label\n",
      "1.0    0.858323\n",
      "2.0    0.128296\n",
      "0.0    0.013381\n",
      "Name: count, dtype: float64\n",
      "Complete\n"
     ]
    }
   ],
   "source": [
    "make_preds('glasses','lenovo')"
   ]
  },
  {
   "cell_type": "markdown",
   "id": "fea26b15",
   "metadata": {},
   "source": [
    "### Completing rest for glasses "
   ]
  },
  {
   "cell_type": "code",
   "execution_count": 123,
   "id": "aa045e11",
   "metadata": {},
   "outputs": [
    {
     "name": "stderr",
     "output_type": "stream",
     "text": [
      "100%|███████████████████████████████████████| 4641/4641 [08:04<00:00,  9.57it/s]\n"
     ]
    },
    {
     "name": "stdout",
     "output_type": "stream",
     "text": [
      "The label distribution for glasses meta is: \n",
      " with singular results\n",
      "llm_label\n",
      "1    0.673716\n",
      "0    0.176090\n",
      "2    0.150194\n",
      "Name: count, dtype: float64\n",
      "The label distribution for glasses meta is: \n",
      " with all results\n",
      "llm_label\n",
      "1.0    0.659540\n",
      "0.0    0.177088\n",
      "2.0    0.163372\n",
      "Name: count, dtype: float64\n",
      "Complete\n"
     ]
    },
    {
     "name": "stderr",
     "output_type": "stream",
     "text": [
      "100%|███████████████████████████████████████| 3347/3347 [05:52<00:00,  9.50it/s]\n"
     ]
    },
    {
     "name": "stdout",
     "output_type": "stream",
     "text": [
      "The label distribution for glasses rokid is: \n",
      " with singular results\n",
      "llm_label\n",
      "1    0.630051\n",
      "2    0.202634\n",
      "0    0.167315\n",
      "Name: count, dtype: float64\n",
      "The label distribution for glasses rokid is: \n",
      " with all results\n",
      "llm_label\n",
      "1.0    0.499560\n",
      "2.0    0.401621\n",
      "0.0    0.098820\n",
      "Name: count, dtype: float64\n",
      "Complete\n"
     ]
    },
    {
     "name": "stderr",
     "output_type": "stream",
     "text": [
      "100%|███████████████████████████████████████| 4206/4206 [07:20<00:00,  9.55it/s]\n"
     ]
    },
    {
     "name": "stdout",
     "output_type": "stream",
     "text": [
      "The label distribution for glasses snap is: \n",
      " with singular results\n",
      "llm_label\n",
      "1    0.499049\n",
      "2    0.474310\n",
      "0    0.026641\n",
      "Name: count, dtype: float64\n",
      "The label distribution for glasses snap is: \n",
      " with all results\n",
      "llm_label\n",
      "1.0    0.499397\n",
      "2.0    0.476889\n",
      "0.0    0.023714\n",
      "Name: count, dtype: float64\n",
      "Complete\n"
     ]
    },
    {
     "name": "stderr",
     "output_type": "stream",
     "text": [
      "100%|███████████████████████████████████████| 1318/1318 [02:19<00:00,  9.41it/s]\n"
     ]
    },
    {
     "name": "stdout",
     "output_type": "stream",
     "text": [
      "The label distribution for glasses vuzix is: \n",
      " with singular results\n",
      "llm_label\n",
      "2    0.532625\n",
      "1    0.458270\n",
      "0    0.009105\n",
      "Name: count, dtype: float64\n",
      "The label distribution for glasses vuzix is: \n",
      " with all results\n",
      "llm_label\n",
      "2.0    0.630216\n",
      "1.0    0.364029\n",
      "0.0    0.005755\n",
      "Name: count, dtype: float64\n",
      "Complete\n"
     ]
    },
    {
     "name": "stderr",
     "output_type": "stream",
     "text": [
      "100%|███████████████████████████████████████| 4257/4257 [07:41<00:00,  9.22it/s]\n"
     ]
    },
    {
     "name": "stdout",
     "output_type": "stream",
     "text": [
      "The label distribution for glasses xreal is: \n",
      " with singular results\n",
      "llm_label\n",
      "1    0.662506\n",
      "2    0.190768\n",
      "0    0.146726\n",
      "Name: count, dtype: float64\n",
      "The label distribution for glasses xreal is: \n",
      " with all results\n",
      "llm_label\n",
      "2.0    0.463628\n",
      "1.0    0.450047\n",
      "0.0    0.086325\n",
      "Name: count, dtype: float64\n",
      "Complete\n"
     ]
    }
   ],
   "source": [
    "# Go do and make preds for all\n",
    "\n",
    "tags = ['meta','rokid','snap','vuzix','xreal']\n",
    "querys = ['glasses' for i in range(len(tags))]\n",
    "\n",
    "for query,tag in zip(querys,tags):\n",
    "    make_preds(query,tag)\n"
   ]
  },
  {
   "cell_type": "markdown",
   "id": "0637b91b",
   "metadata": {},
   "source": [
    "# Load in all glasses data "
   ]
  },
  {
   "cell_type": "code",
   "execution_count": 128,
   "id": "e026212a",
   "metadata": {},
   "outputs": [],
   "source": [
    "glasses_predictions = glob.glob('../data/predictions/glasses/*')\n",
    "data = []\n",
    "for path in glasses_predictions:\n",
    "    df = pd.read_json(path,orient='records',lines=True)\n",
    "    data.append(df)\n",
    "all_glasses_preds = pd.concat(data).reset_index(drop=True)\n",
    "all_glasses_preds['query'] = 'glasses'\n",
    "all_glasses_preds.to_json('../data/predictions/final_preds/glasses.json',orient='records',lines=True)"
   ]
  },
  {
   "cell_type": "markdown",
   "id": "19d30dc8",
   "metadata": {},
   "source": [
    "# Data Quality Check "
   ]
  },
  {
   "cell_type": "code",
   "execution_count": 149,
   "id": "b439f9c1",
   "metadata": {},
   "outputs": [
    {
     "data": {
      "text/html": [
       "<div>\n",
       "<style scoped>\n",
       "    .dataframe tbody tr th:only-of-type {\n",
       "        vertical-align: middle;\n",
       "    }\n",
       "\n",
       "    .dataframe tbody tr th {\n",
       "        vertical-align: top;\n",
       "    }\n",
       "\n",
       "    .dataframe thead th {\n",
       "        text-align: right;\n",
       "    }\n",
       "</style>\n",
       "<table border=\"1\" class=\"dataframe\">\n",
       "  <thead>\n",
       "    <tr style=\"text-align: right;\">\n",
       "      <th></th>\n",
       "      <th>text</th>\n",
       "    </tr>\n",
       "  </thead>\n",
       "  <tbody>\n",
       "    <tr>\n",
       "      <th>22669</th>\n",
       "      <td>RT @steepler @bexhillmuseum @WollastonMuseum I did a Google glass search on it and that’s the most likely thing.</td>\n",
       "    </tr>\n",
       "    <tr>\n",
       "      <th>22673</th>\n",
       "      <td>@GoogleARVR @peregrau1969 @unity Google augmented reality glasses project: These are four links about mixed reality technologies. Therefore, we ask engineers and workers to conduct research in order to take advantage of all technologies and innovations and create hologram projects &amp;</td>\n",
       "    </tr>\n",
       "    <tr>\n",
       "      <th>22674</th>\n",
       "      <td>RT @verge Google Glass Enterprise Edition is no more https://t.co/EiKr87RM72 https://t.co/zO3dkonuT9</td>\n",
       "    </tr>\n",
       "    <tr>\n",
       "      <th>22677</th>\n",
       "      <td>@MKBHD The same basic idea of google glass, but covering the whole face...</td>\n",
       "    </tr>\n",
       "    <tr>\n",
       "      <th>22679</th>\n",
       "      <td>@tnatw Use of chat with Google glasses, for jury selection to read micro expressions. Then constantly redirecting chat throughout the trial, to cater questioning and objections to the flow of information. Smarter lawyers will be a must, parameters will change for every trial.</td>\n",
       "    </tr>\n",
       "    <tr>\n",
       "      <th>...</th>\n",
       "      <td>...</td>\n",
       "    </tr>\n",
       "    <tr>\n",
       "      <th>29915</th>\n",
       "      <td>Google Glass</td>\n",
       "    </tr>\n",
       "    <tr>\n",
       "      <th>29916</th>\n",
       "      <td>Google Glass.</td>\n",
       "    </tr>\n",
       "    <tr>\n",
       "      <th>29917</th>\n",
       "      <td>Google Glass.</td>\n",
       "    </tr>\n",
       "    <tr>\n",
       "      <th>29918</th>\n",
       "      <td>Google Glass</td>\n",
       "    </tr>\n",
       "    <tr>\n",
       "      <th>29919</th>\n",
       "      <td>Google glasses</td>\n",
       "    </tr>\n",
       "  </tbody>\n",
       "</table>\n",
       "<p>2982 rows × 1 columns</p>\n",
       "</div>"
      ],
      "text/plain": [
       "                                                                                                                                                                                                                                                                                              text\n",
       "22669                                                                                                                                                                             RT @steepler @bexhillmuseum @WollastonMuseum I did a Google glass search on it and that’s the most likely thing.\n",
       "22673  @GoogleARVR @peregrau1969 @unity Google augmented reality glasses project: These are four links about mixed reality technologies. Therefore, we ask engineers and workers to conduct research in order to take advantage of all technologies and innovations and create hologram projects &\n",
       "22674                                                                                                                                                                                         RT @verge Google Glass Enterprise Edition is no more https://t.co/EiKr87RM72 https://t.co/zO3dkonuT9\n",
       "22677                                                                                                                                                                                                                   @MKBHD The same basic idea of google glass, but covering the whole face...\n",
       "22679         @tnatw Use of chat with Google glasses, for jury selection to read micro expressions. Then constantly redirecting chat throughout the trial, to cater questioning and objections to the flow of information. Smarter lawyers will be a must, parameters will change for every trial.\n",
       "...                                                                                                                                                                                                                                                                                            ...\n",
       "29915                                                                                                                                                                                                                                                                                 Google Glass\n",
       "29916                                                                                                                                                                                                                                                                                Google Glass.\n",
       "29917                                                                                                                                                                                                                                                                                Google Glass.\n",
       "29918                                                                                                                                                                                                                                                                                 Google Glass\n",
       "29919                                                                                                                                                                                                                                                                               Google glasses\n",
       "\n",
       "[2982 rows x 1 columns]"
      ]
     },
     "execution_count": 149,
     "metadata": {},
     "output_type": "execute_result"
    }
   ],
   "source": [
    "all_glasses_preds.loc[(all_glasses_preds['tag']=='google') & (all_glasses_preds['llm_label']==1) ][['text']]"
   ]
  },
  {
   "cell_type": "code",
   "execution_count": 154,
   "id": "333b8ab7",
   "metadata": {},
   "outputs": [
    {
     "data": {
      "text/plain": [
       "\"{'android’:[('https://app.brandwatch.com/project/1998294717/explore/2001813276/measure/volume', 'GTM_prelaunchgenpop'), ('https://app.brandwatch.com/project/1998294717/explore/2001813276/measure/volume', 'GTM_prelaunchAndroidONLY', 'Android NOT Apple [GTM 2.0]'), ('https://app.brandwatch.com/project/1998294717/explore/2001813276/measure/volume', 'GTM_prelaunchAppleONLY', 'Apple NOT Android [GTM 2.0]'), ('https://app.brandwatch.com/project/1998294717/explore/2001813276/measure/volume', 'GTM_prelaunchApplebrand', 'Apple overlay (inclusive of Android) [GTM 2.0]'), ('https://app.brandwatch.com/project/1998294717/explore/2001813276/measure/volume', 'GTM_prelaunchAndroidbrand', 'Android overlay (inclusive of Apple) [GTM 2.0]’)]}\""
      ]
     },
     "execution_count": 154,
     "metadata": {},
     "output_type": "execute_result"
    }
   ],
   "source": [
    "{'android':[('https://app.brandwatch.com/project/1998294717/explore/2001813276/measure/volume', 'GTM_prelaunchgenpop'), ('https://app.brandwatch.com/project/1998294717/explore/2001813276/measure/volume', 'GTM_prelaunchAndroidONLY', 'Android NOT Apple [GTM 2.0]'), ('https://app.brandwatch.com/project/1998294717/explore/2001813276/measure/volume', 'GTM_prelaunchAppleONLY', 'Apple NOT Android [GTM 2.0]'), ('https://app.brandwatch.com/project/1998294717/explore/2001813276/measure/volume', 'GTM_prelaunchApplebrand', 'Apple overlay (inclusive of Android) [GTM 2.0]'), ('https://app.brandwatch.com/project/1998294717/explore/2001813276/measure/volume', 'GTM_prelaunchAndroidbrand', 'Android overlay (inclusive of Apple) [GTM 2.0]')]}\n",
    "\n",
    "\n",
    "\n",
    "\n",
    "\n"
   ]
  },
  {
   "cell_type": "markdown",
   "id": "8fa29c42",
   "metadata": {},
   "source": [
    "# Headsets "
   ]
  },
  {
   "cell_type": "code",
   "execution_count": 153,
   "id": "471a9c1d",
   "metadata": {},
   "outputs": [
    {
     "name": "stderr",
     "output_type": "stream",
     "text": [
      "100%|███████████████████████████████████████| 5000/5000 [08:42<00:00,  9.57it/s]\n"
     ]
    },
    {
     "name": "stdout",
     "output_type": "stream",
     "text": [
      "The label distribution for headsets apple is: \n",
      " with singular results\n",
      "llm_label\n",
      "1    0.678593\n",
      "2    0.182111\n",
      "0    0.139296\n",
      "Name: count, dtype: float64\n",
      "The label distribution for headsets apple is: \n",
      " with all results\n",
      "llm_label\n",
      "1.0    0.650879\n",
      "2.0    0.223766\n",
      "0.0    0.125356\n",
      "Name: count, dtype: float64\n",
      "Complete\n"
     ]
    },
    {
     "name": "stderr",
     "output_type": "stream",
     "text": [
      "100%|███████████████████████████████████████| 2078/2078 [03:38<00:00,  9.50it/s]\n"
     ]
    },
    {
     "name": "stdout",
     "output_type": "stream",
     "text": [
      "The label distribution for headsets dpvr is: \n",
      " with singular results\n",
      "llm_label\n",
      "1    0.625723\n",
      "2    0.296243\n",
      "0    0.078035\n",
      "Name: count, dtype: float64\n",
      "The label distribution for headsets dpvr is: \n",
      " with all results\n",
      "llm_label\n",
      "1.0    0.646261\n",
      "2.0    0.294957\n",
      "0.0    0.058783\n",
      "Name: count, dtype: float64\n",
      "Complete\n"
     ]
    },
    {
     "name": "stderr",
     "output_type": "stream",
     "text": [
      "100%|███████████████████████████████████████| 5000/5000 [08:46<00:00,  9.49it/s]\n"
     ]
    },
    {
     "name": "stdout",
     "output_type": "stream",
     "text": [
      "The label distribution for headsets google is: \n",
      " with singular results\n",
      "llm_label\n",
      "1    0.792434\n",
      "0    0.168535\n",
      "2    0.039031\n",
      "Name: count, dtype: float64\n",
      "The label distribution for headsets google is: \n",
      " with all results\n",
      "llm_label\n",
      "1.0    0.759879\n",
      "0.0    0.206023\n",
      "2.0    0.034098\n",
      "Name: count, dtype: float64\n",
      "Complete\n"
     ]
    },
    {
     "name": "stderr",
     "output_type": "stream",
     "text": [
      "100%|███████████████████████████████████████| 3870/3870 [06:47<00:00,  9.50it/s]\n"
     ]
    },
    {
     "name": "stdout",
     "output_type": "stream",
     "text": [
      "The label distribution for headsets hp is: \n",
      " with singular results\n",
      "llm_label\n",
      "1    0.682958\n",
      "0    0.182312\n",
      "2    0.134730\n",
      "Name: count, dtype: float64\n",
      "The label distribution for headsets hp is: \n",
      " with all results\n",
      "llm_label\n",
      "1.0    0.719380\n",
      "0.0    0.153707\n",
      "2.0    0.126914\n",
      "Name: count, dtype: float64\n",
      "Complete\n"
     ]
    },
    {
     "name": "stderr",
     "output_type": "stream",
     "text": [
      "100%|███████████████████████████████████████| 5000/5000 [08:45<00:00,  9.51it/s]\n"
     ]
    },
    {
     "name": "stdout",
     "output_type": "stream",
     "text": [
      "The label distribution for headsets htc is: \n",
      " with singular results\n",
      "llm_label\n",
      "1    0.615708\n",
      "2    0.246444\n",
      "0    0.137848\n",
      "Name: count, dtype: float64\n",
      "The label distribution for headsets htc is: \n",
      " with all results\n",
      "llm_label\n",
      "1.0    0.603147\n",
      "2.0    0.275463\n",
      "0.0    0.121390\n",
      "Name: count, dtype: float64\n",
      "Complete\n"
     ]
    },
    {
     "name": "stderr",
     "output_type": "stream",
     "text": [
      "100%|███████████████████████████████████████| 3028/3028 [05:17<00:00,  9.53it/s]\n"
     ]
    },
    {
     "name": "stdout",
     "output_type": "stream",
     "text": [
      "The label distribution for headsets magic_leap is: \n",
      " with singular results\n",
      "llm_label\n",
      "1    0.633719\n",
      "2    0.250248\n",
      "0    0.116033\n",
      "Name: count, dtype: float64\n",
      "The label distribution for headsets magic_leap is: \n",
      " with all results\n",
      "llm_label\n",
      "1.0    0.586067\n",
      "2.0    0.317569\n",
      "0.0    0.096364\n",
      "Name: count, dtype: float64\n",
      "Complete\n"
     ]
    },
    {
     "name": "stderr",
     "output_type": "stream",
     "text": [
      "100%|███████████████████████████████████████| 5000/5000 [08:47<00:00,  9.48it/s]\n"
     ]
    },
    {
     "name": "stdout",
     "output_type": "stream",
     "text": [
      "The label distribution for headsets meta is: \n",
      " with singular results\n",
      "llm_label\n",
      "1    0.583786\n",
      "2    0.256286\n",
      "0    0.159928\n",
      "Name: count, dtype: float64\n",
      "The label distribution for headsets meta is: \n",
      " with all results\n",
      "llm_label\n",
      "1.0    0.554833\n",
      "2.0    0.297922\n",
      "0.0    0.147245\n",
      "Name: count, dtype: float64\n",
      "Complete\n"
     ]
    },
    {
     "name": "stderr",
     "output_type": "stream",
     "text": [
      "100%|███████████████████████████████████████| 5000/5000 [08:46<00:00,  9.50it/s]\n"
     ]
    },
    {
     "name": "stdout",
     "output_type": "stream",
     "text": [
      "The label distribution for headsets microsoft is: \n",
      " with singular results\n",
      "llm_label\n",
      "1    0.832799\n",
      "0    0.142141\n",
      "2    0.025060\n",
      "Name: count, dtype: float64\n",
      "The label distribution for headsets microsoft is: \n",
      " with all results\n",
      "llm_label\n",
      "1.0    0.820992\n",
      "0.0    0.138927\n",
      "2.0    0.040082\n",
      "Name: count, dtype: float64\n",
      "Complete\n"
     ]
    },
    {
     "name": "stderr",
     "output_type": "stream",
     "text": [
      "100%|█████████████████████████████████████████| 255/255 [00:26<00:00,  9.50it/s]\n"
     ]
    },
    {
     "name": "stdout",
     "output_type": "stream",
     "text": [
      "The label distribution for headsets oppo is: \n",
      " with singular results\n",
      "llm_label\n",
      "1    0.925490\n",
      "2    0.066667\n",
      "0    0.007843\n",
      "Name: count, dtype: float64\n",
      "The label distribution for headsets oppo is: \n",
      " with all results\n",
      "llm_label\n",
      "1.0    0.843243\n",
      "2.0    0.151351\n",
      "0.0    0.005405\n",
      "Name: count, dtype: float64\n",
      "Complete\n"
     ]
    },
    {
     "name": "stderr",
     "output_type": "stream",
     "text": [
      "100%|███████████████████████████████████████| 5000/5000 [08:45<00:00,  9.51it/s]\n"
     ]
    },
    {
     "name": "stdout",
     "output_type": "stream",
     "text": [
      "The label distribution for headsets pico is: \n",
      " with singular results\n",
      "llm_label\n",
      "1    0.605084\n",
      "2    0.259408\n",
      "0    0.135508\n",
      "Name: count, dtype: float64\n",
      "The label distribution for headsets pico is: \n",
      " with all results\n",
      "llm_label\n",
      "1.0    0.585269\n",
      "2.0    0.297195\n",
      "0.0    0.117536\n",
      "Name: count, dtype: float64\n",
      "Complete\n"
     ]
    },
    {
     "name": "stderr",
     "output_type": "stream",
     "text": [
      "100%|███████████████████████████████████████| 5000/5000 [08:44<00:00,  9.53it/s]\n"
     ]
    },
    {
     "name": "stdout",
     "output_type": "stream",
     "text": [
      "The label distribution for headsets samsung is: \n",
      " with singular results\n",
      "llm_label\n",
      "1    0.776376\n",
      "0    0.163363\n",
      "2    0.060260\n",
      "Name: count, dtype: float64\n",
      "The label distribution for headsets samsung is: \n",
      " with all results\n",
      "llm_label\n",
      "1.0    0.792044\n",
      "0.0    0.150931\n",
      "2.0    0.057026\n",
      "Name: count, dtype: float64\n",
      "Complete\n"
     ]
    },
    {
     "name": "stderr",
     "output_type": "stream",
     "text": [
      "100%|███████████████████████████████████████| 5000/5000 [08:52<00:00,  9.39it/s]\n"
     ]
    },
    {
     "name": "stdout",
     "output_type": "stream",
     "text": [
      "The label distribution for headsets sony is: \n",
      " with singular results\n",
      "llm_label\n",
      "1    0.794584\n",
      "0    0.114142\n",
      "2    0.091274\n",
      "Name: count, dtype: float64\n",
      "The label distribution for headsets sony is: \n",
      " with all results\n",
      "llm_label\n",
      "1.0    0.808416\n",
      "0.0    0.100582\n",
      "2.0    0.091002\n",
      "Name: count, dtype: float64\n",
      "Complete\n"
     ]
    },
    {
     "name": "stderr",
     "output_type": "stream",
     "text": [
      "100%|███████████████████████████████████████| 5000/5000 [08:48<00:00,  9.46it/s]\n"
     ]
    },
    {
     "name": "stdout",
     "output_type": "stream",
     "text": [
      "The label distribution for headsets valve is: \n",
      " with singular results\n",
      "llm_label\n",
      "1    0.562575\n",
      "2    0.253911\n",
      "0    0.183514\n",
      "Name: count, dtype: float64\n",
      "The label distribution for headsets valve is: \n",
      " with all results\n",
      "llm_label\n",
      "1.0    0.557583\n",
      "2.0    0.277201\n",
      "0.0    0.165216\n",
      "Name: count, dtype: float64\n",
      "Complete\n"
     ]
    }
   ],
   "source": [
    "tags = ['apple',\n",
    " 'dpvr',\n",
    " 'google',\n",
    " 'hp',\n",
    " 'htc',\n",
    " 'magic_leap',\n",
    " 'meta',\n",
    " 'microsoft',\n",
    " 'oppo',\n",
    " 'pico',\n",
    " 'samsung',\n",
    " 'sony',\n",
    " 'valve']\n",
    "querys = ['headsets' for i in range(len(tags))]\n",
    "\n",
    "for query,tag in zip(querys,tags):\n",
    "    make_preds(query,tag)\n"
   ]
  },
  {
   "cell_type": "markdown",
   "id": "1db2ced1",
   "metadata": {},
   "source": [
    "# Categories "
   ]
  },
  {
   "cell_type": "markdown",
   "id": "4fd29d71",
   "metadata": {},
   "source": [
    "### Unlike the other queries we need to adjust the prompt---using Gemini we'll optimize the prompt for best results based on true labels\n"
   ]
  },
  {
   "cell_type": "code",
   "execution_count": 191,
   "id": "6380e1de",
   "metadata": {
    "scrolled": true
   },
   "outputs": [],
   "source": [
    "cat_data = load_in_data('categories')"
   ]
  },
  {
   "cell_type": "code",
   "execution_count": 192,
   "id": "12ae1d83",
   "metadata": {},
   "outputs": [],
   "source": [
    "df,df_unique_snippets,excluded_uid_from_unique, df_train, df_test = grab_specific_tag_data_breakdown_test_and_train(cat_data,'apple')"
   ]
  },
  {
   "cell_type": "code",
   "execution_count": 187,
   "id": "9bfb017a",
   "metadata": {},
   "outputs": [
    {
     "data": {
      "text/plain": [
       "array(['manual_export', 'reddit'], dtype=object)"
      ]
     },
     "execution_count": 187,
     "metadata": {},
     "output_type": "execute_result"
    }
   ],
   "source": [
    "df['source'].unique()"
   ]
  },
  {
   "cell_type": "code",
   "execution_count": 172,
   "id": "fd3b481e",
   "metadata": {},
   "outputs": [],
   "source": [
    "df_test.to_csv('../data/categories_test_data/apple_test_data.csv')"
   ]
  },
  {
   "cell_type": "code",
   "execution_count": 193,
   "id": "34852fa2",
   "metadata": {},
   "outputs": [
    {
     "name": "stderr",
     "output_type": "stream",
     "text": [
      "100%|███████████████████████████████████████████| 50/50 [00:05<00:00,  9.58it/s]\n"
     ]
    }
   ],
   "source": [
    "# Step 1 run results with gemini \n",
    "prompt = generate_prompt_categories('Apple')\n",
    "results = run_llm_label_flow_gemini(sentiment_dict, prompt, list(sentiment_dict.keys()), df_test, label_name='llm_label')"
   ]
  },
  {
   "cell_type": "code",
   "execution_count": 194,
   "id": "f236aa62",
   "metadata": {},
   "outputs": [],
   "source": [
    "results.to_csv('../data/categories_test_data/apple_test_data.csv')"
   ]
  },
  {
   "cell_type": "code",
   "execution_count": 190,
   "id": "2b8527e5",
   "metadata": {},
   "outputs": [
    {
     "data": {
      "text/plain": [
       "array([nan, 'reddit'], dtype=object)"
      ]
     },
     "execution_count": 190,
     "metadata": {},
     "output_type": "execute_result"
    }
   ],
   "source": [
    "df['pageType'].unique()"
   ]
  },
  {
   "cell_type": "code",
   "execution_count": 196,
   "id": "44afc355",
   "metadata": {},
   "outputs": [
    {
     "name": "stderr",
     "output_type": "stream",
     "text": [
      "100%|███████████████████████████████████████| 5000/5000 [08:41<00:00,  9.58it/s]\n"
     ]
    },
    {
     "name": "stdout",
     "output_type": "stream",
     "text": [
      "The label distribution for categories amazon is: \n",
      " with singular results\n",
      "llm_label\n",
      "1    0.768676\n",
      "2    0.153215\n",
      "0    0.078109\n",
      "Name: count, dtype: float64\n",
      "The label distribution for categories amazon is: \n",
      " with all results\n",
      "llm_label\n",
      "1.0    0.767809\n",
      "2.0    0.160416\n",
      "0.0    0.071775\n",
      "Name: count, dtype: float64\n",
      "Complete\n"
     ]
    },
    {
     "name": "stderr",
     "output_type": "stream",
     "text": [
      "100%|███████████████████████████████████████| 5000/5000 [08:42<00:00,  9.58it/s]\n"
     ]
    },
    {
     "name": "stdout",
     "output_type": "stream",
     "text": [
      "The label distribution for categories apple is: \n",
      " with singular results\n",
      "llm_label\n",
      "1    0.476697\n",
      "2    0.353757\n",
      "0    0.169546\n",
      "Name: count, dtype: float64\n",
      "The label distribution for categories apple is: \n",
      " with all results\n",
      "llm_label\n",
      "1.0    0.448908\n",
      "2.0    0.383416\n",
      "0.0    0.167676\n",
      "Name: count, dtype: float64\n",
      "Complete\n"
     ]
    },
    {
     "name": "stderr",
     "output_type": "stream",
     "text": [
      "100%|███████████████████████████████████████| 5000/5000 [08:42<00:00,  9.57it/s]\n"
     ]
    },
    {
     "name": "stdout",
     "output_type": "stream",
     "text": [
      "The label distribution for categories google is: \n",
      " with singular results\n",
      "llm_label\n",
      "1    0.641077\n",
      "2    0.235732\n",
      "0    0.123191\n",
      "Name: count, dtype: float64\n",
      "The label distribution for categories google is: \n",
      " with all results\n",
      "llm_label\n",
      "1.0    0.629382\n",
      "2.0    0.253571\n",
      "0.0    0.117047\n",
      "Name: count, dtype: float64\n",
      "Complete\n"
     ]
    },
    {
     "name": "stderr",
     "output_type": "stream",
     "text": [
      "100%|███████████████████████████████████████| 5000/5000 [08:43<00:00,  9.55it/s]\n"
     ]
    },
    {
     "name": "stdout",
     "output_type": "stream",
     "text": [
      "The label distribution for categories meta is: \n",
      " with singular results\n",
      "llm_label\n",
      "1    0.519864\n",
      "2    0.333266\n",
      "0    0.146870\n",
      "Name: count, dtype: float64\n",
      "The label distribution for categories meta is: \n",
      " with all results\n",
      "llm_label\n",
      "1.0    0.495747\n",
      "2.0    0.356742\n",
      "0.0    0.147511\n",
      "Name: count, dtype: float64\n",
      "Complete\n"
     ]
    },
    {
     "name": "stderr",
     "output_type": "stream",
     "text": [
      "100%|███████████████████████████████████████| 5000/5000 [08:42<00:00,  9.57it/s]\n"
     ]
    },
    {
     "name": "stdout",
     "output_type": "stream",
     "text": [
      "The label distribution for categories microsoft is: \n",
      " with singular results\n",
      "llm_label\n",
      "1    0.643287\n",
      "2    0.196593\n",
      "0    0.160120\n",
      "Name: count, dtype: float64\n",
      "The label distribution for categories microsoft is: \n",
      " with all results\n",
      "llm_label\n",
      "1.0    0.634950\n",
      "2.0    0.210292\n",
      "0.0    0.154757\n",
      "Name: count, dtype: float64\n",
      "Complete\n"
     ]
    }
   ],
   "source": [
    "tags = ['amazon','apple','google','meta','microsoft']\n",
    "querys = ['categories' for i in range(len(tags))]\n",
    "\n",
    "for query,tag in zip(querys,tags):\n",
    "    make_preds_categories(query,tag)"
   ]
  },
  {
   "cell_type": "markdown",
   "id": "94372824",
   "metadata": {},
   "source": [
    "# Load in final preds data "
   ]
  },
  {
   "cell_type": "code",
   "execution_count": 197,
   "id": "89789e83",
   "metadata": {},
   "outputs": [],
   "source": [
    "headsets_predictions = glob.glob('../data/predictions/headsets/*')\n",
    "data = []\n",
    "for path in headsets_predictions:\n",
    "    df = pd.read_json(path,orient='records',lines=True)\n",
    "    data.append(df)\n",
    "all_headsets_preds = pd.concat(data).reset_index(drop=True)\n",
    "all_headsets_preds['query'] = 'headsets'\n",
    "all_headsets_preds.to_json('../data/predictions/final_preds/headsets.json',orient='records',lines=True)"
   ]
  },
  {
   "cell_type": "code",
   "execution_count": 199,
   "id": "5c33e84b",
   "metadata": {},
   "outputs": [],
   "source": [
    "categories_predictions = glob.glob('../data/predictions/categories/*')\n",
    "data = []\n",
    "for path in categories_predictions:\n",
    "    df = pd.read_json(path,orient='records',lines=True)\n",
    "    data.append(df)\n",
    "all_cat_preds = pd.concat(data).reset_index(drop=True)\n",
    "all_cat_preds['query'] = 'categories'\n",
    "all_cat_preds.to_json('../data/predictions/final_preds/categories.json',orient='records',lines=True)"
   ]
  },
  {
   "cell_type": "markdown",
   "id": "8a24306c",
   "metadata": {},
   "source": [
    "# Combine ALL predictions into one single dataframe "
   ]
  },
  {
   "cell_type": "code",
   "execution_count": 200,
   "id": "e9b80163",
   "metadata": {},
   "outputs": [],
   "source": [
    "all_predictions = glob.glob('../data/predictions/final_preds/*')\n",
    "data = []\n",
    "for path in all_predictions:\n",
    "    df = pd.read_json(path,orient='records',lines=True)\n",
    "    data.append(df)\n",
    "all_preds = pd.concat(data).reset_index(drop=True)\n",
    "all_preds.to_json('../data/predictions/final_preds/all_preds.json',orient='records',lines=True)"
   ]
  }
 ],
 "metadata": {
  "kernelspec": {
   "display_name": "llm_eval_env",
   "language": "python",
   "name": "llm_eval_env"
  },
  "language_info": {
   "codemirror_mode": {
    "name": "ipython",
    "version": 3
   },
   "file_extension": ".py",
   "mimetype": "text/x-python",
   "name": "python",
   "nbconvert_exporter": "python",
   "pygments_lexer": "ipython3",
   "version": "3.10.13"
  }
 },
 "nbformat": 4,
 "nbformat_minor": 5
}
