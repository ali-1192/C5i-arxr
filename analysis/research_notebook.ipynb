{
 "cells": [
  {
   "cell_type": "code",
   "execution_count": 81,
   "id": "6450da91",
   "metadata": {},
   "outputs": [],
   "source": [
    "import glob\n",
    "import os\n",
    "import ast\n",
    "import pandas as pd\n",
    "import google.cloud.aiplatform as aiplatform\n",
    "%reload_ext autoreload\n",
    "%autoreload 2\n",
    "from utils import run_llm_label_flow,load_in_data,grab_specific_tag_data_breakdown_test_and_train,chunk_dataframe_into_batches,run_llm_label_flow_gemini\n",
    "from constants import query_tags,sentiment_dict\n",
    "from sklearn.metrics import classification_report\n",
    "pd.set_option('max_colwidth', 800)"
   ]
  },
  {
   "cell_type": "code",
   "execution_count": 2,
   "id": "81c0d7dd",
   "metadata": {},
   "outputs": [],
   "source": [
    "# !pip3 install --upgrade --user google-cloud-aiplatform"
   ]
  },
  {
   "cell_type": "code",
   "execution_count": 7,
   "id": "25e497cd",
   "metadata": {},
   "outputs": [],
   "source": [
    "from vertexai.preview.generative_models import GenerativeModel, Part\n",
    "os.environ[\"GOOGLE_APPLICATION_CREDENTIALS\"] = \"credentials_gpe-analytics.json\"\n",
    "pid = 'gpe-analytics'\n",
    "aiplatform.init(project=pid)\n",
    "\n",
    "model = GenerativeModel(\"gemini-pro\")\n",
    "\n",
    "# def get_chat_response(message):\n",
    "# vertexai.init(project=\"gpe-analytics\", location=\"us-central1\")\n",
    "# model = GenerativeModel(\"gemini-pro\")\n",
    "# chat = model.start_chat()\n",
    "# response = chat.send_message(message)\n",
    "# return response.text"
   ]
  },
  {
   "cell_type": "markdown",
   "id": "28ac4295",
   "metadata": {},
   "source": [
    "# Notes\n",
    "\n",
    "\n",
    "\n",
    "1. Note that sentiment is gathered for each UNIQUE sentiment to reduce load and then remapped to all data that has that snippet for faster processing time "
   ]
  },
  {
   "cell_type": "markdown",
   "id": "a434b6a7",
   "metadata": {},
   "source": [
    "# Glasses Sentiment Analysis "
   ]
  },
  {
   "cell_type": "code",
   "execution_count": 2,
   "id": "b4585a85",
   "metadata": {},
   "outputs": [],
   "source": [
    "glasses_data = load_in_data('glasses')"
   ]
  },
  {
   "cell_type": "markdown",
   "id": "e0b78c90",
   "metadata": {},
   "source": [
    "##  Google Tag "
   ]
  },
  {
   "cell_type": "code",
   "execution_count": 3,
   "id": "69f00182",
   "metadata": {},
   "outputs": [],
   "source": [
    "google_glasses_data, unique_google_glasses_data, excluded_uid_google_glasses, google_glasses_train, google_glasses_test = grab_specific_tag_data_breakdown_test_and_train(glasses_data,'google')"
   ]
  },
  {
   "cell_type": "code",
   "execution_count": 85,
   "id": "28eb01c9",
   "metadata": {},
   "outputs": [
    {
     "data": {
      "text/plain": [
       "(5000, 3176, 1824, 1824)"
      ]
     },
     "execution_count": 85,
     "metadata": {},
     "output_type": "execute_result"
    }
   ],
   "source": [
    "# Verification\n",
    "len(google_glasses_data), len(unique_google_glasses_data), len(excluded_uid_google_glasses), len(google_glasses_data)-len(unique_google_glasses_data)"
   ]
  },
  {
   "cell_type": "code",
   "execution_count": 55,
   "id": "dbadf2bf",
   "metadata": {
    "scrolled": true
   },
   "outputs": [
    {
     "name": "stdout",
     "output_type": "stream",
     "text": [
      "@PhilRay62 @openshutter21 @VisualsbySauter Google glass 😮\n",
      "\n",
      "@MrAwesomeSays @MKBHD Same happened to Google glass\n",
      "\n",
      "Let’s not forget the Google glass commercial because she didn’t have to go that hard 😭\n",
      "\n",
      "@streachybear @LiuSkin I wanna make her worse. Get AI voices, hypno programs, turn my place into a smart home where I cannot escape her watch, add screens for her to command me no matter where I go, wear those stupid google glasses from ages ago, downgrade my pc account to guest and make her admin...\n",
      "\n",
      "and we'll continue to look at ways to bring new, innovative AR experiences across our product portfolio.” I know at least one TC staffer who is gutted by the inevitable second death of Google Glass. I won't call them out by name, but will say that I...\n",
      "\n",
      "Google glass wouldn't have failed if it simply superimposed an anime girl into my daily life\n",
      "\n",
      "Hard to square track record of product quality from Apple with the sheer ambition + promises made in the release video given experiences with products like it in the past (Snap Spectacles, Google Glass, lol). But if anyone can do it, it is Apple.\n",
      "\n",
      "RT @adamrsweet_ @krishnanrohit Here's a list of the top 50 Google products that have been killed in the last decade or so: Google Reader Google Wave Google Buzz Google+ Google Glass (Explorer Edition) Google Notebooki GooglePicasa Google Talk Google Video Google Health Google Labs Google Answers Google News…\n",
      "\n",
      "@CixLiv Back in the Google Glass days.. We called them Glassholes.\n",
      "\n",
      "@IwriteOK Some of us remember Google Glass *shutters*\n",
      "\n",
      "RT @stealthygeek If you thought Google Glass didn't make you look enough of a punchable dork, Apple has you covered. https://t.co/QzGUdSFzMy\n",
      "\n",
      "@ianzelbo @Humane @NALC3D Just like Google Glass got the name Glass-Hole this will be given the name Pin-Hole.\n",
      "\n",
      "RT @AndroidPolice Google's future AR glasses might have a different input method to the Google Glass https://t.co/7jl8wHS5st\n",
      "\n",
      "@TylerGlaiel They used to call the early adopters of Google Glass 'glassholes'. Really can't wait for what the internet comes up for this generation 🤣\n",
      "\n",
      "RIP Google Glass: de gadget is dood, alweer https://t.co/eyTPW4SJkw https://t.co/fAresJZiNV\n",
      "\n",
      "@lawofruby “I promise I absolutely will not be wearing a wire, or Google Glasses while present for the anonymous jury selection. Pinky swear.”\n",
      "\n",
      "So Apple Vision Pro is just a bulkier Google Glasses #WWDC2023\n",
      "\n",
      "...???????40.6??-47????????58%?????????????????????????????????? ... ... ?????????????????Snapchat????????Snap???????????Spectacles??????????????????????????Google Glass??????????????iPhone?????????????????????????? stratechery ??? Ben Thompson ?????????????...\n",
      "\n",
      "@20thcenturymarc Wonder if it'll go the same way as Google Glass🤔 A cool idea - and definitely will have some applications.\n",
      "\n",
      "@MKBHD AVP is going to fail like the Google Glasses, unless the price is dropped and the form factor is made less awkward.\n",
      "\n",
      "RT @fabrizio_degni Another candidate for the #Google #Cemetery: the #Iris #Smartglasses Project. It was the plan for #AugmentedReality smart glasses as successor of the well know #GoogleGlasses. Reason?It seems to keep focusing on the #software than #devices. Source: https://t.co/VGgfe89sov #AR https://t.co/VipvMI9hi9\n",
      "\n",
      "@ddofinternet Yes true I read it on my googleglasses https://t.co/CFKkAbbkAB\n",
      "\n",
      "@LibertyCappy Google Glass\n",
      "\n",
      "@iamtheaardvark As everyone knows the biggest problem people had with Google Glass was that it was too understated so I'm glad they addressed that\n",
      "\n",
      "Can someone tell me what happened to the Google Glasses? I’m afraid the EV’s will face the same fate! BUT, love American innovation & ingenuity!! 🇺🇸🙏🏽🙏🏼\n",
      "\n"
     ]
    }
   ],
   "source": [
    "# Grab labels from gemini\n",
    "for x,y in zip(google_glasses_test[25:]['Snippet'],google_glasses_test[25:]['Url']):\n",
    "    print(x+'\\n')\n"
   ]
  },
  {
   "cell_type": "code",
   "execution_count": 5,
   "id": "e565641d",
   "metadata": {},
   "outputs": [],
   "source": [
    "gemini_labels = {\n",
    "    \"Google Glass really was ahead of it’s time\": \"positive\",\n",
    "    \"Once again, Google kills Google Glass#DeathOfGoogleGlass\": \"negative\",\n",
    "    \"Reminds me of this funny Google Glass parody from Rocket Jump.\": \"neutral\",\n",
    "    \"Everyone is reacting to Apple's AR/VR glasses like Google Glass wasn't around 10 years ago.\": \"neutral\",\n",
    "    \"$GOOGL Google Glass Is Going Away, Again\": \"negative\",\n",
    "    \"Kim Hanbin said during Poseidon performance he couldn't see anything because he was wearing google glass\": \"neutral\",\n",
    "    \"First google glasses. Now Apple VisionPro. 3rd time is a charm. Who will be the Tesla of AR?\": \"neutral\",\n",
    "    \"...just float things in in front of you. Google Glass, Nreal Air, and Vuzix Blade 2 are examples of this. Pokémon Go is often cited as an AR app, and this often gets conflated with the fact that you play it out in the real world. That's just location-based...\": \"neutral\",\n",
    "    \"RT @ZGJR When I first used Google Glass during live #surgery in 2013, becoming the first surgeon to ever do that, all I did was to use the technology differently, to augment me as surgeon and educator! The smart application of #technology empowers connectivity an…\": \"positive\",\n",
    "    \"...technologies that combine the properties of augmented and virtual reality. Augmented Reality blends software with the real world by overlaying graphics over the user's surroundings, similar to Google Glass. In comparison, virtual reality includes the...\": \"neutral\",\n",
    "    \"RT @KILLIaKILL google glass that makes you call your grandpa\": \"neutral\",\n",
    "    \"What about Google glasses - where's it now? Was really good idea and device\": \"neutral\",\n",
    "    \"Google glass runs 0 android apps. None nada. It can show you the weather and take pictures.\": \"negative\",\n",
    "    \"...shows Hollywood cameramen shooting movies with iPhones. The piece ends with what could only be seen as an ominous technological development for the Society of Camera Operators: Google Glass , which has the potential to turn every single person into a...\": \"negative\",\n",
    "    \"this was my original hope with Google Glass, sadly,\": \"negative\",\n",
    "    \"Isn't this just google glass updated?\": \"neutral\",\n",
    "    \"fair I'm just glad to see the AR scene isn't married to the bulky headsets after how google glass was drove into the ground.\": \"positive\",\n",
    "    \"I had Google Glass, this looks cool. It will be interesting to see as we get closer to launch what it really is.\": \"neutral\",\n",
    "    \"#Meta has released a new pair of #SmartGlasses from #RayBan. As a prior owner of #GoogleGlass, I give my initial impressions and take some sweet footage of doggies in my backyard! My Video:\": \"neutral\",\n",
    "    \"If (now defunct) Delorean made trucks, Cybertrucks would be it! Definitely like the vehicles in 80's sci-fi movies, but also (slightly) reminds me of the Hummer HX that was halted when General Motors filed for bankruptcy in 2009. *All said, Google Glass was futuristic\": \"neutral\",\n",
    "    \"Agree, but because of their own created hype it’s going to be their iPhone or a Google glasses moment?\": \"neutral\",\n",
    "    \"...hardware divisions at Google might try to build a rival product, so they are keeping the project under wraps. Despite the challenges, it seems that Google is not giving up on augmented reality (AR) glasses altogether. Reports from South Korean outlet SBS...\": \"neutral\",\n",
    "    \"...by Google Lens now. Was Lens software inside the augmented-reality glasses prototyped at Google I/0 2022? Unconfirmed, but quite possible. Google CEO Sundar Pichai opined for a world filled with augmented reality accessed without a smartphone at the...\": \"neutral\",\n",
    "    \"👾 RGB gaming Chromebooks have arrived // ✨ Los Chromebooks para juegos RGB han llegado 🚨🚨 Follow 👉🏻 thedailytechh para saber las Últimas noticias Tech ! #thedailytechh #google #googleleads #googleleaks #googlenews #googletech #googletechnology #googleglass #rgbgamingpc #rgbgamingsetup #rgbgaming #rgb #googlestore #googlenest...\": \"neutral\",\n",
    "    \"Iq using google glasses vs solis using oculus rift\": \"neutral\",\n",
    "    \"Google glass 😮\": \"positive\",\n",
    "    \"Same happened to Google glass\": \"negative\",\n",
    "    \"Let’s not forget the Google glass commercial because she didn’t have to go that hard 😭\": \"positive\",\n",
    "    \"I wanna make her worse. Get AI voices, hypno programs, turn my place into a smart home where I cannot escape her watch, add screens for her to command me no matter where I go, wear those stupid google glasses from ages ago, downgrade my pc account to guest and make her admin...\": \"negative\",\n",
    "    \"and we'll continue to look at ways to bring new, innovative AR experiences across our product portfolio.” I know at least one TC staffer who is gutted by the inevitable second death of Google Glass. I won't call them out by name, but will say that I...\": \"negative\",\n",
    "    \"Google glass wouldn't have failed if it simply superimposed an anime girl into my daily life\": \"positive\",\n",
    "    \"Hard to square track record of product quality from Apple with the sheer ambition + promises made in the release video given experiences with products like it in the past (Snap Spectacles, Google Glass, lol). But if anyone can do it, it is Apple.\": \"neutral\",\n",
    "    \"RT @adamrsweet_ @krishnanrohit Here's a list of the top 50 Google products that have been killed in the last decade or so: Google Reader Google Wave Google Buzz Google+ Google Glass (Explorer Edition) Google Notebooki GooglePicasa Google Talk Google Video Google Health Google Labs Google Answers Google News…\": \"negative\",\n",
    "    \"Back in the Google Glass days.. We called them Glassholes.\": \"negative\",\n",
    "    \"Some of us remember Google Glass *shutters*\": \"negative\",\n",
    "    \"RT @stealthygeek If you thought Google Glass didn't make you look enough of a punchable dork, Apple has you covered. https://t.co/QzGUdSFzMy\": \"negative\",\n",
    "    \"Just like Google Glass got the name Glass-Hole this will be given the name Pin-Hole.\": \"negative\",\n",
    "    \"RT @AndroidPolice Google's future AR glasses might have a different input method to the Google Glass https://t.co/7jl8wHS5st\": \"neutral\",\n",
    "    \"They used to call the early adopters of Google Glass 'glassholes'. Really can't wait for what the internet comes up for this generation 🤣\": \"negative\",\n",
    "    \"RIP Google Glass: de gadget is dood, alweer https://t.co/eyTPW4SJkw https://t.co/fAresJZiNV\": \"negative\",\n",
    "    \"“I promise I absolutely will not be wearing a wire, or Google Glasses while present for the anonymous jury selection. Pinky swear.”\": \"neutral\",\n",
    "    \"So Apple Vision Pro is just a bulkier Google Glasses #WWDC2023\": \"negative\",\n",
    "    \"...???????40.6??-47????????58%?????????????????????????????????? ... ... ?????????????????Snapchat????????Snap???????????Spectacles??????????????????????????Google Glass??????????????iPhone?????????????????????????? stratechery ??? Ben Thompson ?????????????...\": \"neutral\",\n",
    "    \"Wonder if it'll go the same way as Google Glass🤔 A cool idea - and definitely will have some applications.\": \"neutral\",\n",
    "    \"AVP is going to fail like the Google Glasses, unless the price is dropped and the form factor is made less awkward.\": \"negative\",\n",
    "    \"RT @fabrizio_degni Another candidate for the #Google #Cemetery: the #Iris #Smartglasses Project. It was the plan for #AugmentedReality smart glasses as successor of the well know #GoogleGlasses. Reason?It seems to keep focusing on the #software than #devices. Source: https://t.co/VGgfe89sov #AR https://t.co/VipvMI9hi9\": \"negative\",\n",
    "    \"Yes true I read it on my googleglasses https://t.co/CFKkAbbkAB\": \"neutral\",\n",
    "    \"Google Glass\": \"neutral\",\n",
    "    \"As everyone knows the biggest problem people had with Google Glass was that it was too understated so I'm glad they addressed that\": \"positive\",\n",
    "    \"Can someone tell me what happened to the Google Glasses? I’m afraid the EV’s will face the same fate! BUT, love American innovation & ingenuity!! 🇺🇸🙏🏽🙏🏼\": \"neutral\",\n",
    "}\n"
   ]
  },
  {
   "cell_type": "code",
   "execution_count": 6,
   "id": "eddf20fc",
   "metadata": {},
   "outputs": [],
   "source": [
    "google_glasses_test['gemini_label'] = list(gemini_labels.values())"
   ]
  },
  {
   "cell_type": "code",
   "execution_count": 64,
   "id": "bce5776b",
   "metadata": {},
   "outputs": [],
   "source": [
    "google_glasses_test.to_csv('../data/glasses_test_data/google_glasses_test.csv')"
   ]
  },
  {
   "cell_type": "markdown",
   "id": "c286d4be",
   "metadata": {},
   "source": [
    "### Compare gemini labels to mine \n"
   ]
  },
  {
   "cell_type": "code",
   "execution_count": 7,
   "id": "7b3eaeda",
   "metadata": {},
   "outputs": [],
   "source": [
    "google_glasses_test = pd.read_csv('../data/glasses_test_data/google_glasses_test.csv')"
   ]
  },
  {
   "cell_type": "code",
   "execution_count": 8,
   "id": "c506d5e7",
   "metadata": {},
   "outputs": [],
   "source": [
    "google_glasses_test['gemini_label'] = google_glasses_test['gemini_label'].apply(lambda x: sentiment_dict[x])"
   ]
  },
  {
   "cell_type": "code",
   "execution_count": 9,
   "id": "1210d023",
   "metadata": {},
   "outputs": [],
   "source": [
    "google_glasses_test['disagreement'] = google_glasses_test.apply(lambda x: x.gemini_label!=x.true_label,axis=1)"
   ]
  },
  {
   "cell_type": "code",
   "execution_count": 10,
   "id": "0b17f44f",
   "metadata": {},
   "outputs": [
    {
     "name": "stdout",
     "output_type": "stream",
     "text": [
      "              precision    recall  f1-score   support\n",
      "\n",
      "           0       0.89      0.89      0.89        18\n",
      "           1       0.88      0.88      0.88        25\n",
      "           2       0.57      0.57      0.57         7\n",
      "\n",
      "    accuracy                           0.84        50\n",
      "   macro avg       0.78      0.78      0.78        50\n",
      "weighted avg       0.84      0.84      0.84        50\n",
      "\n"
     ]
    }
   ],
   "source": [
    "print(classification_report(google_glasses_test['true_label'],google_glasses_test['gemini_label']))"
   ]
  },
  {
   "cell_type": "code",
   "execution_count": 100,
   "id": "72a01d33",
   "metadata": {},
   "outputs": [
    {
     "data": {
      "text/plain": [
       "llm_label\n",
       "1    0.50\n",
       "0    0.34\n",
       "2    0.16\n",
       "Name: count, dtype: float64"
      ]
     },
     "execution_count": 100,
     "metadata": {},
     "output_type": "execute_result"
    }
   ],
   "source": [
    "google_glasses_test['llm_label'].value_counts()/len(google_glasses_test)"
   ]
  },
  {
   "cell_type": "code",
   "execution_count": 76,
   "id": "5332465e",
   "metadata": {},
   "outputs": [
    {
     "data": {
      "text/html": [
       "<div>\n",
       "<style scoped>\n",
       "    .dataframe tbody tr th:only-of-type {\n",
       "        vertical-align: middle;\n",
       "    }\n",
       "\n",
       "    .dataframe tbody tr th {\n",
       "        vertical-align: top;\n",
       "    }\n",
       "\n",
       "    .dataframe thead th {\n",
       "        text-align: right;\n",
       "    }\n",
       "</style>\n",
       "<table border=\"1\" class=\"dataframe\">\n",
       "  <thead>\n",
       "    <tr style=\"text-align: right;\">\n",
       "      <th></th>\n",
       "      <th>Snippet</th>\n",
       "      <th>gemini_label</th>\n",
       "      <th>true_label</th>\n",
       "    </tr>\n",
       "  </thead>\n",
       "  <tbody>\n",
       "    <tr>\n",
       "      <th>11</th>\n",
       "      <td>@ThisIsMeIn360VR What about Google glasses - where's it now? Was really good idea and device</td>\n",
       "      <td>1</td>\n",
       "      <td>2</td>\n",
       "    </tr>\n",
       "    <tr>\n",
       "      <th>16</th>\n",
       "      <td>@SodaScarlet fair I'm just glad to see the AR scene isn't married to the bulky headsets after how google glass was drove into the ground.</td>\n",
       "      <td>2</td>\n",
       "      <td>0</td>\n",
       "    </tr>\n",
       "    <tr>\n",
       "      <th>17</th>\n",
       "      <td>@adamhlavac I had Google Glass, this looks cool. It will be interesting to see as we get closer to launch what it really is.</td>\n",
       "      <td>1</td>\n",
       "      <td>2</td>\n",
       "    </tr>\n",
       "    <tr>\n",
       "      <th>19</th>\n",
       "      <td>@teslaownersSV If (now defunct) Delorean made trucks, Cybertrucks would be it! Definitely like the vehicles in 80's sci-fi movies, but also (slightly) reminds me of the Hummer HX that was halted when General Motors filed for bankruptcy in 2009. *All said, Google Glass was futuristic https://t.co/mgUfYzyI2g</td>\n",
       "      <td>1</td>\n",
       "      <td>2</td>\n",
       "    </tr>\n",
       "    <tr>\n",
       "      <th>26</th>\n",
       "      <td>@MrAwesomeSays @MKBHD Same happened to Google glass</td>\n",
       "      <td>0</td>\n",
       "      <td>1</td>\n",
       "    </tr>\n",
       "    <tr>\n",
       "      <th>27</th>\n",
       "      <td>Let’s not forget the Google glass commercial because she didn’t have to go that hard 😭</td>\n",
       "      <td>2</td>\n",
       "      <td>1</td>\n",
       "    </tr>\n",
       "    <tr>\n",
       "      <th>30</th>\n",
       "      <td>Google glass wouldn't have failed if it simply superimposed an anime girl into my daily life</td>\n",
       "      <td>2</td>\n",
       "      <td>0</td>\n",
       "    </tr>\n",
       "    <tr>\n",
       "      <th>41</th>\n",
       "      <td>So Apple Vision Pro is just a bulkier Google Glasses #WWDC2023</td>\n",
       "      <td>0</td>\n",
       "      <td>1</td>\n",
       "    </tr>\n",
       "  </tbody>\n",
       "</table>\n",
       "</div>"
      ],
      "text/plain": [
       "                                                                                                                                                                                                                                                                                                                Snippet  \\\n",
       "11                                                                                                                                                                                                                         @ThisIsMeIn360VR What about Google glasses - where's it now? Was really good idea and device   \n",
       "16                                                                                                                                                                            @SodaScarlet fair I'm just glad to see the AR scene isn't married to the bulky headsets after how google glass was drove into the ground.   \n",
       "17                                                                                                                                                                                         @adamhlavac I had Google Glass, this looks cool. It will be interesting to see as we get closer to launch what it really is.   \n",
       "19  @teslaownersSV If (now defunct) Delorean made trucks, Cybertrucks would be it! Definitely like the vehicles in 80's sci-fi movies, but also (slightly) reminds me of the Hummer HX that was halted when General Motors filed for bankruptcy in 2009. *All said, Google Glass was futuristic https://t.co/mgUfYzyI2g   \n",
       "26                                                                                                                                                                                                                                                                  @MrAwesomeSays @MKBHD Same happened to Google glass   \n",
       "27                                                                                                                                                                                                                               Let’s not forget the Google glass commercial because she didn’t have to go that hard 😭   \n",
       "30                                                                                                                                                                                                                         Google glass wouldn't have failed if it simply superimposed an anime girl into my daily life   \n",
       "41                                                                                                                                                                                                                                                       So Apple Vision Pro is just a bulkier Google Glasses #WWDC2023   \n",
       "\n",
       "    gemini_label  true_label  \n",
       "11             1           2  \n",
       "16             2           0  \n",
       "17             1           2  \n",
       "19             1           2  \n",
       "26             0           1  \n",
       "27             2           1  \n",
       "30             2           0  \n",
       "41             0           1  "
      ]
     },
     "execution_count": 76,
     "metadata": {},
     "output_type": "execute_result"
    }
   ],
   "source": [
    "google_glasses_test.loc[google_glasses_test['disagreement']==True][['Snippet','gemini_label','true_label']]"
   ]
  },
  {
   "cell_type": "code",
   "execution_count": 81,
   "id": "8cd04bcf",
   "metadata": {},
   "outputs": [],
   "source": [
    "test = {\n",
    " \"What about Google glasses - where's it now? Was really good idea and device\": \"positive\",\n",
    " \"fair I'm just glad to see the AR scene isn't married to the bulky headsets after how google glass was drove into the ground.\": \"positive\",\n",
    " 'I had Google Glass, this looks cool. It will be interesting to see as we get closer to launch what it really is.': \"neutral\",\n",
    " \"If (now defunct) Delorean made trucks, Cybertrucks would be it! Definitely like the vehicles in 80's sci-fi movies, but also (slightly) reminds me of the Hummer HX that was halted when General Motors filed for bankruptcy in 2009. *All said, Google Glass was futuristic\": \"positive\",\n",
    " 'Same happened to Google glass': \"negative\",\n",
    " 'Let’s not forget the Google glass commercial because she didn’t have to go that hard 😭': \"positive\",\n",
    " \"Google glass wouldn't have failed if it simply superimposed an anime girl into my daily life\": \"positive\",\n",
    " 'So Apple Vision Pro is just a bulkier Google Glasses #WWDC2023': \"negative\"\n",
    "}\n",
    "values = list(test.values())"
   ]
  },
  {
   "cell_type": "code",
   "execution_count": 83,
   "id": "4da4e77e",
   "metadata": {},
   "outputs": [],
   "source": [
    "values = [sentiment_dict[x] for x in values]"
   ]
  },
  {
   "cell_type": "code",
   "execution_count": 118,
   "id": "0714c760",
   "metadata": {},
   "outputs": [
    {
     "data": {
      "text/plain": [
       "[2, 2, 1, 2, 0, 2, 2, 0]"
      ]
     },
     "execution_count": 118,
     "metadata": {},
     "output_type": "execute_result"
    }
   ],
   "source": [
    "values"
   ]
  },
  {
   "cell_type": "code",
   "execution_count": null,
   "id": "ad322ef4",
   "metadata": {},
   "outputs": [],
   "source": [
    "[\"positive\", \"positive\", \"neutral\", \"neutral\", \"negative\", \"negative\", \"negative\", \"negative\", \"neutral\"]"
   ]
  },
  {
   "cell_type": "code",
   "execution_count": 84,
   "id": "fd2490af",
   "metadata": {},
   "outputs": [],
   "source": [
    "google_glasses_test.loc[google_glasses_test['disagreement']==True,'gemini_label'] = values"
   ]
  },
  {
   "cell_type": "code",
   "execution_count": 85,
   "id": "ae4a0ef0",
   "metadata": {},
   "outputs": [
    {
     "name": "stdout",
     "output_type": "stream",
     "text": [
      "              precision    recall  f1-score   support\n",
      "\n",
      "           0       0.89      0.89      0.89        18\n",
      "           1       0.96      0.88      0.92        25\n",
      "           2       0.67      0.86      0.75         7\n",
      "\n",
      "    accuracy                           0.88        50\n",
      "   macro avg       0.84      0.88      0.85        50\n",
      "weighted avg       0.89      0.88      0.88        50\n",
      "\n"
     ]
    }
   ],
   "source": [
    "# Stick to 90% accuracy\n",
    "print(classification_report(google_glasses_test['true_label'],google_glasses_test['gemini_label']))"
   ]
  },
  {
   "cell_type": "code",
   "execution_count": 11,
   "id": "02083544",
   "metadata": {},
   "outputs": [],
   "source": [
    "# Confirm batch job works\n",
    "google_glasses_batched_test = chunk_dataframe_into_batches(google_glasses_test,20)"
   ]
  },
  {
   "cell_type": "code",
   "execution_count": 12,
   "id": "c088fde7",
   "metadata": {},
   "outputs": [],
   "source": [
    "test_dict = {uid:text for uid,text in zip(google_glasses_batched_test[0]['uids'],google_glasses_batched_test[0]['texts'])}"
   ]
  },
  {
   "cell_type": "code",
   "execution_count": 90,
   "id": "7b9b643a",
   "metadata": {},
   "outputs": [],
   "source": [
    "# NOTE make predictions ONLLLLLLY on unique snippets \n",
    "test_prompt = \"\"\"Hi Gemini! I want you to act as an expert in sentiment! \n",
    "I am trying to get read on what the sentiment is for each post SPECIFIC to Google Glasses. \n",
    "I.e. is the sentiment, positive, negative, or neutral TOWARDS Google Glasses.\n",
    "Think through your answer, and remind yourself is this SPECIFICALLY POSITIVE, NEGATIVE, or NEUTRAL towards Google Glasses, or is this tone just\n",
    "positive,negative,neutral in general.\n",
    "My life depends on getting the entity-specifc answer correct! \n",
    "Again when labeling the sentiment label it under the condition of its SPECIFIC sentiment towards Google Glasses\n",
    "\\n Return the labels in the form: {\"link\": sentiment\",...} in the order of the posts \n",
    "\n",
    "Posts:\"\"\"\n",
    "\n",
    "\n",
    "\n",
    "\n",
    "test_prompt_text_bison = \"\"\"I want you to act as an expert in sentiment! \n",
    "I am trying to get read on what the sentiment is for each post SPECIFIC to Google Glasses. \n",
    "I.e. is the sentiment, positive, negative, or neutral TOWARDS Google Glasses.\n",
    "Think through your answer, and remind yourself is this SPECIFICALLY POSITIVE, NEGATIVE, or NEUTRAL towards Google Glasses, or is this tone just\n",
    "positive,negative,neutral in general.\n",
    "My life depends on getting the entity-specifc answer correct! \n",
    "Again when labeling the sentiment label it under the condition of its SPECIFIC sentiment towards Google Glasses\n",
    "\\n Output: -positive, -negative, -neutral. \n",
    "\n",
    "Posts:\"\"\""
   ]
  },
  {
   "cell_type": "code",
   "execution_count": 85,
   "id": "e0f84c27",
   "metadata": {},
   "outputs": [],
   "source": [
    "google_glasses_test = google_glasses_test.rename(columns={'Url':'uid','Snippet':'text'})"
   ]
  },
  {
   "cell_type": "code",
   "execution_count": 95,
   "id": "faac6bec",
   "metadata": {},
   "outputs": [
    {
     "name": "stderr",
     "output_type": "stream",
     "text": [
      "100%|███████████████████████████████████████████| 50/50 [00:02<00:00, 18.61it/s]\n"
     ]
    }
   ],
   "source": [
    "results_test_tb = run_llm_label_flow(sentiment_dict, test_prompt_text_bison, ['positive','negative','neutral'], google_glasses_test, label_name='llm_label')"
   ]
  },
  {
   "cell_type": "code",
   "execution_count": 98,
   "id": "a84ec5f7",
   "metadata": {},
   "outputs": [
    {
     "name": "stdout",
     "output_type": "stream",
     "text": [
      "              precision    recall  f1-score   support\n",
      "\n",
      "           0       0.68      0.94      0.79        18\n",
      "           1       1.00      0.36      0.53        25\n",
      "           2       0.44      1.00      0.61         7\n",
      "\n",
      "    accuracy                           0.66        50\n",
      "   macro avg       0.71      0.77      0.64        50\n",
      "weighted avg       0.81      0.66      0.63        50\n",
      "\n"
     ]
    }
   ],
   "source": [
    "print(classification_report(results_test_tb['true_label'],results_test_tb['llm_label']))"
   ]
  },
  {
   "cell_type": "code",
   "execution_count": 74,
   "id": "b29b79c0",
   "metadata": {},
   "outputs": [
    {
     "name": "stderr",
     "output_type": "stream",
     "text": [
      "100%|█████████████████████████████████████████████| 3/3 [00:03<00:00,  1.00s/it]\n"
     ]
    }
   ],
   "source": [
    "results_test = run_llm_label_flow_gemini(sentiment_dict, test_prompt, ['placeholder'], google_glasses_batched_test, label_name='llm_label')"
   ]
  },
  {
   "cell_type": "code",
   "execution_count": 105,
   "id": "3826737c",
   "metadata": {},
   "outputs": [],
   "source": [
    "test_data = [k['output'] for k in results_test]"
   ]
  },
  {
   "cell_type": "code",
   "execution_count": 106,
   "id": "d23c40c0",
   "metadata": {},
   "outputs": [
    {
     "data": {
      "text/html": [
       "<div>\n",
       "<style scoped>\n",
       "    .dataframe tbody tr th:only-of-type {\n",
       "        vertical-align: middle;\n",
       "    }\n",
       "\n",
       "    .dataframe tbody tr th {\n",
       "        vertical-align: top;\n",
       "    }\n",
       "\n",
       "    .dataframe thead th {\n",
       "        text-align: right;\n",
       "    }\n",
       "</style>\n",
       "<table border=\"1\" class=\"dataframe\">\n",
       "  <thead>\n",
       "    <tr style=\"text-align: right;\">\n",
       "      <th></th>\n",
       "      <th>0</th>\n",
       "    </tr>\n",
       "  </thead>\n",
       "  <tbody>\n",
       "    <tr>\n",
       "      <th>0</th>\n",
       "      <td>{\"http://twitter.com/YabukiJoe517/statuses/1674515275138609155\": 'positive', \"http://twitter.com/bbsutton/statuses/1637450640845840384\": 'negative', \"http://twitter.com/PJBgamer/statuses/1665949808870277121\": 'neutral', \"http://twitter.com/ashleysmithIRL/statuses/1616083462154223616\": 'neutral', \"http://twitter.com/GetOnTrade/statuses/1636420835434184705\": 'negative', \"http://twitter.com/SunFlow1022131/statuses/1687878640565137408\": 'neutral', \"http://twitter.com/dc10023/statuses/1666012616731312129\": 'neutral', \"https://www.macworld.com/article/1792115/apples-reality-pro-headset-explained-what-do-ar-vr-and-mr-mean.html\": 'neutral', \"http://twitter.com/roxannriskin/statuses/1639306575159476239\": 'positive', \"https://hitechglitz.com/samsung-google-and-qualcomm-are-joining-forces-to-buil...</td>\n",
       "    </tr>\n",
       "    <tr>\n",
       "      <th>1</th>\n",
       "      <td>{\"http://twitter.com/vvdheuvel/statuses/1722719000004567351\": \"neutral\", \"https://urecomm.com/googles-ar-projects-are-reportedly-facing-even-more-setbacks/\": \"neutral\", \"https://blog.dailyfeedmail.net/5-future-scenarios-for-google-lens/\": \"neutral\", \"https://www.instagram.com/p/Cjq20K7poHw/\": \"neutral\", \"http://twitter.com/ryuu_1320/statuses/1596380853889732608\": \"neutral\", \"http://twitter.com/Denise_W63/statuses/1690731044180283392\": \"positive\", \"http://twitter.com/KrisztianTSzucs/statuses/1665799477771247617\": \"negative\", \"http://twitter.com/samelon28/statuses/1617023474941284353\": \"positive\", \"http://twitter.com/Felhel2/statuses/1672711140982358018\": \"negative\", \"https://xtechnews.com/2023/03/16/goodbye-google-glass-we-knew-you-well/\": \"neutral\", \"http://twitter.com/NeedSumikaWife/s...</td>\n",
       "    </tr>\n",
       "    <tr>\n",
       "      <th>2</th>\n",
       "      <td>{\"http://twitter.com/pabloalto/statuses/1648005736197410817\": \"neutral\", \"http://twitter.com/lakobe2/statuses/1665797441881358337\": \"negative\", \"http://yunjuu.com/info/2096208.html\": \"neutral\", \"http://twitter.com/PFriend82/statuses/1666012973498859523\": \"neutral\", \"http://twitter.com/Kirankool/statuses/1681013076924006400\": \"negative\", \"http://twitter.com/LivingInHM/statuses/1674807619179913218\": \"negative\", \"http://twitter.com/smellycommie/statuses/1657010068578086916\": \"neutral\", \"http://twitter.com/Raidmultinsetos/statuses/1655556754321620992\": \"neutral\", \"http://twitter.com/DECfromOH/statuses/1665793546362707969\": \"negative\", \"http://twitter.com/bfe1973/statuses/1706340615800144141\": \"neutral\"}</td>\n",
       "    </tr>\n",
       "  </tbody>\n",
       "</table>\n",
       "</div>"
      ],
      "text/plain": [
       "                                                                                                                                                                                                                                                                                                                                                                                                                                                                                                                                                                                                                                                                                                                                                                                                                                 0\n",
       "0  {\"http://twitter.com/YabukiJoe517/statuses/1674515275138609155\": 'positive', \"http://twitter.com/bbsutton/statuses/1637450640845840384\": 'negative', \"http://twitter.com/PJBgamer/statuses/1665949808870277121\": 'neutral', \"http://twitter.com/ashleysmithIRL/statuses/1616083462154223616\": 'neutral', \"http://twitter.com/GetOnTrade/statuses/1636420835434184705\": 'negative', \"http://twitter.com/SunFlow1022131/statuses/1687878640565137408\": 'neutral', \"http://twitter.com/dc10023/statuses/1666012616731312129\": 'neutral', \"https://www.macworld.com/article/1792115/apples-reality-pro-headset-explained-what-do-ar-vr-and-mr-mean.html\": 'neutral', \"http://twitter.com/roxannriskin/statuses/1639306575159476239\": 'positive', \"https://hitechglitz.com/samsung-google-and-qualcomm-are-joining-forces-to-buil...\n",
       "1  {\"http://twitter.com/vvdheuvel/statuses/1722719000004567351\": \"neutral\", \"https://urecomm.com/googles-ar-projects-are-reportedly-facing-even-more-setbacks/\": \"neutral\", \"https://blog.dailyfeedmail.net/5-future-scenarios-for-google-lens/\": \"neutral\", \"https://www.instagram.com/p/Cjq20K7poHw/\": \"neutral\", \"http://twitter.com/ryuu_1320/statuses/1596380853889732608\": \"neutral\", \"http://twitter.com/Denise_W63/statuses/1690731044180283392\": \"positive\", \"http://twitter.com/KrisztianTSzucs/statuses/1665799477771247617\": \"negative\", \"http://twitter.com/samelon28/statuses/1617023474941284353\": \"positive\", \"http://twitter.com/Felhel2/statuses/1672711140982358018\": \"negative\", \"https://xtechnews.com/2023/03/16/goodbye-google-glass-we-knew-you-well/\": \"neutral\", \"http://twitter.com/NeedSumikaWife/s...\n",
       "2                                                                                             {\"http://twitter.com/pabloalto/statuses/1648005736197410817\": \"neutral\", \"http://twitter.com/lakobe2/statuses/1665797441881358337\": \"negative\", \"http://yunjuu.com/info/2096208.html\": \"neutral\", \"http://twitter.com/PFriend82/statuses/1666012973498859523\": \"neutral\", \"http://twitter.com/Kirankool/statuses/1681013076924006400\": \"negative\", \"http://twitter.com/LivingInHM/statuses/1674807619179913218\": \"negative\", \"http://twitter.com/smellycommie/statuses/1657010068578086916\": \"neutral\", \"http://twitter.com/Raidmultinsetos/statuses/1655556754321620992\": \"neutral\", \"http://twitter.com/DECfromOH/statuses/1665793546362707969\": \"negative\", \"http://twitter.com/bfe1973/statuses/1706340615800144141\": \"neutral\"}"
      ]
     },
     "execution_count": 106,
     "metadata": {},
     "output_type": "execute_result"
    }
   ],
   "source": []
  },
  {
   "cell_type": "code",
   "execution_count": 34,
   "id": "245a3ddf",
   "metadata": {},
   "outputs": [
    {
     "data": {
      "text/plain": [
       "10"
      ]
     },
     "execution_count": 34,
     "metadata": {},
     "output_type": "execute_result"
    }
   ],
   "source": [
    "len(ast.literal_eval(results_test[2]['output']))"
   ]
  },
  {
   "cell_type": "code",
   "execution_count": 75,
   "id": "3a773459",
   "metadata": {},
   "outputs": [],
   "source": [
    "uid_dict = {}\n",
    "\n",
    "for i in range(len(results_test)):\n",
    "    try:\n",
    "        uid_dict.update(ast.literal_eval(results_test[i]['output']))\n",
    "    except:\n",
    "        print(i,results_test[i]['output'])\n",
    "# def update_dictionary(result_list):\n",
    "#     results_test[0]['output']"
   ]
  },
  {
   "cell_type": "code",
   "execution_count": 27,
   "id": "2acc6a3e",
   "metadata": {},
   "outputs": [
    {
     "data": {
      "text/plain": [
       "48"
      ]
     },
     "execution_count": 27,
     "metadata": {},
     "output_type": "execute_result"
    }
   ],
   "source": [
    "len(test_labels)"
   ]
  },
  {
   "cell_type": "code",
   "execution_count": 63,
   "id": "5f0f91b3",
   "metadata": {},
   "outputs": [],
   "source": [
    "sentiment_dict['sarcastic'] = 0"
   ]
  },
  {
   "cell_type": "code",
   "execution_count": 76,
   "id": "1689c248",
   "metadata": {},
   "outputs": [],
   "source": [
    "google_glasses_test['llm_label'] = google_glasses_test['Url'].apply(lambda x: sentiment_dict[uid_dict[x]])"
   ]
  },
  {
   "cell_type": "code",
   "execution_count": 77,
   "id": "57b7aa2c",
   "metadata": {},
   "outputs": [
    {
     "name": "stdout",
     "output_type": "stream",
     "text": [
      "              precision    recall  f1-score   support\n",
      "\n",
      "           0       0.82      0.78      0.80        18\n",
      "           1       0.84      0.84      0.84        25\n",
      "           2       0.50      0.57      0.53         7\n",
      "\n",
      "    accuracy                           0.78        50\n",
      "   macro avg       0.72      0.73      0.72        50\n",
      "weighted avg       0.79      0.78      0.78        50\n",
      "\n"
     ]
    }
   ],
   "source": [
    "print(classification_report(google_glasses_test['true_label'],google_glasses_test['llm_label']))"
   ]
  },
  {
   "cell_type": "code",
   "execution_count": 78,
   "id": "bd939307",
   "metadata": {},
   "outputs": [],
   "source": [
    "# Look into differences \n",
    "google_glasses_test['disagreement'] = google_glasses_test.apply(lambda x: x.true_label!=x.llm_label,axis=1)"
   ]
  },
  {
   "cell_type": "code",
   "execution_count": 79,
   "id": "a7f9a75d",
   "metadata": {},
   "outputs": [
    {
     "data": {
      "text/html": [
       "<div>\n",
       "<style scoped>\n",
       "    .dataframe tbody tr th:only-of-type {\n",
       "        vertical-align: middle;\n",
       "    }\n",
       "\n",
       "    .dataframe tbody tr th {\n",
       "        vertical-align: top;\n",
       "    }\n",
       "\n",
       "    .dataframe thead th {\n",
       "        text-align: right;\n",
       "    }\n",
       "</style>\n",
       "<table border=\"1\" class=\"dataframe\">\n",
       "  <thead>\n",
       "    <tr style=\"text-align: right;\">\n",
       "      <th></th>\n",
       "      <th>Snippet</th>\n",
       "      <th>true_label</th>\n",
       "      <th>llm_label</th>\n",
       "    </tr>\n",
       "  </thead>\n",
       "  <tbody>\n",
       "    <tr>\n",
       "      <th>13</th>\n",
       "      <td>...shows Hollywood cameramen shooting movies with iPhones. The piece ends with what could only be seen as an ominous technological development for the Society of Camera Operators: Google Glass , which has the potential to turn every single person into a...</td>\n",
       "      <td>0</td>\n",
       "      <td>1</td>\n",
       "    </tr>\n",
       "    <tr>\n",
       "      <th>14</th>\n",
       "      <td>@loftypurple this was my original hope with Google Glass, sadly,</td>\n",
       "      <td>0</td>\n",
       "      <td>2</td>\n",
       "    </tr>\n",
       "    <tr>\n",
       "      <th>17</th>\n",
       "      <td>@adamhlavac I had Google Glass, this looks cool. It will be interesting to see as we get closer to launch what it really is.</td>\n",
       "      <td>2</td>\n",
       "      <td>1</td>\n",
       "    </tr>\n",
       "    <tr>\n",
       "      <th>18</th>\n",
       "      <td>#Meta has released a new pair of #SmartGlasses from #RayBan. As a prior owner of #GoogleGlass, I give my initial impressions and take some sweet footage of doggies in my backyard! My Video: https://t.co/2g0QjQtnFd</td>\n",
       "      <td>1</td>\n",
       "      <td>2</td>\n",
       "    </tr>\n",
       "    <tr>\n",
       "      <th>19</th>\n",
       "      <td>@teslaownersSV If (now defunct) Delorean made trucks, Cybertrucks would be it! Definitely like the vehicles in 80's sci-fi movies, but also (slightly) reminds me of the Hummer HX that was halted when General Motors filed for bankruptcy in 2009. *All said, Google Glass was futuristic https://t.co/mgUfYzyI2g</td>\n",
       "      <td>2</td>\n",
       "      <td>1</td>\n",
       "    </tr>\n",
       "    <tr>\n",
       "      <th>26</th>\n",
       "      <td>@MrAwesomeSays @MKBHD Same happened to Google glass</td>\n",
       "      <td>1</td>\n",
       "      <td>0</td>\n",
       "    </tr>\n",
       "    <tr>\n",
       "      <th>27</th>\n",
       "      <td>Let’s not forget the Google glass commercial because she didn’t have to go that hard 😭</td>\n",
       "      <td>1</td>\n",
       "      <td>2</td>\n",
       "    </tr>\n",
       "    <tr>\n",
       "      <th>29</th>\n",
       "      <td>and we'll continue to look at ways to bring new, innovative AR experiences across our product portfolio.” I know at least one TC staffer who is gutted by the inevitable second death of Google Glass. I won't call them out by name, but will say that I...</td>\n",
       "      <td>0</td>\n",
       "      <td>1</td>\n",
       "    </tr>\n",
       "    <tr>\n",
       "      <th>30</th>\n",
       "      <td>Google glass wouldn't have failed if it simply superimposed an anime girl into my daily life</td>\n",
       "      <td>0</td>\n",
       "      <td>2</td>\n",
       "    </tr>\n",
       "    <tr>\n",
       "      <th>41</th>\n",
       "      <td>So Apple Vision Pro is just a bulkier Google Glasses #WWDC2023</td>\n",
       "      <td>1</td>\n",
       "      <td>0</td>\n",
       "    </tr>\n",
       "    <tr>\n",
       "      <th>48</th>\n",
       "      <td>@iamtheaardvark As everyone knows the biggest problem people had with Google Glass was that it was too understated so I'm glad they addressed that</td>\n",
       "      <td>2</td>\n",
       "      <td>0</td>\n",
       "    </tr>\n",
       "  </tbody>\n",
       "</table>\n",
       "</div>"
      ],
      "text/plain": [
       "                                                                                                                                                                                                                                                                                                                Snippet  \\\n",
       "13                                                     ...shows Hollywood cameramen shooting movies with iPhones. The piece ends with what could only be seen as an ominous technological development for the Society of Camera Operators: Google Glass , which has the potential to turn every single person into a...   \n",
       "14                                                                                                                                                                                                                                                     @loftypurple this was my original hope with Google Glass, sadly,   \n",
       "17                                                                                                                                                                                         @adamhlavac I had Google Glass, this looks cool. It will be interesting to see as we get closer to launch what it really is.   \n",
       "18                                                                                                #Meta has released a new pair of #SmartGlasses from #RayBan. As a prior owner of #GoogleGlass, I give my initial impressions and take some sweet footage of doggies in my backyard! My Video: https://t.co/2g0QjQtnFd   \n",
       "19  @teslaownersSV If (now defunct) Delorean made trucks, Cybertrucks would be it! Definitely like the vehicles in 80's sci-fi movies, but also (slightly) reminds me of the Hummer HX that was halted when General Motors filed for bankruptcy in 2009. *All said, Google Glass was futuristic https://t.co/mgUfYzyI2g   \n",
       "26                                                                                                                                                                                                                                                                  @MrAwesomeSays @MKBHD Same happened to Google glass   \n",
       "27                                                                                                                                                                                                                               Let’s not forget the Google glass commercial because she didn’t have to go that hard 😭   \n",
       "29                                                         and we'll continue to look at ways to bring new, innovative AR experiences across our product portfolio.” I know at least one TC staffer who is gutted by the inevitable second death of Google Glass. I won't call them out by name, but will say that I...   \n",
       "30                                                                                                                                                                                                                         Google glass wouldn't have failed if it simply superimposed an anime girl into my daily life   \n",
       "41                                                                                                                                                                                                                                                       So Apple Vision Pro is just a bulkier Google Glasses #WWDC2023   \n",
       "48                                                                                                                                                                   @iamtheaardvark As everyone knows the biggest problem people had with Google Glass was that it was too understated so I'm glad they addressed that   \n",
       "\n",
       "    true_label  llm_label  \n",
       "13           0          1  \n",
       "14           0          2  \n",
       "17           2          1  \n",
       "18           1          2  \n",
       "19           2          1  \n",
       "26           1          0  \n",
       "27           1          2  \n",
       "29           0          1  \n",
       "30           0          2  \n",
       "41           1          0  \n",
       "48           2          0  "
      ]
     },
     "execution_count": 79,
     "metadata": {},
     "output_type": "execute_result"
    }
   ],
   "source": [
    "google_glasses_test.loc[google_glasses_test['disagreement']==True][['Snippet','true_label','llm_label']]"
   ]
  }
 ],
 "metadata": {
  "kernelspec": {
   "display_name": "llm_eval_env",
   "language": "python",
   "name": "llm_eval_env"
  },
  "language_info": {
   "codemirror_mode": {
    "name": "ipython",
    "version": 3
   },
   "file_extension": ".py",
   "mimetype": "text/x-python",
   "name": "python",
   "nbconvert_exporter": "python",
   "pygments_lexer": "ipython3",
   "version": "3.10.13"
  }
 },
 "nbformat": 4,
 "nbformat_minor": 5
}
