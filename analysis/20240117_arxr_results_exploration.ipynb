{
 "cells": [
  {
   "cell_type": "code",
   "execution_count": 21,
   "id": "d0b735e2",
   "metadata": {},
   "outputs": [],
   "source": [
    "import pandas as pd \n",
    "import os\n",
    "from google.cloud import bigquery\n",
    "sentiment_dict = {0:'negative',1:'neutral',2:'positive'}\n",
    "pd.set_option('max_colwidth', 800)\n",
    "os.environ[\"GOOGLE_APPLICATION_CREDENTIALS\"] = \"credentials_gpe-analytics.json\""
   ]
  },
  {
   "cell_type": "code",
   "execution_count": 5,
   "id": "9bcc8349",
   "metadata": {},
   "outputs": [],
   "source": [
    "client = bigquery.Client()\n",
    "\n",
    "# Perform a query.\n",
    "query = (\n",
    "    'SELECT * FROM `gpe-analytics.project_google_arxr_analytics_20240109.view_dashboard_final_update_v2_distinct`'\n",
    ")\n",
    "query_job = client.query(query)  # API request\n",
    "preds = query_job.to_dataframe()"
   ]
  },
  {
   "cell_type": "code",
   "execution_count": 53,
   "id": "30833d6e",
   "metadata": {},
   "outputs": [],
   "source": [
    "client = bigquery.Client()\n",
    "\n",
    "# Perform a query.\n",
    "query = (\n",
    "    'SELECT text,uid FROM `gpe-analytics.project_google_arxr_analytics_20240109.ar_xr_predictions_update`'\n",
    ")\n",
    "query_job = client.query(query)  # API request\n",
    "preds_other = query_job.to_dataframe()\n",
    "\n"
   ]
  },
  {
   "cell_type": "code",
   "execution_count": 57,
   "id": "40fe3ea4",
   "metadata": {},
   "outputs": [
    {
     "data": {
      "text/plain": [
       "121796"
      ]
     },
     "execution_count": 57,
     "metadata": {},
     "output_type": "execute_result"
    }
   ],
   "source": [
    "len(preds)-61894"
   ]
  },
  {
   "cell_type": "code",
   "execution_count": 55,
   "id": "92578b12",
   "metadata": {},
   "outputs": [
    {
     "data": {
      "text/plain": [
       "61894"
      ]
     },
     "execution_count": 55,
     "metadata": {},
     "output_type": "execute_result"
    }
   ],
   "source": [
    "len(set(preds['text']) - set(preds_other['text']))"
   ]
  },
  {
   "cell_type": "code",
   "execution_count": null,
   "id": "32654a34",
   "metadata": {},
   "outputs": [],
   "source": [
    "# Perform a query.\n",
    "query = (\n",
    "    'SELECT * FROM `gpe-analytics.project_google_arxr_analytics_20240109.view_dashboard_final_update_v2_distinct`'\n",
    ")\n",
    "query_job = client.query(query)  # API request\n",
    "preds = query_job.to_dataframe()"
   ]
  },
  {
   "cell_type": "code",
   "execution_count": null,
   "id": "7f44dff7",
   "metadata": {},
   "outputs": [],
   "source": [
    "android_sentiment\n",
    "neutral     0.783069\n",
    "positive    0.175044\n",
    "negative    0.035714\n",
    "Name: count, dtype: float64\n",
    "        \n",
    "        \n",
    "llm_label\n",
    "positive    0.588624\n",
    "neutral     0.405203\n",
    "negative    0.006173\n",
    "Name: count, dtype: float64"
   ]
  },
  {
   "cell_type": "markdown",
   "id": "63746de6",
   "metadata": {},
   "source": [
    "# Comparison of Android NLP and LLM Label for \n",
    "\n",
    "Google was showing 45.3% negative sentiment and Vuzix was showing 63% positive. \n",
    "\n",
    "\n",
    "\n",
    "\n",
    "\n",
    "Google Glasses Sentiment Discrepancies\n",
    "@Tiffany when I look in the dashboard I see that google glasses has 41.4% negative from the llm_label. @Michelle doing a comparison between the llm_label and our out of box sentiment labels it is pretty comparable, with android_sentiment (our own NLP model) predicting relatively high negative numbers(~38%). Looking at the llm_labels when predicting sentiment, and when the llm_label disagrees with the out of box model, I would argue that the LLM label seems to be more accurate in terms of judging the text based on the entity specific sentiment, not just sentiment as a whole, which was the goal of this project. For reasons why these numbers seem high compared to previous sentiment numbers:\n",
    "\n",
    "1. Our out of box sentiment models are not entity specific. To demonstrate how our out of box sentiment models work let's take two text examples:\n",
    "\n",
    "\"I love apple. Apple is great and amazing and wonderful. Android is the worst brand to ever grace the face of the earth.\" \n",
    "\n",
    "Out-of-box android sentiment model (non-entity specific): Labels this as positive. This is because there are more positive words than negative words in the text.\n",
    "\n",
    "LLM model when asked to label the sentiment of the text based on the entitiy Android: Labels this as negative. \n",
    "\n",
    "\"Can Microsoft succeed where Google failed? The company has recently filed a patent for augmented reality (AR)\"\n",
    "\n",
    "Out-of-box android sentiment model (non-entity specific): Labels this as neutral, this is because there are more neutral words/tones in the text than positive or negative.\n",
    "\n",
    "LLM model when asked to label the sentiment of the text based on the entitiy Google Glasses: Labels this as negative, because contextually it is more negative towards Google. \n",
    "\n",
    "\n",
    "Therefore the extremes of positive and negatives may appear higher than normal compared to non-entity specific models, and even neutrals may appear to be lower than normal as it is now labeling the text based on the entity in question. \n",
    "\n",
    "\n",
    "2. The glasses query happened to capture a lot more negative language.\n",
    "\n",
    "3. We are adding in news sources too, of which many of them did seem relatively negative to google glasses. Typically we don't include news as a source in the analyst dash\n",
    "\n",
    "4. These numbers are correct and on social most people talk negatively about google glasses \n",
    "\n",
    "Moving forward, if the data does not seem truly negative (keeping in mind that that there is about 10-25% of the time both our own out of box models and the llm get the sentiment wrong), then we would need to adjust in the prompt to specific cases for why the text should not be labeled negative. In the image I shared comparing the android_sentiment model and the llm_label, this is a random sample of 15 out of 4073 negative observations. Of this sample, I would agree with the llm_label at least 80% of the time, disagreeing with the non-entity specific label 20% of the time or less.\n",
    "\n",
    "Vuzix Glasses Sentiment Discrepancies\n",
    "Looking at the dashboard I get 58.9% for the llm_label and 18% positive for android sentiment. The percentages are in less agreement with each other. Exploring the data to compare android sentiment and llm sentiment, it is a bit difficult to say which is right due the type of posts being pulled in. For vuzix, we only pulled in 2268 mentions. The majority of those mentions come from twitter (~70%) and of those twitter mentions most appear to be retweeets and promotional. Note that most promotional tweets e.g. \"RT Vuzix and Join Forces to Redefine Smart with Printing. Read more about our latest news on integrating 3D printing into the process for Vuzix’s smart glasses via here: $vuzi\t\" tend to be more positive leaning, especially from an entity perspective. Moving forward, one possible options is to remove retweets (but then the sample size will get smaller), or consider all promotional tweets as neutral, which then the majority will be neutral because the majority of the posts are promotional. I showed the comparison of the android sentiment and llm label below, again note that the LLM model is labeling based on the sentiment specific to Vuzix glasses. The android sentiment model labels these all as neutrals because the majority appear to be promotional, where as the llm is labeling these as positive in respect to Vuzix. @Natalie do you have a particular way you would like to move forward with this example? \n",
    "\n",
    "\n",
    "\n",
    "If none of this made sense, please feel free to ask away with questions, and if anything else comes up in the data ensure you flag me so I can investigate. Thanks! \n"
   ]
  },
  {
   "cell_type": "code",
   "execution_count": 49,
   "id": "dfbd26df",
   "metadata": {},
   "outputs": [
    {
     "data": {
      "text/plain": [
       "updated_source\n",
       "twitter      0.701058\n",
       "news         0.254850\n",
       "reddit       0.033069\n",
       "instagram    0.011023\n",
       "Name: count, dtype: float64"
      ]
     },
     "execution_count": 49,
     "metadata": {},
     "output_type": "execute_result"
    }
   ],
   "source": [
    "vuzix_glasses['updated_source'].value_counts()/len(vuzix_glasses)"
   ]
  },
  {
   "cell_type": "code",
   "execution_count": 50,
   "id": "92cf249e",
   "metadata": {},
   "outputs": [
    {
     "data": {
      "text/html": [
       "<div>\n",
       "<style scoped>\n",
       "    .dataframe tbody tr th:only-of-type {\n",
       "        vertical-align: middle;\n",
       "    }\n",
       "\n",
       "    .dataframe tbody tr th {\n",
       "        vertical-align: top;\n",
       "    }\n",
       "\n",
       "    .dataframe thead th {\n",
       "        text-align: right;\n",
       "    }\n",
       "</style>\n",
       "<table border=\"1\" class=\"dataframe\">\n",
       "  <thead>\n",
       "    <tr style=\"text-align: right;\">\n",
       "      <th></th>\n",
       "      <th>text</th>\n",
       "      <th>updated_source</th>\n",
       "      <th>android_sentiment</th>\n",
       "      <th>llm_label</th>\n",
       "    </tr>\n",
       "  </thead>\n",
       "  <tbody>\n",
       "    <tr>\n",
       "      <th>1850</th>\n",
       "      <td>RT  Partner Spotlight: 's PxLens is a wearable headset powered by Vuzix  smart glasses that enables surgeons to share a first-person perspective of medical procedures through real-time telepresence. Discover more:  $vuzi</td>\n",
       "      <td>twitter</td>\n",
       "      <td>neutral</td>\n",
       "      <td>positive</td>\n",
       "    </tr>\n",
       "    <tr>\n",
       "      <th>793</th>\n",
       "      <td>RT  \"The acquisition of Moviynt further positions Vuzix as a software solutions provider capable of expanding access and interaction between wearable and handheld devices…\" PRESS RELEASE:    |</td>\n",
       "      <td>twitter</td>\n",
       "      <td>neutral</td>\n",
       "      <td>positive</td>\n",
       "    </tr>\n",
       "    <tr>\n",
       "      <th>363</th>\n",
       "      <td>Augmented Reality, Virtual Reality, Mixed Reality explainedNo, I mean an AR headset. Wait, make that an MR headset with a dial to switch between AR and VR at will… Despite years of headsets from big-name corporations like Google, Microsoft, Sony, Facebook/Meta, and more, most people still don't unde</td>\n",
       "      <td>news</td>\n",
       "      <td>negative</td>\n",
       "      <td>neutral</td>\n",
       "    </tr>\n",
       "    <tr>\n",
       "      <th>863</th>\n",
       "      <td>RT  Join Vuzix at the  Summit in just two weeks to immerse yourself in an innovative augmented reality remote support demo with Vuzix M400 smart glasses. Find us at Booth # 20!  $vuzi</td>\n",
       "      <td>twitter</td>\n",
       "      <td>neutral</td>\n",
       "      <td>positive</td>\n",
       "    </tr>\n",
       "    <tr>\n",
       "      <th>1514</th>\n",
       "      <td>RT  . customer success story with Vuzix   and   $vuzi</td>\n",
       "      <td>twitter</td>\n",
       "      <td>neutral</td>\n",
       "      <td>positive</td>\n",
       "    </tr>\n",
       "    <tr>\n",
       "      <th>586</th>\n",
       "      <td>excellent work! congrat and thanks... I will have a vuzix blade 2 device tomorrow. Do you think that would be compatible with it? Can I run it inside the smart glass or should I use it on Android phone and send the screen to the glass?</td>\n",
       "      <td>reddit</td>\n",
       "      <td>positive</td>\n",
       "      <td>neutral</td>\n",
       "    </tr>\n",
       "    <tr>\n",
       "      <th>1770</th>\n",
       "      <td>RT  CEO Paul Travers and Alex Westner, CEO of Vuzix partner Xander, join ‘This Week in Hearing’ via  to discuss the innovative  paired with Vuzix  supporting people who are hard of hearing with real-time captioning.  $VUZI</td>\n",
       "      <td>twitter</td>\n",
       "      <td>neutral</td>\n",
       "      <td>positive</td>\n",
       "    </tr>\n",
       "    <tr>\n",
       "      <th>1241</th>\n",
       "      <td>RT  CEO Spotlight \"Through expanding relationships with distributors such as Xpertinc, we continue to see numerous companies across a growing number of industry verticals turning to  and embracing Vuzix solutions,\" Paul Travers. More here:  $vuzi</td>\n",
       "      <td>twitter</td>\n",
       "      <td>neutral</td>\n",
       "      <td>positive</td>\n",
       "    </tr>\n",
       "    <tr>\n",
       "      <th>1853</th>\n",
       "      <td>Revolutionise emergency care with Vuzix Smart Glasses &amp; Remote Expert.Learn more:  info@net4.io or 0208 1940822. ��    #EmergencyServices</td>\n",
       "      <td>twitter</td>\n",
       "      <td>neutral</td>\n",
       "      <td>positive</td>\n",
       "    </tr>\n",
       "    <tr>\n",
       "      <th>1301</th>\n",
       "      <td>RT  Vuzix and  Join Forces to Redefine Smart  with  Printing. Read more about our latest news on integrating 3D printing into the  process for Vuzix’s  smart glasses via  here:  $vuzi</td>\n",
       "      <td>twitter</td>\n",
       "      <td>neutral</td>\n",
       "      <td>positive</td>\n",
       "    </tr>\n",
       "  </tbody>\n",
       "</table>\n",
       "</div>"
      ],
      "text/plain": [
       "                                                                                                                                                                                                                                                                                                              text  \\\n",
       "1850                                                                                 RT  Partner Spotlight: 's PxLens is a wearable headset powered by Vuzix  smart glasses that enables surgeons to share a first-person perspective of medical procedures through real-time telepresence. Discover more:  $vuzi    \n",
       "793                                                                                                           RT  \"The acquisition of Moviynt further positions Vuzix as a software solutions provider capable of expanding access and interaction between wearable and handheld devices…\" PRESS RELEASE:    |       \n",
       "363   Augmented Reality, Virtual Reality, Mixed Reality explainedNo, I mean an AR headset. Wait, make that an MR headset with a dial to switch between AR and VR at will… Despite years of headsets from big-name corporations like Google, Microsoft, Sony, Facebook/Meta, and more, most people still don't unde   \n",
       "863                                                                                                                    RT  Join Vuzix at the  Summit in just two weeks to immerse yourself in an innovative augmented reality remote support demo with Vuzix M400 smart glasses. Find us at Booth # 20!  $vuzi       \n",
       "1514                                                                                                                                                                                                                                                      RT  . customer success story with Vuzix   and   $vuzi      \n",
       "586                                                                    excellent work! congrat and thanks... I will have a vuzix blade 2 device tomorrow. Do you think that would be compatible with it? Can I run it inside the smart glass or should I use it on Android phone and send the screen to the glass?   \n",
       "1770                                                                               RT  CEO Paul Travers and Alex Westner, CEO of Vuzix partner Xander, join ‘This Week in Hearing’ via  to discuss the innovative  paired with Vuzix  supporting people who are hard of hearing with real-time captioning.  $VUZI    \n",
       "1241                                                       RT  CEO Spotlight \"Through expanding relationships with distributors such as Xpertinc, we continue to see numerous companies across a growing number of industry verticals turning to  and embracing Vuzix solutions,\" Paul Travers. More here:  $vuzi    \n",
       "1853                                                                                                                                                                 Revolutionise emergency care with Vuzix Smart Glasses & Remote Expert.Learn more:  info@net4.io or 0208 1940822. ��    #EmergencyServices       \n",
       "1301                                                                                                                      RT  Vuzix and  Join Forces to Redefine Smart  with  Printing. Read more about our latest news on integrating 3D printing into the  process for Vuzix’s  smart glasses via  here:  $vuzi    \n",
       "\n",
       "     updated_source android_sentiment llm_label  \n",
       "1850        twitter           neutral  positive  \n",
       "793         twitter           neutral  positive  \n",
       "363            news          negative   neutral  \n",
       "863         twitter           neutral  positive  \n",
       "1514        twitter           neutral  positive  \n",
       "586          reddit          positive   neutral  \n",
       "1770        twitter           neutral  positive  \n",
       "1241        twitter           neutral  positive  \n",
       "1853        twitter           neutral  positive  \n",
       "1301        twitter           neutral  positive  "
      ]
     },
     "execution_count": 50,
     "metadata": {},
     "output_type": "execute_result"
    }
   ],
   "source": [
    "vuzix_glasses.loc[vuzix_glasses['disagreement']==True].sample(n=10,random_state=42)[['text','updated_source','android_sentiment','llm_label']]"
   ]
  },
  {
   "cell_type": "code",
   "execution_count": 45,
   "id": "687e3b52",
   "metadata": {},
   "outputs": [
    {
     "data": {
      "text/html": [
       "<div>\n",
       "<style scoped>\n",
       "    .dataframe tbody tr th:only-of-type {\n",
       "        vertical-align: middle;\n",
       "    }\n",
       "\n",
       "    .dataframe tbody tr th {\n",
       "        vertical-align: top;\n",
       "    }\n",
       "\n",
       "    .dataframe thead th {\n",
       "        text-align: right;\n",
       "    }\n",
       "</style>\n",
       "<table border=\"1\" class=\"dataframe\">\n",
       "  <thead>\n",
       "    <tr style=\"text-align: right;\">\n",
       "      <th></th>\n",
       "      <th>text</th>\n",
       "      <th>updated_source</th>\n",
       "      <th>android_sentiment</th>\n",
       "      <th>llm_label</th>\n",
       "    </tr>\n",
       "  </thead>\n",
       "  <tbody>\n",
       "    <tr>\n",
       "      <th>1219</th>\n",
       "      <td>RT  Vuzix AR Smart Glasses ‘Transformational’ for Surgeries ���� A world-renowned professor explains his surgical work with 's  and efficacy in remote instruction ��</td>\n",
       "      <td>twitter</td>\n",
       "      <td>neutral</td>\n",
       "      <td>positive</td>\n",
       "    </tr>\n",
       "    <tr>\n",
       "      <th>803</th>\n",
       "      <td>RT  Vuzix Smart Glasses Selected to Support NSION's Seamless Situational Awareness Solution for DOD and First Responders $vuzi</td>\n",
       "      <td>twitter</td>\n",
       "      <td>neutral</td>\n",
       "      <td>positive</td>\n",
       "    </tr>\n",
       "    <tr>\n",
       "      <th>868</th>\n",
       "      <td>RT  AR Smart Glasses: XR Today Expert Round Table CEO Paul Travers joined  industry peers from ,  and  to share insights on the future of . Check it out here:  $vuzi</td>\n",
       "      <td>twitter</td>\n",
       "      <td>neutral</td>\n",
       "      <td>positive</td>\n",
       "    </tr>\n",
       "    <tr>\n",
       "      <th>661</th>\n",
       "      <td>RT  Vuzix feature via : Vuzix Ultralite   last up to two days on a single charge. More insight by  here:  $vuzi</td>\n",
       "      <td>twitter</td>\n",
       "      <td>neutral</td>\n",
       "      <td>positive</td>\n",
       "    </tr>\n",
       "    <tr>\n",
       "      <th>472</th>\n",
       "      <td>Telecom Customer Demand for Vuzix Smart Glasses Running on 4G and 5G Networks Continues to Steadily Expand $VUZI</td>\n",
       "      <td>twitter</td>\n",
       "      <td>neutral</td>\n",
       "      <td>positive</td>\n",
       "    </tr>\n",
       "    <tr>\n",
       "      <th>828</th>\n",
       "      <td>RT  Vuzix  smart glasses with ‘Surgeon’s Eye View’ from  Brings  into the . Read more here:  $vuzi</td>\n",
       "      <td>twitter</td>\n",
       "      <td>neutral</td>\n",
       "      <td>positive</td>\n",
       "    </tr>\n",
       "    <tr>\n",
       "      <th>829</th>\n",
       "      <td>RT  Drive  efficiency with Vuzix hands-free vision picking solutions. Learn more about Vuzix M400 smart glasses here:  $vuzi</td>\n",
       "      <td>twitter</td>\n",
       "      <td>neutral</td>\n",
       "      <td>positive</td>\n",
       "    </tr>\n",
       "    <tr>\n",
       "      <th>676</th>\n",
       "      <td>RT  Hongke distributes Vuzix Smart Glasses in the Chinese Market at Mobile World Congress 2023  $vuzi</td>\n",
       "      <td>twitter</td>\n",
       "      <td>neutral</td>\n",
       "      <td>positive</td>\n",
       "    </tr>\n",
       "    <tr>\n",
       "      <th>425</th>\n",
       "      <td>RT  Who's going to ? Team Vuzix will be at Booth # 16991! Stop by for a chance to demo Vuzix M400, Blade 2, Shield, and more. Stay tuned for more details to come. $vuzi</td>\n",
       "      <td>twitter</td>\n",
       "      <td>neutral</td>\n",
       "      <td>positive</td>\n",
       "    </tr>\n",
       "    <tr>\n",
       "      <th>76</th>\n",
       "      <td>The stock price of Vuzix (VUZI) increased by 11.38% in the most recent trading session. Why: Vuzix announced that its Vuzix smart glasses have begun to be deployed by Ox, a Vuzix value-added reseller, at one of the world’s largest logistics platform...</td>\n",
       "      <td>news</td>\n",
       "      <td>neutral</td>\n",
       "      <td>positive</td>\n",
       "    </tr>\n",
       "  </tbody>\n",
       "</table>\n",
       "</div>"
      ],
      "text/plain": [
       "                                                                                                                                                                                                                                                              text  \\\n",
       "1219                                                                                    RT  Vuzix AR Smart Glasses ‘Transformational’ for Surgeries ���� A world-renowned professor explains his surgical work with 's  and efficacy in remote instruction ��        \n",
       "803                                                                                                                                RT  Vuzix Smart Glasses Selected to Support NSION's Seamless Situational Awareness Solution for DOD and First Responders $vuzi    \n",
       "868                                                                                         RT  AR Smart Glasses: XR Today Expert Round Table CEO Paul Travers joined  industry peers from ,  and  to share insights on the future of . Check it out here:  $vuzi    \n",
       "661                                                                                                                                             RT  Vuzix feature via : Vuzix Ultralite   last up to two days on a single charge. More insight by  here:  $vuzi      \n",
       "472                                                                                                                                              Telecom Customer Demand for Vuzix Smart Glasses Running on 4G and 5G Networks Continues to Steadily Expand $VUZI    \n",
       "828                                                                                                                                                            RT  Vuzix  smart glasses with ‘Surgeon’s Eye View’ from  Brings  into the . Read more here:  $vuzi    \n",
       "829                                                                                                                               RT  Drive  efficiency with Vuzix hands-free vision picking solutions. Learn more about Vuzix M400 smart glasses here:  $vuzi       \n",
       "676                                                                                                                                                         RT  Hongke distributes Vuzix Smart Glasses in the Chinese Market at Mobile World Congress 2023  $vuzi    \n",
       "425                                                                                  RT  Who's going to ? Team Vuzix will be at Booth # 16991! Stop by for a chance to demo Vuzix M400, Blade 2, Shield, and more. Stay tuned for more details to come. $vuzi        \n",
       "76    The stock price of Vuzix (VUZI) increased by 11.38% in the most recent trading session. Why: Vuzix announced that its Vuzix smart glasses have begun to be deployed by Ox, a Vuzix value-added reseller, at one of the world’s largest logistics platform...   \n",
       "\n",
       "     updated_source android_sentiment llm_label  \n",
       "1219        twitter           neutral  positive  \n",
       "803         twitter           neutral  positive  \n",
       "868         twitter           neutral  positive  \n",
       "661         twitter           neutral  positive  \n",
       "472         twitter           neutral  positive  \n",
       "828         twitter           neutral  positive  \n",
       "829         twitter           neutral  positive  \n",
       "676         twitter           neutral  positive  \n",
       "425         twitter           neutral  positive  \n",
       "76             news           neutral  positive  "
      ]
     },
     "execution_count": 45,
     "metadata": {},
     "output_type": "execute_result"
    }
   ],
   "source": [
    "vuzix_glasses_positive.loc[vuzix_glasses_positive['disagreement']==True].sample(n=10,random_state=42)[['text','updated_source','android_sentiment','llm_label']]"
   ]
  },
  {
   "cell_type": "code",
   "execution_count": 8,
   "id": "faa8da59",
   "metadata": {},
   "outputs": [],
   "source": [
    "google_glasses = preds.loc[((preds['query']=='glasses') & (preds['tag']=='google'))].reset_index(drop=True)\n",
    "vuzix_glasses = preds.loc[((preds['query']=='glasses') & (preds['tag']=='vuzix'))].reset_index(drop=True)"
   ]
  },
  {
   "cell_type": "code",
   "execution_count": 9,
   "id": "1493f174",
   "metadata": {},
   "outputs": [
    {
     "data": {
      "text/plain": [
       "(9850, 2268)"
      ]
     },
     "execution_count": 9,
     "metadata": {},
     "output_type": "execute_result"
    }
   ],
   "source": [
    "len(google_glasses),len(vuzix_glasses)"
   ]
  },
  {
   "cell_type": "code",
   "execution_count": 40,
   "id": "9ffd7c36",
   "metadata": {},
   "outputs": [],
   "source": [
    "# Vuzix Breakdown\n",
    "# Look at android nlp disagreement\n",
    "vuzix_glasses['llm_label'] = vuzix_glasses['llm_label'].apply(lambda x: sentiment_dict[x])\n",
    "vuzix_glasses['disagreement'] = vuzix_glasses.apply(lambda x: x.android_sentiment!=x.llm_label,axis=1)"
   ]
  },
  {
   "cell_type": "code",
   "execution_count": 41,
   "id": "0471ef95",
   "metadata": {},
   "outputs": [],
   "source": [
    "vuzix_glasses_positive = vuzix_glasses.loc[vuzix_glasses['llm_label']=='positive'].reset_index(drop=True)"
   ]
  },
  {
   "cell_type": "code",
   "execution_count": 43,
   "id": "2b352243",
   "metadata": {},
   "outputs": [
    {
     "data": {
      "text/plain": [
       "llm_label\n",
       "positive    0.588624\n",
       "neutral     0.405203\n",
       "negative    0.006173\n",
       "Name: count, dtype: float64"
      ]
     },
     "execution_count": 43,
     "metadata": {},
     "output_type": "execute_result"
    }
   ],
   "source": [
    "vuzix_glasses['llm_label'].value_counts()/len(vuzix_glasses)"
   ]
  },
  {
   "cell_type": "markdown",
   "id": "8eb9f893",
   "metadata": {},
   "source": [
    "# Google Breakdown "
   ]
  },
  {
   "cell_type": "markdown",
   "id": "3124eeef",
   "metadata": {},
   "source": [
    "android_sentiment\n",
    "neutral     0.475939\n",
    "negative    0.376041\n",
    "positive    0.146701\n",
    "\n",
    "Name: count, dtype: float64\n",
    "\n",
    "\n",
    "\n",
    "llm_label\n",
    "neutral     0.476142\n",
    "negative    0.413503\n",
    "positive    0.110355\n",
    "Name: count, dtype: float64"
   ]
  },
  {
   "cell_type": "code",
   "execution_count": null,
   "id": "1383e093",
   "metadata": {},
   "outputs": [],
   "source": [
    "# Look at android nlp disagreement\n",
    "google_glasses['llm_label'] = google_glasses['llm_label'].apply(lambda x: sentiment_dict[x])\n",
    "google_glasses['disagreement'] = google_glasses.apply(lambda x: x.android_sentiment!=x.llm_label,axis=1)"
   ]
  },
  {
   "cell_type": "code",
   "execution_count": 29,
   "id": "fff178f2",
   "metadata": {},
   "outputs": [],
   "source": [
    "google_glasses_negative = google_glasses.loc[google_glasses['llm_label']=='negative'].reset_index(drop=True)"
   ]
  },
  {
   "cell_type": "code",
   "execution_count": 20,
   "id": "5f083320",
   "metadata": {},
   "outputs": [
    {
     "data": {
      "text/plain": [
       "updated_source\n",
       "twitter      0.583354\n",
       "reddit       0.231034\n",
       "news         0.184139\n",
       "instagram    0.001473\n",
       "Name: count, dtype: float64"
      ]
     },
     "execution_count": 20,
     "metadata": {},
     "output_type": "execute_result"
    }
   ],
   "source": [
    "google_glasses_negative['updated_source'].value_counts()/len(google_glasses_negative)"
   ]
  },
  {
   "cell_type": "code",
   "execution_count": 37,
   "id": "045468f0",
   "metadata": {},
   "outputs": [
    {
     "data": {
      "text/plain": [
       "llm_label\n",
       "neutral     4690\n",
       "negative    4073\n",
       "positive    1087\n",
       "Name: count, dtype: int64"
      ]
     },
     "execution_count": 37,
     "metadata": {},
     "output_type": "execute_result"
    }
   ],
   "source": [
    "google_glasses['llm_label'].value_counts()"
   ]
  },
  {
   "cell_type": "code",
   "execution_count": 36,
   "id": "bc27200f",
   "metadata": {},
   "outputs": [
    {
     "data": {
      "text/html": [
       "<div>\n",
       "<style scoped>\n",
       "    .dataframe tbody tr th:only-of-type {\n",
       "        vertical-align: middle;\n",
       "    }\n",
       "\n",
       "    .dataframe tbody tr th {\n",
       "        vertical-align: top;\n",
       "    }\n",
       "\n",
       "    .dataframe thead th {\n",
       "        text-align: right;\n",
       "    }\n",
       "</style>\n",
       "<table border=\"1\" class=\"dataframe\">\n",
       "  <thead>\n",
       "    <tr style=\"text-align: right;\">\n",
       "      <th></th>\n",
       "      <th>text</th>\n",
       "      <th>updated_source</th>\n",
       "      <th>android_sentiment</th>\n",
       "      <th>llm_label</th>\n",
       "    </tr>\n",
       "  </thead>\n",
       "  <tbody>\n",
       "    <tr>\n",
       "      <th>1188</th>\n",
       "      <td>Looks better than the Google glass!</td>\n",
       "      <td>reddit</td>\n",
       "      <td>positive</td>\n",
       "      <td>negative</td>\n",
       "    </tr>\n",
       "    <tr>\n",
       "      <th>1613</th>\n",
       "      <td>Marketing is important but at the end of the day a product needs to be desired to sell. Just look at Google Glass, Segway.</td>\n",
       "      <td>reddit</td>\n",
       "      <td>neutral</td>\n",
       "      <td>negative</td>\n",
       "    </tr>\n",
       "    <tr>\n",
       "      <th>3349</th>\n",
       "      <td>\"Can Microsoft succeed where Google failed? The company has recently filed a patent for augmented reality (AR) glasses and looks like it's going to try bettering Google Glass.  \"</td>\n",
       "      <td>twitter</td>\n",
       "      <td>neutral</td>\n",
       "      <td>negative</td>\n",
       "    </tr>\n",
       "    <tr>\n",
       "      <th>3888</th>\n",
       "      <td>Google Glasses has more of a nerdy weird vibe to it, Apple’s is rather a kind of futuristic weird vibe, also looks much more “refined” imo.</td>\n",
       "      <td>twitter</td>\n",
       "      <td>neutral</td>\n",
       "      <td>negative</td>\n",
       "    </tr>\n",
       "    <tr>\n",
       "      <th>616</th>\n",
       "      <td>...launch its own AR glasses (codenamed Project Iris), but it laid off a lot of people in the AR/VR division and then decided to make software called Micro XR for AR headsets from other brands (like Samsung). It also discontinued the enterprise version of Google...</td>\n",
       "      <td>news</td>\n",
       "      <td>neutral</td>\n",
       "      <td>negative</td>\n",
       "    </tr>\n",
       "    <tr>\n",
       "      <th>245</th>\n",
       "      <td>...Insider, The Verge) The post Google Sends Project Iris AR Glasses To The Graveyard. appeared first on .</td>\n",
       "      <td>news</td>\n",
       "      <td>neutral</td>\n",
       "      <td>negative</td>\n",
       "    </tr>\n",
       "    <tr>\n",
       "      <th>3976</th>\n",
       "      <td>Find out what's up with the Superhexa Vision �� - a smart glass that wants to out smart glass Google Glass and Snap Spectacles. This is my early hands-on first impressions.</td>\n",
       "      <td>twitter</td>\n",
       "      <td>neutral</td>\n",
       "      <td>negative</td>\n",
       "    </tr>\n",
       "    <tr>\n",
       "      <th>1705</th>\n",
       "      <td>RT   Why is Jack there? There's also the guy next to him with the Google glass. That's still a thing?</td>\n",
       "      <td>twitter</td>\n",
       "      <td>neutral</td>\n",
       "      <td>negative</td>\n",
       "    </tr>\n",
       "    <tr>\n",
       "      <th>604</th>\n",
       "      <td>Samsung's upcoming AR/XR headset could have a shaky start - SamMobile...launch its own AR glasses (codenamed Project Iris), but it laid off a lot of people in the AR/VR division and then decided to make software called Micro XR for AR headsets from other brands (like Samsung). It also discontinued t</td>\n",
       "      <td>news</td>\n",
       "      <td>neutral</td>\n",
       "      <td>negative</td>\n",
       "    </tr>\n",
       "    <tr>\n",
       "      <th>145</th>\n",
       "      <td>Google Reportedly Cancels ‘Project Iris' Augmented Reality Smart GlassesNeSan Francisco, NFAPost: Google is pulling the plug on its project to build a pair of augmented reality (AR) glasses, according to a report by Business Insider. Google shelved its plans for the glasses, internally known as Iris</td>\n",
       "      <td>news</td>\n",
       "      <td>neutral</td>\n",
       "      <td>negative</td>\n",
       "    </tr>\n",
       "  </tbody>\n",
       "</table>\n",
       "</div>"
      ],
      "text/plain": [
       "                                                                                                                                                                                                                                                                                                              text  \\\n",
       "1188                                                                                                                                                                                                                                                                          Looks better than the Google glass!    \n",
       "1613                                                                                                                                                                                    Marketing is important but at the end of the day a product needs to be desired to sell. Just look at Google Glass, Segway.   \n",
       "3349                                                                                                                           \"Can Microsoft succeed where Google failed? The company has recently filed a patent for augmented reality (AR) glasses and looks like it's going to try bettering Google Glass.  \"    \n",
       "3888                                                                                                                                                                   Google Glasses has more of a nerdy weird vibe to it, Apple’s is rather a kind of futuristic weird vibe, also looks much more “refined” imo.   \n",
       "616                                      ...launch its own AR glasses (codenamed Project Iris), but it laid off a lot of people in the AR/VR division and then decided to make software called Micro XR for AR headsets from other brands (like Samsung). It also discontinued the enterprise version of Google...   \n",
       "245                                                                                                                                                                                                     ...Insider, The Verge) The post Google Sends Project Iris AR Glasses To The Graveyard. appeared first on .   \n",
       "3976                                                                                                                            Find out what's up with the Superhexa Vision �� - a smart glass that wants to out smart glass Google Glass and Snap Spectacles. This is my early hands-on first impressions.         \n",
       "1705                                                                                                                                                                                                         RT   Why is Jack there? There's also the guy next to him with the Google glass. That's still a thing?   \n",
       "604   Samsung's upcoming AR/XR headset could have a shaky start - SamMobile...launch its own AR glasses (codenamed Project Iris), but it laid off a lot of people in the AR/VR division and then decided to make software called Micro XR for AR headsets from other brands (like Samsung). It also discontinued t   \n",
       "145   Google Reportedly Cancels ‘Project Iris' Augmented Reality Smart GlassesNeSan Francisco, NFAPost: Google is pulling the plug on its project to build a pair of augmented reality (AR) glasses, according to a report by Business Insider. Google shelved its plans for the glasses, internally known as Iris   \n",
       "\n",
       "     updated_source android_sentiment llm_label  \n",
       "1188         reddit          positive  negative  \n",
       "1613         reddit           neutral  negative  \n",
       "3349        twitter           neutral  negative  \n",
       "3888        twitter           neutral  negative  \n",
       "616            news           neutral  negative  \n",
       "245            news           neutral  negative  \n",
       "3976        twitter           neutral  negative  \n",
       "1705        twitter           neutral  negative  \n",
       "604            news           neutral  negative  \n",
       "145            news           neutral  negative  "
      ]
     },
     "execution_count": 36,
     "metadata": {},
     "output_type": "execute_result"
    }
   ],
   "source": [
    "google_glasses_negative.loc[google_glasses_negative['disagreement']==True].sample(n=10,random_state=42)[['text','updated_source','android_sentiment','llm_label']]"
   ]
  }
 ],
 "metadata": {
  "kernelspec": {
   "display_name": "llm_eval_env",
   "language": "python",
   "name": "llm_eval_env"
  },
  "language_info": {
   "codemirror_mode": {
    "name": "ipython",
    "version": 3
   },
   "file_extension": ".py",
   "mimetype": "text/x-python",
   "name": "python",
   "nbconvert_exporter": "python",
   "pygments_lexer": "ipython3",
   "version": "3.10.13"
  }
 },
 "nbformat": 4,
 "nbformat_minor": 5
}
