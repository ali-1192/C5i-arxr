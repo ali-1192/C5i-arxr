{
 "cells": [
  {
   "cell_type": "code",
   "execution_count": 1,
   "id": "02d992aa",
   "metadata": {},
   "outputs": [
    {
     "name": "stderr",
     "output_type": "stream",
     "text": [
      "/Users/christiannaclark/anaconda3/envs/llm_eval_env/lib/python3.10/site-packages/tqdm/auto.py:21: TqdmWarning: IProgress not found. Please update jupyter and ipywidgets. See https://ipywidgets.readthedocs.io/en/stable/user_install.html\n",
      "  from .autonotebook import tqdm as notebook_tqdm\n"
     ]
    }
   ],
   "source": [
    "import glob\n",
    "import os\n",
    "import ast\n",
    "import pandas as pd\n",
    "import google.cloud.aiplatform as aiplatform\n",
    "%reload_ext autoreload\n",
    "%autoreload 2\n",
    "from utils import generate_prompt_categories,obtain_results_gemini_uid_dict,generate_prompt,generate_prompt_batch,run_llm_label_flow,load_in_data,grab_specific_tag_data_breakdown_test_and_train,chunk_dataframe_into_batches,run_llm_label_flow_gemini\n",
    "from constants import query_tags,sentiment_dict\n",
    "from sklearn.metrics import classification_report\n",
    "pd.set_option('max_colwidth', 800)"
   ]
  },
  {
   "cell_type": "code",
   "execution_count": 2,
   "id": "7a18ac5b",
   "metadata": {},
   "outputs": [],
   "source": [
    "# To add to utils \n",
    "def combine_results_data(all_data,exclude_ids,results_df):\n",
    "    data_excluded = all_data.loc[all_data['uid'].isin(exclude_ids)].reset_index(drop=True)\n",
    "    text_map = {text:label for text,label in zip(results_df['text'],results_df['llm_label'])}\n",
    "    data_excluded['llm_label'] = data_excluded['text'].apply(lambda x: text_map[x] if x in text_map.keys() else None).reset_index(drop=True)\n",
    "    data_excluded = data_excluded.loc[~data_excluded['llm_label'].isna()].reset_index(drop=True)\n",
    "    all_results = pd.concat([results_df,data_excluded]).reset_index(drop=True)\n",
    "    return all_results\n",
    "\n",
    "\n",
    "def make_preds(query,tag):\n",
    "    # Load in main data\n",
    "    main_query_data = load_in_data(query)\n",
    "    \n",
    "    # Load in sampled data\n",
    "    all_data, unique_text_data, excluded_uid_data, train_data, test_data = grab_specific_tag_data_breakdown_test_and_train(main_query_data,tag)\n",
    "    \n",
    "    # Condition for sample \n",
    "    if len(train_data)>5000:\n",
    "        train_data = train_data.sample(n=5000,random_state=42)\n",
    "        \n",
    "    # Create prompt and make preds\n",
    "    prompt = generate_prompt(query.title(), tag.title())\n",
    "    results = run_llm_label_flow_gemini(sentiment_dict, prompt, list(sentiment_dict.keys()), train_data, label_name='llm_label')\n",
    "    \n",
    "    print(f'The label distribution for {query} {tag} is: \\n with singular results')\n",
    "    print(results['llm_label'].value_counts()/len(results))\n",
    "    \n",
    "    # Combine text to label \n",
    "    all_results = combine_results_data(all_data,excluded_uid_data,results)\n",
    "    \n",
    "    print(f'The label distribution for {query} {tag} is: \\n with all results')\n",
    "    print(all_results['llm_label'].value_counts()/len(all_results))\n",
    "    \n",
    "    # Save data\n",
    "    all_results.to_json(f'../data/predictions/{query}/{tag}.json',orient='records',lines=True)\n",
    "    print('Complete')\n",
    "\n",
    "def make_preds_categories(query,tag):\n",
    "    # Load in main data\n",
    "    main_query_data = load_in_data(query)\n",
    "    \n",
    "    # Load in sampled data\n",
    "    all_data, unique_text_data, excluded_uid_data, train_data, test_data = grab_specific_tag_data_breakdown_test_and_train(main_query_data,tag)\n",
    "    \n",
    "    # Condition for sample \n",
    "    if len(train_data)>5000:\n",
    "        train_data = train_data.sample(n=5000,random_state=42)\n",
    "        \n",
    "    # Create prompt and make preds\n",
    "    prompt = generate_prompt_categories(tag.title())\n",
    "    results = run_llm_label_flow_gemini(sentiment_dict, prompt, list(sentiment_dict.keys()), train_data, label_name='llm_label')\n",
    "    \n",
    "    print(f'The label distribution for {query} {tag} is: \\n with singular results')\n",
    "    print(results['llm_label'].value_counts()/len(results))\n",
    "    \n",
    "    # Combine text to label \n",
    "    all_results = combine_results_data(all_data,excluded_uid_data,results)\n",
    "    \n",
    "    print(f'The label distribution for {query} {tag} is: \\n with all results')\n",
    "    print(all_results['llm_label'].value_counts()/len(all_results))\n",
    "    \n",
    "    # Save data\n",
    "    all_results.to_json(f'../data/predictions/{query}/{tag}.json',orient='records',lines=True)\n",
    "    print('Complete')\n",
    "    "
   ]
  },
  {
   "cell_type": "markdown",
   "id": "21041c13",
   "metadata": {},
   "source": [
    "# Creating pipeline workflow for fast processing \n",
    "\n",
    "\n",
    "args: query,tag"
   ]
  },
  {
   "cell_type": "code",
   "execution_count": 3,
   "id": "55120a8d",
   "metadata": {},
   "outputs": [],
   "source": [
    "def make_preds(query,tag):\n",
    "    # Load in main data\n",
    "    main_query_data = load_in_data(query)\n",
    "    \n",
    "    # Load in sampled data\n",
    "    all_data, unique_text_data, excluded_uid_data, train_data, test_data = grab_specific_tag_data_breakdown_test_and_train(main_query_data,tag)\n",
    "    \n",
    "    # Condition for sample \n",
    "    if len(train_data)>5000:\n",
    "        train_data = train_data.sample(n=5000,random_state=42)\n",
    "        \n",
    "    # Create prompt and make preds\n",
    "    prompt = generate_prompt(query.title(), tag.title())\n",
    "    results = run_llm_label_flow_gemini(sentiment_dict, prompt, list(sentiment_dict.keys()), train_data, label_name='llm_label')\n",
    "    \n",
    "    print(f'The label distribution for {query} {tag} is: \\n with singular results')\n",
    "    print(results['llm_label'].value_counts()/len(results))\n",
    "    \n",
    "    # Combine text to label \n",
    "    all_results = combine_results_data(all_data,excluded_uid_data,results)\n",
    "    \n",
    "    print(f'The label distribution for {query} {tag} is: \\n with all results')\n",
    "    print(all_results['llm_label'].value_counts()/len(all_results))\n",
    "    \n",
    "    # Save data\n",
    "    all_results.to_json(f'../data/predictions/{query}/{tag}.json',orient='records',lines=True)\n",
    "    print('Complete')\n",
    "    "
   ]
  },
  {
   "cell_type": "code",
   "execution_count": 17,
   "id": "18fe0cff",
   "metadata": {},
   "outputs": [
    {
     "data": {
      "text/plain": [
       "'../data/glasses/Snap.csv'"
      ]
     },
     "execution_count": 17,
     "metadata": {},
     "output_type": "execute_result"
    }
   ],
   "source": [
    "glob.glob(f\"../data/glasses/*.csv\")[0].replace(\"Glasses_\",'')"
   ]
  },
  {
   "cell_type": "code",
   "execution_count": 22,
   "id": "6a0626b6",
   "metadata": {},
   "outputs": [],
   "source": [
    "# Rename all files \n",
    "# Rename files in directory\n",
    "import logging\n",
    "import glob\n",
    "def rename_files(tag):\n",
    "    file_paths = glob.glob(f\"../data/{tag}/*.csv\")\n",
    "    for file in file_paths:\n",
    "        os.system(f\" mv {file} {file.replace(tag.title()+'_','').lower()}\")\n",
    "        logging.info(f\"Finished processing for {tag}\")\n",
    "\n",
    "    \n",
    "\n",
    "\n",
    "        "
   ]
  },
  {
   "cell_type": "code",
   "execution_count": 25,
   "id": "47674ab0",
   "metadata": {},
   "outputs": [],
   "source": [
    "for file in glob.glob(f\"../data/categories/*.csv\"):\n",
    "    os.system(f\" mv {file} {file.replace('category','categories')} \")"
   ]
  },
  {
   "cell_type": "code",
   "execution_count": 40,
   "id": "43efa6d2",
   "metadata": {},
   "outputs": [],
   "source": [
    "data = pd.read_csv(f\"../data/glasses/google.csv\",header=10)"
   ]
  },
  {
   "cell_type": "markdown",
   "id": "adceb9ed",
   "metadata": {},
   "source": [
    "# Glasses "
   ]
  },
  {
   "cell_type": "code",
   "execution_count": 49,
   "id": "8bf64854",
   "metadata": {},
   "outputs": [
    {
     "name": "stdout",
     "output_type": "stream",
     "text": [
      "glasses meta\n"
     ]
    },
    {
     "name": "stderr",
     "output_type": "stream",
     "text": [
      "100%|███████████████████████████████████████| 5000/5000 [08:41<00:00,  9.59it/s]\n"
     ]
    },
    {
     "name": "stdout",
     "output_type": "stream",
     "text": [
      "The label distribution for glasses meta is: \n",
      " with singular results\n",
      "llm_label\n",
      "1    0.689121\n",
      "2    0.163598\n",
      "0    0.147280\n",
      "Name: count, dtype: float64\n",
      "The label distribution for glasses meta is: \n",
      " with all results\n",
      "llm_label\n",
      "1.0    0.691185\n",
      "2.0    0.161905\n",
      "0.0    0.146910\n",
      "Name: count, dtype: float64\n",
      "Complete\n",
      "glasses rokid\n"
     ]
    },
    {
     "name": "stderr",
     "output_type": "stream",
     "text": [
      "100%|███████████████████████████████████████| 3252/3252 [05:45<00:00,  9.40it/s]\n"
     ]
    },
    {
     "name": "stdout",
     "output_type": "stream",
     "text": [
      "The label distribution for glasses rokid is: \n",
      " with singular results\n",
      "llm_label\n",
      "1    0.637820\n",
      "2    0.186018\n",
      "0    0.176163\n",
      "Name: count, dtype: float64\n",
      "The label distribution for glasses rokid is: \n",
      " with all results\n",
      "llm_label\n",
      "1    0.637852\n",
      "2    0.197875\n",
      "0    0.164273\n",
      "Name: count, dtype: float64\n",
      "Complete\n",
      "glasses snap\n"
     ]
    },
    {
     "name": "stderr",
     "output_type": "stream",
     "text": [
      "100%|███████████████████████████████████████| 2966/2966 [05:09<00:00,  9.58it/s]\n"
     ]
    },
    {
     "name": "stdout",
     "output_type": "stream",
     "text": [
      "The label distribution for glasses snap is: \n",
      " with singular results\n",
      "llm_label\n",
      "1    0.598235\n",
      "2    0.201561\n",
      "0    0.200204\n",
      "Name: count, dtype: float64\n",
      "The label distribution for glasses snap is: \n",
      " with all results\n",
      "llm_label\n",
      "1    0.605329\n",
      "0    0.207210\n",
      "2    0.187461\n",
      "Name: count, dtype: float64\n",
      "Complete\n",
      "glasses vuzix\n"
     ]
    },
    {
     "name": "stderr",
     "output_type": "stream",
     "text": [
      "100%|███████████████████████████████████████| 1046/1046 [01:49<00:00,  9.58it/s]\n"
     ]
    },
    {
     "name": "stdout",
     "output_type": "stream",
     "text": [
      "The label distribution for glasses vuzix is: \n",
      " with singular results\n",
      "llm_label\n",
      "1    0.594646\n",
      "2    0.381453\n",
      "0    0.023901\n",
      "Name: count, dtype: float64\n",
      "The label distribution for glasses vuzix is: \n",
      " with all results\n",
      "llm_label\n",
      "1.0    0.586081\n",
      "2.0    0.391026\n",
      "0.0    0.022894\n",
      "Name: count, dtype: float64\n",
      "Complete\n",
      "glasses xreal\n"
     ]
    },
    {
     "name": "stderr",
     "output_type": "stream",
     "text": [
      "100%|███████████████████████████████████████| 5000/5000 [08:41<00:00,  9.58it/s]\n"
     ]
    },
    {
     "name": "stdout",
     "output_type": "stream",
     "text": [
      "The label distribution for glasses xreal is: \n",
      " with singular results\n",
      "llm_label\n",
      "1    0.637948\n",
      "2    0.218193\n",
      "0    0.143859\n",
      "Name: count, dtype: float64\n",
      "The label distribution for glasses xreal is: \n",
      " with all results\n",
      "llm_label\n",
      "1.0    0.662888\n",
      "2.0    0.205850\n",
      "0.0    0.131261\n",
      "Name: count, dtype: float64\n",
      "Complete\n",
      "glasses google\n"
     ]
    },
    {
     "name": "stderr",
     "output_type": "stream",
     "text": [
      "100%|███████████████████████████████████████| 5000/5000 [08:42<00:00,  9.58it/s]\n"
     ]
    },
    {
     "name": "stdout",
     "output_type": "stream",
     "text": [
      "The label distribution for glasses google is: \n",
      " with singular results\n",
      "llm_label\n",
      "0    0.440927\n",
      "1    0.437097\n",
      "2    0.121976\n",
      "Name: count, dtype: float64\n",
      "The label distribution for glasses google is: \n",
      " with all results\n",
      "llm_label\n",
      "1.0    0.461773\n",
      "0.0    0.421073\n",
      "2.0    0.117155\n",
      "Name: count, dtype: float64\n",
      "Complete\n",
      "glasses apple\n"
     ]
    },
    {
     "name": "stderr",
     "output_type": "stream",
     "text": [
      "100%|███████████████████████████████████████| 5000/5000 [08:42<00:00,  9.57it/s]\n"
     ]
    },
    {
     "name": "stdout",
     "output_type": "stream",
     "text": [
      "The label distribution for glasses apple is: \n",
      " with singular results\n",
      "llm_label\n",
      "1    0.552152\n",
      "0    0.249049\n",
      "2    0.198799\n",
      "Name: count, dtype: float64\n",
      "The label distribution for glasses apple is: \n",
      " with all results\n",
      "llm_label\n",
      "1.0    0.559130\n",
      "0.0    0.246358\n",
      "2.0    0.194513\n",
      "Name: count, dtype: float64\n",
      "Complete\n",
      "glasses lenovo\n"
     ]
    },
    {
     "name": "stderr",
     "output_type": "stream",
     "text": [
      "100%|███████████████████████████████████████| 1211/1211 [02:06<00:00,  9.57it/s]\n"
     ]
    },
    {
     "name": "stdout",
     "output_type": "stream",
     "text": [
      "The label distribution for glasses lenovo is: \n",
      " with singular results\n",
      "llm_label\n",
      "1    0.878613\n",
      "2    0.089182\n",
      "0    0.032205\n",
      "Name: count, dtype: float64\n",
      "The label distribution for glasses lenovo is: \n",
      " with all results\n",
      "llm_label\n",
      "1    0.883065\n",
      "2    0.090726\n",
      "0    0.026210\n",
      "Name: count, dtype: float64\n",
      "Complete\n"
     ]
    }
   ],
   "source": [
    "# Glasses \n",
    "# Go do and make preds for all\n",
    "\n",
    "tags = ['meta','rokid','snap','vuzix','xreal','google','apple','lenovo']\n",
    "querys = ['glasses' for i in range(len(tags))]\n",
    "\n",
    "for query,tag in zip(querys,tags):\n",
    "    print(query,tag)\n",
    "    make_preds(query,tag)"
   ]
  },
  {
   "cell_type": "markdown",
   "id": "0637b91b",
   "metadata": {},
   "source": [
    "# Load in all glasses data "
   ]
  },
  {
   "cell_type": "code",
   "execution_count": 52,
   "id": "e026212a",
   "metadata": {},
   "outputs": [],
   "source": [
    "glasses_predictions = glob.glob('../data/predictions/glasses/*')\n",
    "data = []\n",
    "for path in glasses_predictions:\n",
    "    df = pd.read_json(path,orient='records',lines=True)\n",
    "    data.append(df)\n",
    "all_glasses_preds = pd.concat(data).reset_index(drop=True)\n",
    "all_glasses_preds['query'] = 'glasses'\n",
    "all_glasses_preds.to_json('../data/predictions/final_preds/glasses.json',orient='records',lines=True)"
   ]
  },
  {
   "cell_type": "markdown",
   "id": "19d30dc8",
   "metadata": {},
   "source": [
    "# Data Quality Check "
   ]
  },
  {
   "cell_type": "code",
   "execution_count": 149,
   "id": "b439f9c1",
   "metadata": {},
   "outputs": [
    {
     "data": {
      "text/html": [
       "<div>\n",
       "<style scoped>\n",
       "    .dataframe tbody tr th:only-of-type {\n",
       "        vertical-align: middle;\n",
       "    }\n",
       "\n",
       "    .dataframe tbody tr th {\n",
       "        vertical-align: top;\n",
       "    }\n",
       "\n",
       "    .dataframe thead th {\n",
       "        text-align: right;\n",
       "    }\n",
       "</style>\n",
       "<table border=\"1\" class=\"dataframe\">\n",
       "  <thead>\n",
       "    <tr style=\"text-align: right;\">\n",
       "      <th></th>\n",
       "      <th>text</th>\n",
       "    </tr>\n",
       "  </thead>\n",
       "  <tbody>\n",
       "    <tr>\n",
       "      <th>22669</th>\n",
       "      <td>RT @steepler @bexhillmuseum @WollastonMuseum I did a Google glass search on it and that’s the most likely thing.</td>\n",
       "    </tr>\n",
       "    <tr>\n",
       "      <th>22673</th>\n",
       "      <td>@GoogleARVR @peregrau1969 @unity Google augmented reality glasses project: These are four links about mixed reality technologies. Therefore, we ask engineers and workers to conduct research in order to take advantage of all technologies and innovations and create hologram projects &amp;</td>\n",
       "    </tr>\n",
       "    <tr>\n",
       "      <th>22674</th>\n",
       "      <td>RT @verge Google Glass Enterprise Edition is no more https://t.co/EiKr87RM72 https://t.co/zO3dkonuT9</td>\n",
       "    </tr>\n",
       "    <tr>\n",
       "      <th>22677</th>\n",
       "      <td>@MKBHD The same basic idea of google glass, but covering the whole face...</td>\n",
       "    </tr>\n",
       "    <tr>\n",
       "      <th>22679</th>\n",
       "      <td>@tnatw Use of chat with Google glasses, for jury selection to read micro expressions. Then constantly redirecting chat throughout the trial, to cater questioning and objections to the flow of information. Smarter lawyers will be a must, parameters will change for every trial.</td>\n",
       "    </tr>\n",
       "    <tr>\n",
       "      <th>...</th>\n",
       "      <td>...</td>\n",
       "    </tr>\n",
       "    <tr>\n",
       "      <th>29915</th>\n",
       "      <td>Google Glass</td>\n",
       "    </tr>\n",
       "    <tr>\n",
       "      <th>29916</th>\n",
       "      <td>Google Glass.</td>\n",
       "    </tr>\n",
       "    <tr>\n",
       "      <th>29917</th>\n",
       "      <td>Google Glass.</td>\n",
       "    </tr>\n",
       "    <tr>\n",
       "      <th>29918</th>\n",
       "      <td>Google Glass</td>\n",
       "    </tr>\n",
       "    <tr>\n",
       "      <th>29919</th>\n",
       "      <td>Google glasses</td>\n",
       "    </tr>\n",
       "  </tbody>\n",
       "</table>\n",
       "<p>2982 rows × 1 columns</p>\n",
       "</div>"
      ],
      "text/plain": [
       "                                                                                                                                                                                                                                                                                              text\n",
       "22669                                                                                                                                                                             RT @steepler @bexhillmuseum @WollastonMuseum I did a Google glass search on it and that’s the most likely thing.\n",
       "22673  @GoogleARVR @peregrau1969 @unity Google augmented reality glasses project: These are four links about mixed reality technologies. Therefore, we ask engineers and workers to conduct research in order to take advantage of all technologies and innovations and create hologram projects &\n",
       "22674                                                                                                                                                                                         RT @verge Google Glass Enterprise Edition is no more https://t.co/EiKr87RM72 https://t.co/zO3dkonuT9\n",
       "22677                                                                                                                                                                                                                   @MKBHD The same basic idea of google glass, but covering the whole face...\n",
       "22679         @tnatw Use of chat with Google glasses, for jury selection to read micro expressions. Then constantly redirecting chat throughout the trial, to cater questioning and objections to the flow of information. Smarter lawyers will be a must, parameters will change for every trial.\n",
       "...                                                                                                                                                                                                                                                                                            ...\n",
       "29915                                                                                                                                                                                                                                                                                 Google Glass\n",
       "29916                                                                                                                                                                                                                                                                                Google Glass.\n",
       "29917                                                                                                                                                                                                                                                                                Google Glass.\n",
       "29918                                                                                                                                                                                                                                                                                 Google Glass\n",
       "29919                                                                                                                                                                                                                                                                               Google glasses\n",
       "\n",
       "[2982 rows x 1 columns]"
      ]
     },
     "execution_count": 149,
     "metadata": {},
     "output_type": "execute_result"
    }
   ],
   "source": [
    "all_glasses_preds.loc[(all_glasses_preds['tag']=='google') & (all_glasses_preds['llm_label']==1) ][['text']]"
   ]
  },
  {
   "cell_type": "markdown",
   "id": "8fa29c42",
   "metadata": {},
   "source": [
    "# Headsets "
   ]
  },
  {
   "cell_type": "code",
   "execution_count": 4,
   "id": "471a9c1d",
   "metadata": {},
   "outputs": [
    {
     "name": "stderr",
     "output_type": "stream",
     "text": [
      "100%|███████████████████████████████████████| 5000/5000 [08:40<00:00,  9.61it/s]\n"
     ]
    },
    {
     "name": "stdout",
     "output_type": "stream",
     "text": [
      "The label distribution for headsets apple is: \n",
      " with singular results\n",
      "llm_label\n",
      "1    0.745528\n",
      "0    0.128643\n",
      "2    0.125829\n",
      "Name: count, dtype: float64\n",
      "The label distribution for headsets apple is: \n",
      " with all results\n",
      "llm_label\n",
      "1.0    0.743890\n",
      "0.0    0.128949\n",
      "2.0    0.127161\n",
      "Name: count, dtype: float64\n",
      "Complete\n"
     ]
    },
    {
     "name": "stderr",
     "output_type": "stream",
     "text": [
      "100%|███████████████████████████████████████| 2190/2190 [03:48<00:00,  9.60it/s]\n"
     ]
    },
    {
     "name": "stdout",
     "output_type": "stream",
     "text": [
      "The label distribution for headsets dpvr is: \n",
      " with singular results\n",
      "llm_label\n",
      "1    0.616263\n",
      "2    0.308817\n",
      "0    0.074920\n",
      "Name: count, dtype: float64\n",
      "The label distribution for headsets dpvr is: \n",
      " with all results\n",
      "llm_label\n",
      "1.0    0.649784\n",
      "2.0    0.285826\n",
      "0.0    0.064389\n",
      "Name: count, dtype: float64\n",
      "Complete\n"
     ]
    },
    {
     "name": "stderr",
     "output_type": "stream",
     "text": [
      "100%|███████████████████████████████████████| 5000/5000 [08:46<00:00,  9.50it/s]\n"
     ]
    },
    {
     "name": "stdout",
     "output_type": "stream",
     "text": [
      "The label distribution for headsets google is: \n",
      " with singular results\n",
      "llm_label\n",
      "1    0.735681\n",
      "0    0.215139\n",
      "2    0.049180\n",
      "Name: count, dtype: float64\n",
      "The label distribution for headsets google is: \n",
      " with all results\n",
      "llm_label\n",
      "1.0    0.740815\n",
      "0.0    0.197526\n",
      "2.0    0.061659\n",
      "Name: count, dtype: float64\n",
      "Complete\n"
     ]
    },
    {
     "name": "stderr",
     "output_type": "stream",
     "text": [
      "100%|███████████████████████████████████████| 3882/3882 [06:44<00:00,  9.60it/s]\n"
     ]
    },
    {
     "name": "stdout",
     "output_type": "stream",
     "text": [
      "The label distribution for headsets hp is: \n",
      " with singular results\n",
      "llm_label\n",
      "1    0.691772\n",
      "0    0.191127\n",
      "2    0.117101\n",
      "Name: count, dtype: float64\n",
      "The label distribution for headsets hp is: \n",
      " with all results\n",
      "llm_label\n",
      "1    0.693060\n",
      "0    0.192082\n",
      "2    0.114858\n",
      "Name: count, dtype: float64\n",
      "Complete\n"
     ]
    },
    {
     "name": "stderr",
     "output_type": "stream",
     "text": [
      "100%|███████████████████████████████████████| 5000/5000 [08:40<00:00,  9.61it/s]\n"
     ]
    },
    {
     "name": "stdout",
     "output_type": "stream",
     "text": [
      "The label distribution for headsets htc is: \n",
      " with singular results\n",
      "llm_label\n",
      "1    0.606856\n",
      "2    0.232558\n",
      "0    0.160585\n",
      "Name: count, dtype: float64\n",
      "The label distribution for headsets htc is: \n",
      " with all results\n",
      "llm_label\n",
      "1.0    0.612249\n",
      "2.0    0.230739\n",
      "0.0    0.157012\n",
      "Name: count, dtype: float64\n",
      "Complete\n"
     ]
    },
    {
     "name": "stderr",
     "output_type": "stream",
     "text": [
      "100%|███████████████████████████████████████| 3694/3694 [06:24<00:00,  9.60it/s]\n"
     ]
    },
    {
     "name": "stdout",
     "output_type": "stream",
     "text": [
      "The label distribution for headsets magic_leap is: \n",
      " with singular results\n",
      "llm_label\n",
      "1    0.610344\n",
      "2    0.272136\n",
      "0    0.117520\n",
      "Name: count, dtype: float64\n",
      "The label distribution for headsets magic_leap is: \n",
      " with all results\n",
      "llm_label\n",
      "1.0    0.610971\n",
      "2.0    0.278311\n",
      "0.0    0.110718\n",
      "Name: count, dtype: float64\n",
      "Complete\n"
     ]
    },
    {
     "name": "stderr",
     "output_type": "stream",
     "text": [
      "100%|███████████████████████████████████████| 5000/5000 [08:40<00:00,  9.60it/s]\n"
     ]
    },
    {
     "name": "stdout",
     "output_type": "stream",
     "text": [
      "The label distribution for headsets meta is: \n",
      " with singular results\n",
      "llm_label\n",
      "1    0.595740\n",
      "2    0.223629\n",
      "0    0.180631\n",
      "Name: count, dtype: float64\n",
      "The label distribution for headsets meta is: \n",
      " with all results\n",
      "llm_label\n",
      "1.0    0.600000\n",
      "2.0    0.222113\n",
      "0.0    0.177887\n",
      "Name: count, dtype: float64\n",
      "Complete\n"
     ]
    },
    {
     "name": "stderr",
     "output_type": "stream",
     "text": [
      "100%|███████████████████████████████████████| 5000/5000 [08:40<00:00,  9.60it/s]\n"
     ]
    },
    {
     "name": "stdout",
     "output_type": "stream",
     "text": [
      "The label distribution for headsets microsoft is: \n",
      " with singular results\n",
      "llm_label\n",
      "1    0.843531\n",
      "0    0.137212\n",
      "2    0.019258\n",
      "Name: count, dtype: float64\n",
      "The label distribution for headsets microsoft is: \n",
      " with all results\n",
      "llm_label\n",
      "1.0    0.849783\n",
      "0.0    0.129647\n",
      "2.0    0.020570\n",
      "Name: count, dtype: float64\n",
      "Complete\n"
     ]
    },
    {
     "name": "stderr",
     "output_type": "stream",
     "text": [
      "100%|█████████████████████████████████████████| 248/248 [00:25<00:00,  9.60it/s]\n"
     ]
    },
    {
     "name": "stdout",
     "output_type": "stream",
     "text": [
      "The label distribution for headsets oppo is: \n",
      " with singular results\n",
      "llm_label\n",
      "1    0.927419\n",
      "2    0.064516\n",
      "0    0.008065\n",
      "Name: count, dtype: float64\n",
      "The label distribution for headsets oppo is: \n",
      " with all results\n",
      "llm_label\n",
      "1.0    0.932331\n",
      "2.0    0.060150\n",
      "0.0    0.007519\n",
      "Name: count, dtype: float64\n",
      "Complete\n"
     ]
    },
    {
     "name": "stderr",
     "output_type": "stream",
     "text": [
      "100%|███████████████████████████████████████| 5000/5000 [08:55<00:00,  9.34it/s]\n"
     ]
    },
    {
     "name": "stdout",
     "output_type": "stream",
     "text": [
      "The label distribution for headsets pico is: \n",
      " with singular results\n",
      "llm_label\n",
      "1    0.566647\n",
      "2    0.251153\n",
      "0    0.182201\n",
      "Name: count, dtype: float64\n",
      "The label distribution for headsets pico is: \n",
      " with all results\n",
      "llm_label\n",
      "1.0    0.567860\n",
      "2.0    0.253344\n",
      "0.0    0.178796\n",
      "Name: count, dtype: float64\n",
      "Complete\n"
     ]
    },
    {
     "name": "stderr",
     "output_type": "stream",
     "text": [
      "100%|███████████████████████████████████████| 5000/5000 [08:45<00:00,  9.52it/s]\n"
     ]
    },
    {
     "name": "stdout",
     "output_type": "stream",
     "text": [
      "The label distribution for headsets samsung is: \n",
      " with singular results\n",
      "llm_label\n",
      "1    0.836003\n",
      "0    0.128955\n",
      "2    0.035042\n",
      "Name: count, dtype: float64\n",
      "The label distribution for headsets samsung is: \n",
      " with all results\n",
      "llm_label\n",
      "1.0    0.844440\n",
      "0.0    0.122333\n",
      "2.0    0.033226\n",
      "Name: count, dtype: float64\n",
      "Complete\n"
     ]
    },
    {
     "name": "stderr",
     "output_type": "stream",
     "text": [
      "100%|███████████████████████████████████████| 5000/5000 [08:42<00:00,  9.56it/s]\n"
     ]
    },
    {
     "name": "stdout",
     "output_type": "stream",
     "text": [
      "The label distribution for headsets sony is: \n",
      " with singular results\n",
      "llm_label\n",
      "1    0.825869\n",
      "0    0.118899\n",
      "2    0.055232\n",
      "Name: count, dtype: float64\n",
      "The label distribution for headsets sony is: \n",
      " with all results\n",
      "llm_label\n",
      "1.0    0.826512\n",
      "0.0    0.118187\n",
      "2.0    0.055300\n",
      "Name: count, dtype: float64\n",
      "Complete\n"
     ]
    },
    {
     "name": "stderr",
     "output_type": "stream",
     "text": [
      "100%|███████████████████████████████████████| 5000/5000 [08:39<00:00,  9.62it/s]\n"
     ]
    },
    {
     "name": "stdout",
     "output_type": "stream",
     "text": [
      "The label distribution for headsets valve is: \n",
      " with singular results\n",
      "llm_label\n",
      "1    0.579739\n",
      "0    0.210632\n",
      "2    0.209629\n",
      "Name: count, dtype: float64\n",
      "The label distribution for headsets valve is: \n",
      " with all results\n",
      "llm_label\n",
      "1.0    0.582754\n",
      "0.0    0.209020\n",
      "2.0    0.208226\n",
      "Name: count, dtype: float64\n",
      "Complete\n"
     ]
    }
   ],
   "source": [
    "tags = ['apple',\n",
    " 'dpvr',\n",
    " 'google',\n",
    " 'hp',\n",
    " 'htc',\n",
    " 'magic_leap',\n",
    " 'meta',\n",
    " 'microsoft',\n",
    " 'oppo',\n",
    " 'pico',\n",
    " 'samsung',\n",
    " 'sony',\n",
    " 'valve']\n",
    "querys = ['headsets' for i in range(len(tags))]\n",
    "\n",
    "for query,tag in zip(querys,tags):\n",
    "    make_preds(query,tag)\n"
   ]
  },
  {
   "cell_type": "markdown",
   "id": "1db2ced1",
   "metadata": {},
   "source": [
    "# Categories "
   ]
  },
  {
   "cell_type": "markdown",
   "id": "4fd29d71",
   "metadata": {},
   "source": [
    "### Unlike the other queries we need to adjust the prompt---using Gemini we'll optimize the prompt for best results based on true labels\n"
   ]
  },
  {
   "cell_type": "code",
   "execution_count": null,
   "id": "6380e1de",
   "metadata": {
    "scrolled": true
   },
   "outputs": [],
   "source": [
    "cat_data = load_in_data('categories')"
   ]
  },
  {
   "cell_type": "code",
   "execution_count": null,
   "id": "12ae1d83",
   "metadata": {},
   "outputs": [],
   "source": [
    "df,df_unique_snippets,excluded_uid_from_unique, df_train, df_test = grab_specific_tag_data_breakdown_test_and_train(cat_data,'apple')"
   ]
  },
  {
   "cell_type": "code",
   "execution_count": 187,
   "id": "9bfb017a",
   "metadata": {},
   "outputs": [
    {
     "data": {
      "text/plain": [
       "array(['manual_export', 'reddit'], dtype=object)"
      ]
     },
     "execution_count": 187,
     "metadata": {},
     "output_type": "execute_result"
    }
   ],
   "source": [
    "df['source'].unique()"
   ]
  },
  {
   "cell_type": "code",
   "execution_count": 172,
   "id": "fd3b481e",
   "metadata": {},
   "outputs": [],
   "source": [
    "df_test.to_csv('../data/categories_test_data/apple_test_data.csv')"
   ]
  },
  {
   "cell_type": "code",
   "execution_count": 193,
   "id": "34852fa2",
   "metadata": {},
   "outputs": [
    {
     "name": "stderr",
     "output_type": "stream",
     "text": [
      "100%|███████████████████████████████████████████| 50/50 [00:05<00:00,  9.58it/s]\n"
     ]
    }
   ],
   "source": [
    "# Step 1 run results with gemini \n",
    "prompt = generate_prompt_categories('Apple')\n",
    "results = run_llm_label_flow_gemini(sentiment_dict, prompt, list(sentiment_dict.keys()), df_test, label_name='llm_label')"
   ]
  },
  {
   "cell_type": "code",
   "execution_count": 194,
   "id": "f236aa62",
   "metadata": {},
   "outputs": [],
   "source": [
    "results.to_csv('../data/categories_test_data/apple_test_data.csv')"
   ]
  },
  {
   "cell_type": "code",
   "execution_count": 190,
   "id": "2b8527e5",
   "metadata": {},
   "outputs": [
    {
     "data": {
      "text/plain": [
       "array([nan, 'reddit'], dtype=object)"
      ]
     },
     "execution_count": 190,
     "metadata": {},
     "output_type": "execute_result"
    }
   ],
   "source": [
    "df['pageType'].unique()"
   ]
  },
  {
   "cell_type": "code",
   "execution_count": 5,
   "id": "44afc355",
   "metadata": {},
   "outputs": [
    {
     "name": "stderr",
     "output_type": "stream",
     "text": [
      "100%|███████████████████████████████████████| 5000/5000 [08:44<00:00,  9.54it/s]\n"
     ]
    },
    {
     "name": "stdout",
     "output_type": "stream",
     "text": [
      "The label distribution for categories amazon is: \n",
      " with singular results\n",
      "llm_label\n",
      "1    0.753007\n",
      "2    0.150361\n",
      "0    0.096632\n",
      "Name: count, dtype: float64\n",
      "The label distribution for categories amazon is: \n",
      " with all results\n",
      "llm_label\n",
      "1.0    0.762230\n",
      "2.0    0.149395\n",
      "0.0    0.088375\n",
      "Name: count, dtype: float64\n",
      "Complete\n"
     ]
    },
    {
     "name": "stderr",
     "output_type": "stream",
     "text": [
      "100%|███████████████████████████████████████| 5000/5000 [08:55<00:00,  9.34it/s]\n"
     ]
    },
    {
     "name": "stdout",
     "output_type": "stream",
     "text": [
      "The label distribution for categories apple is: \n",
      " with singular results\n",
      "llm_label\n",
      "1    0.451678\n",
      "2    0.340768\n",
      "0    0.207555\n",
      "Name: count, dtype: float64\n",
      "The label distribution for categories apple is: \n",
      " with all results\n",
      "llm_label\n",
      "1.0    0.453103\n",
      "2.0    0.340869\n",
      "0.0    0.206028\n",
      "Name: count, dtype: float64\n",
      "Complete\n"
     ]
    },
    {
     "name": "stderr",
     "output_type": "stream",
     "text": [
      "100%|███████████████████████████████████████| 5000/5000 [08:49<00:00,  9.44it/s]\n"
     ]
    },
    {
     "name": "stdout",
     "output_type": "stream",
     "text": [
      "The label distribution for categories google is: \n",
      " with singular results\n",
      "llm_label\n",
      "1    0.657487\n",
      "2    0.200804\n",
      "0    0.141709\n",
      "Name: count, dtype: float64\n",
      "The label distribution for categories google is: \n",
      " with all results\n",
      "llm_label\n",
      "1.0    0.66419\n",
      "2.0    0.19981\n",
      "0.0    0.13600\n",
      "Name: count, dtype: float64\n",
      "Complete\n"
     ]
    },
    {
     "name": "stderr",
     "output_type": "stream",
     "text": [
      "100%|███████████████████████████████████████| 5000/5000 [08:58<00:00,  9.28it/s]\n"
     ]
    },
    {
     "name": "stdout",
     "output_type": "stream",
     "text": [
      "The label distribution for categories meta is: \n",
      " with singular results\n",
      "llm_label\n",
      "1    0.536008\n",
      "2    0.294885\n",
      "0    0.169107\n",
      "Name: count, dtype: float64\n",
      "The label distribution for categories meta is: \n",
      " with all results\n",
      "llm_label\n",
      "1.0    0.537381\n",
      "2.0    0.294699\n",
      "0.0    0.167919\n",
      "Name: count, dtype: float64\n",
      "Complete\n"
     ]
    },
    {
     "name": "stderr",
     "output_type": "stream",
     "text": [
      "100%|███████████████████████████████████████| 5000/5000 [08:57<00:00,  9.31it/s]\n"
     ]
    },
    {
     "name": "stdout",
     "output_type": "stream",
     "text": [
      "The label distribution for categories microsoft is: \n",
      " with singular results\n",
      "llm_label\n",
      "1    0.633628\n",
      "0    0.194623\n",
      "2    0.171750\n",
      "Name: count, dtype: float64\n",
      "The label distribution for categories microsoft is: \n",
      " with all results\n",
      "llm_label\n",
      "1.0    0.646162\n",
      "0.0    0.181751\n",
      "2.0    0.172087\n",
      "Name: count, dtype: float64\n",
      "Complete\n"
     ]
    }
   ],
   "source": [
    "tags = ['amazon','apple','google','meta','microsoft']\n",
    "querys = ['categories' for i in range(len(tags))]\n",
    "\n",
    "for query,tag in zip(querys,tags):\n",
    "    make_preds_categories(query,tag)"
   ]
  },
  {
   "cell_type": "markdown",
   "id": "94372824",
   "metadata": {},
   "source": [
    "# Load in final preds data "
   ]
  },
  {
   "cell_type": "code",
   "execution_count": 6,
   "id": "89789e83",
   "metadata": {},
   "outputs": [],
   "source": [
    "headsets_predictions = glob.glob('../data/predictions/headsets/*')\n",
    "data = []\n",
    "for path in headsets_predictions:\n",
    "    df = pd.read_json(path,orient='records',lines=True)\n",
    "    data.append(df)\n",
    "all_headsets_preds = pd.concat(data).reset_index(drop=True)\n",
    "all_headsets_preds['query'] = 'headsets'\n",
    "all_headsets_preds.to_json('../data/predictions/final_preds/headsets.json',orient='records',lines=True)"
   ]
  },
  {
   "cell_type": "code",
   "execution_count": 7,
   "id": "5c33e84b",
   "metadata": {},
   "outputs": [],
   "source": [
    "categories_predictions = glob.glob('../data/predictions/categories/*')\n",
    "data = []\n",
    "for path in categories_predictions:\n",
    "    df = pd.read_json(path,orient='records',lines=True)\n",
    "    data.append(df)\n",
    "all_cat_preds = pd.concat(data).reset_index(drop=True)\n",
    "all_cat_preds['query'] = 'categories'\n",
    "all_cat_preds.to_json('../data/predictions/final_preds/categories.json',orient='records',lines=True)"
   ]
  },
  {
   "cell_type": "markdown",
   "id": "8a24306c",
   "metadata": {},
   "source": [
    "# Combine ALL predictions into one single dataframe "
   ]
  },
  {
   "cell_type": "code",
   "execution_count": 8,
   "id": "e9b80163",
   "metadata": {},
   "outputs": [],
   "source": [
    "all_predictions = glob.glob('../data/predictions/final_preds/*')\n",
    "data = []\n",
    "for path in all_predictions:\n",
    "    df = pd.read_json(path,orient='records',lines=True)\n",
    "    data.append(df)\n",
    "all_preds = pd.concat(data).reset_index(drop=True)\n",
    "all_preds.to_json('../data/predictions/final_preds/all_preds.json',orient='records',lines=True)"
   ]
  }
 ],
 "metadata": {
  "kernelspec": {
   "display_name": "llm_eval_env",
   "language": "python",
   "name": "llm_eval_env"
  },
  "language_info": {
   "codemirror_mode": {
    "name": "ipython",
    "version": 3
   },
   "file_extension": ".py",
   "mimetype": "text/x-python",
   "name": "python",
   "nbconvert_exporter": "python",
   "pygments_lexer": "ipython3",
   "version": "3.10.13"
  }
 },
 "nbformat": 4,
 "nbformat_minor": 5
}
