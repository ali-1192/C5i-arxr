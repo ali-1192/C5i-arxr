{
 "cells": [
  {
   "cell_type": "code",
   "execution_count": 1,
   "id": "a538a2e1",
   "metadata": {},
   "outputs": [],
   "source": [
    "import pandas as pd\n",
    "import os \n",
    "import json\n",
    "from google.cloud import bigquery\n",
    "os.environ[\"GOOGLE_APPLICATION_CREDENTIALS\"] = \"credentials_gpe-analytics.json\""
   ]
  },
  {
   "cell_type": "code",
   "execution_count": 2,
   "id": "ee00889d",
   "metadata": {},
   "outputs": [],
   "source": [
    "new_preds = pd.read_json('../data/predictions/final_preds/all_preds.json',orient='records',lines=True)"
   ]
  },
  {
   "cell_type": "code",
   "execution_count": 3,
   "id": "44cc5825",
   "metadata": {},
   "outputs": [],
   "source": [
    "# Constants \n",
    "gcs_folder = 'project-google-arxr-analytics-20240401'\n",
    "gcs_bucket = 'mm-gpe-data'"
   ]
  },
  {
   "cell_type": "markdown",
   "id": "16c8c373",
   "metadata": {},
   "source": [
    "# What\n",
    "\n",
    "\n",
    "\n",
    "1. New twitter/news/insta needs combined with previous table \n",
    "CREATE new_updated_table\n",
    "SELECT * FROM current_table\n",
    "JOIN new_table \n",
    "WHERE current_table.updated_source=Reddit\n",
    "\n"
   ]
  },
  {
   "cell_type": "code",
   "execution_count": 10,
   "id": "2f36c207",
   "metadata": {},
   "outputs": [],
   "source": [
    "all_preds = pd.read_json('../data/predictions/final_preds/all_preds.json',orient='records',lines=True)\n",
    "new_preds = all_preds.loc[~all_preds['Page Type'].isna()].reset_index(drop=True) # Remove all Reddit values \n",
    "old_preds = pd.read_json('../data/predictions/final_preds/old-preds.json',orient='records',lines=True)\n"
   ]
  },
  {
   "cell_type": "code",
   "execution_count": 18,
   "id": "2dabb841",
   "metadata": {},
   "outputs": [],
   "source": [
    "old_preds = old_preds.loc[old_preds['Page Type'].isna()].reset_index(drop=True)"
   ]
  },
  {
   "cell_type": "code",
   "execution_count": 4,
   "id": "7a0043d8",
   "metadata": {},
   "outputs": [],
   "source": [
    "final_preds = pd.concat([new_preds]).reset_index(drop=True)"
   ]
  },
  {
   "cell_type": "code",
   "execution_count": 5,
   "id": "1ddaa9ba",
   "metadata": {},
   "outputs": [],
   "source": [
    "final_preds.to_json(\"../data/predictions/final_preds/05022024_final_preds.json\",orient=\"records\",lines=True)"
   ]
  },
  {
   "cell_type": "code",
   "execution_count": 5,
   "id": "96d17ead",
   "metadata": {},
   "outputs": [],
   "source": [
    "def all_preds_configuration(df):    \n",
    "    # Change date column to timestamp\n",
    "    if 'date' in df:\n",
    "        df['date'] = df['date'].combine_first(df['Date'])\n",
    "    else:\n",
    "        df['date']  = df['Date']\n",
    "\n",
    "    if 'author' in df:\n",
    "        df['author'] = df['author'].combine_first(df['Author'])\n",
    "    else:\n",
    "        df['author'] = df['Author']\n",
    "\n",
    "    # #Combine author for the news \n",
    "    df['author'] = df['author'].combine_first(df['Domain'])\n",
    "        \n",
    "    # # Now convert timestamp to string '2022-12-12'\n",
    "    df['date'] = df['date'].dt.strftime('%Y-%m-%d')\n",
    "    \n",
    "    # # Twitter\n",
    "    df['Engagements'] = df.apply(lambda x: x['Twitter Likes'] + x['Twitter Retweets'],axis=1)\n",
    "    # # Reddit\n",
    "    if 'redditScore' in df:\n",
    "       df['engagements'] = df['redditScore'].combine_first(df['Engagements'])\n",
    "    else:\n",
    "       df['engagements'] = df['Engagements']\n",
    "    \n",
    "    # # Create updated source column\n",
    "    df['updated_source'] = df.apply(lambda x: x['Page Type'] if x['Page Type'] else 'reddit',axis=1)\n",
    "    \n",
    "    #df['link_url'] = df.apply(lambda x: x.uid if x.updated_source!='reddit' else x.url,axis=1)\n",
    "    df['link_url'] = df['uid']\n",
    "    bad_colums = [\n",
    "        \"Reach (new)\", \n",
    "        \"Google AR/VR: Companies (Parent - products)\",\n",
    "        \"[Chrome AI Snap] Browsers\",\n",
    "        \"[Chrome AI Snap] ChatGPT vs Bard\",\n",
    "        \"[Chrome AI Snap] Search Engines\",\n",
    "        \"Engagements\",\n",
    "        \"Date\",\n",
    "        \"Author\",\n",
    "        \"Google AR/VR: Categories\",\n",
    "        \"Google AR/VR: Companies\",\n",
    "        \"Google AR/VR: Companies (Parent - products)\",\n",
    "        \"Google AR/VR: Events\",\n",
    "        \"Google AR/VR: Glasses\",\n",
    "        \"Google AR/VR: Headsets\"]\n",
    "    df.drop(columns=bad_colums, inplace=True)\n",
    "    \n",
    "    return df \n",
    "    \n",
    "    "
   ]
  },
  {
   "cell_type": "code",
   "execution_count": 6,
   "id": "19e0ed03",
   "metadata": {},
   "outputs": [],
   "source": [
    "final_preds = pd.read_json('../data/predictions/final_preds/05022024_final_preds.json',orient='records',lines=True)"
   ]
  },
  {
   "cell_type": "code",
   "execution_count": 7,
   "id": "0587c529",
   "metadata": {},
   "outputs": [
    {
     "name": "stdout",
     "output_type": "stream",
     "text": [
      "Unnamed: 0\n",
      "Query Id\n",
      "Query Name\n",
      "Title\n",
      "text\n",
      "Full Text\n",
      "uid\n",
      "Domain\n",
      "Sentiment\n",
      "Emotion\n",
      "Page Type\n",
      "Language\n",
      "Country Code\n",
      "Continent Code\n",
      "Continent\n",
      "Country\n",
      "Region Code\n",
      "Region\n",
      "City Code\n",
      "Account Type\n",
      "Assignment\n",
      "Avatar\n",
      "Category Details\n",
      "Checked\n",
      "City\n",
      "Display URLs\n",
      "Expanded URLs\n",
      "Facebook Author ID\n",
      "Facebook Comments\n",
      "Facebook Likes\n",
      "Facebook Role\n",
      "Facebook Shares\n",
      "Facebook Subtype\n",
      "Full Name\n",
      "Gender\n",
      "Hashtags\n",
      "Impact\n",
      "Impressions\n",
      "Instagram Comments\n",
      "Instagram Followers\n",
      "Instagram Following\n",
      "Instagram Likes\n",
      "Instagram Posts\n",
      "Interest\n",
      "Last Assignment Date\n",
      "Latitude\n",
      "Location Name\n",
      "Longitude\n",
      "Media Filter\n",
      "Media URLs\n",
      "Mentioned Authors\n",
      "Priority\n",
      "Professions\n",
      "Resource Id\n",
      "Short URLs\n",
      "Starred\n",
      "Status\n",
      "Subtype\n",
      "Tags\n",
      "Thread Author\n",
      "Thread Created Date\n",
      "Thread Entry Type\n",
      "Thread Id\n",
      "Thread URL\n",
      "Total Monthly Visitors\n",
      "Twitter Author ID\n",
      "Twitter Channel Role\n",
      "Twitter Followers\n",
      "Twitter Following\n",
      "Twitter Reply Count\n",
      "Twitter Reply to\n",
      "Twitter Retweet of\n",
      "Twitter Retweets\n",
      "Twitter Likes\n",
      "Twitter Tweets\n",
      "Twitter Verified\n",
      "Reddit Score\n",
      "Reddit Score Upvote Ratio\n",
      "Reddit Author Karma\n",
      "Reddit Author Awardee Karma\n",
      "Reddit Author Awarder Karma\n",
      "Reddit Comments\n",
      "Subreddit\n",
      "Subreddit Subscribers\n",
      "Sina Weibo Post Count\n",
      "Sina Weibo Favourites Count\n",
      "Sina Weibo Followers\n",
      "Sina Weibo Following\n",
      "Sina Weibo Bi Followers\n",
      "Sina Weibo Raw Location\n",
      "Engagement Score\n",
      "AI Image Generation\n",
      "Android Scorecard Trending Topics\n",
      "Chrome EOY Review | Competitors\n",
      "Chrome: Promote Key Topics\n",
      "Google P&E X-Brand Brand Pulse Categories\n",
      "K-pop Exclusion\n",
      "P&E Verticals 2020\n",
      "Switching Snapshot: Competitors\n",
      "Switching Snapshot: Platforms\n",
      "Switching Snapshot: SPICES filters\n",
      "tag\n",
      "App store Robinhood Filter\n",
      "source\n",
      "llm_label\n",
      "query\n",
      "Unnamed: 111\n",
      "Unnamed: 108\n",
      "date\n",
      "author\n",
      "engagements\n",
      "updated_source\n",
      "link_url\n"
     ]
    }
   ],
   "source": [
    "updated_preds = all_preds_configuration(final_preds)\n",
    "cols = updated_preds.columns\n",
    "cols.sort_values()\n",
    "for x in cols:\n",
    "    print(x)"
   ]
  },
  {
   "cell_type": "code",
   "execution_count": 8,
   "id": "ec22257f",
   "metadata": {},
   "outputs": [],
   "source": [
    "# Create Table \n",
    "client = bigquery.Client()"
   ]
  },
  {
   "cell_type": "code",
   "execution_count": 9,
   "id": "a0c59944",
   "metadata": {},
   "outputs": [],
   "source": [
    "# Create Table \n",
    "client = bigquery.Client()\n",
    "# Define table name, in format dataset.table_name\n",
    "table = f'gpe-analytics.{gcs_folder.replace(\"-\",\"_\")}.ar_xr_predictions_updated_pv_3'\n",
    "\n",
    "# Load data to BQ\n",
    "job = client.load_table_from_dataframe(updated_preds, table)"
   ]
  },
  {
   "cell_type": "markdown",
   "id": "60ac8227",
   "metadata": {},
   "source": [
    "# Do Clustering "
   ]
  },
  {
   "cell_type": "code",
   "execution_count": 29,
   "id": "4c9d0325",
   "metadata": {},
   "outputs": [
    {
     "name": "stderr",
     "output_type": "stream",
     "text": [
      "<>:2: SyntaxWarning: invalid escape sequence '\\/'\n",
      "<>:2: SyntaxWarning: invalid escape sequence '\\/'\n",
      "/var/folders/q7/6w64406173s6jh0blpll135c0000gq/T/ipykernel_8879/3914621348.py:2: SyntaxWarning: invalid escape sequence '\\/'\n",
      "  {\"text\":\"Would you prefer for Apple to adapt to the industry standard of RCS? #fyp #android #apple #iphone #samsung #google #ipager #phone #greenbubble #bluebubble #rcs #androidvsiphone #getthemessage\",\"uid\":\"https:\\/\\/www.tiktok.com\\/@redirect-to\\/video\\/7287566836936346912\",\"source\":\"tiktok\",\"date\":\"2024-01-04\"}.keys()\n"
     ]
    },
    {
     "data": {
      "text/plain": [
       "dict_keys(['text', 'uid', 'source', 'date'])"
      ]
     },
     "execution_count": 29,
     "metadata": {},
     "output_type": "execute_result"
    }
   ],
   "source": [
    "# Preprocessing keys \n",
    "{\"text\":\"Would you prefer for Apple to adapt to the industry standard of RCS? #fyp #android #apple #iphone #samsung #google #ipager #phone #greenbubble #bluebubble #rcs #androidvsiphone #getthemessage\",\"uid\":\"https:\\/\\/www.tiktok.com\\/@redirect-to\\/video\\/7287566836936346912\",\"source\":\"tiktok\",\"date\":\"2024-01-04\"}.keys()"
   ]
  },
  {
   "cell_type": "code",
   "execution_count": null,
   "id": "22a83cdd",
   "metadata": {},
   "outputs": [
    {
     "data": {
      "text/plain": [
       "dict_keys(['source', 'author', 'engagements', 'link', 'uid', 'date', 'queryName', 'query_title', 'subreddit', 'sentiment'])"
      ]
     },
     "execution_count": 71,
     "metadata": {},
     "output_type": "execute_result"
    }
   ],
   "source": [
    "# label map keys \n",
    "{\"source\": \"Platform\", \"author\": \"NULL\", \"engagements\": \"NULL\", \"link\": \"Video_URL\", \"uid\": \"Video_URL\", \"date\": \"date\", \"queryName\": \"NULL\", \"query_title\": \"Video_Title\", \"subreddit\": \"NULL\", \"sentiment\": \"NULL\"}.keys()"
   ]
  },
  {
   "cell_type": "code",
   "execution_count": 30,
   "id": "66d17fd0",
   "metadata": {},
   "outputs": [],
   "source": [
    "preprocessed_data = final_preds[['date','text','uid','source']]\n"
   ]
  },
  {
   "cell_type": "code",
   "execution_count": null,
   "id": "036abfe4",
   "metadata": {},
   "outputs": [],
   "source": [
    "preprocessed_data.to_json('preprocessed_data.json',orient='records',lines=True)"
   ]
  },
  {
   "cell_type": "code",
   "execution_count": null,
   "id": "7fd44293",
   "metadata": {},
   "outputs": [
    {
     "name": "stderr",
     "output_type": "stream",
     "text": [
      "Copying file://preprocessed_data.json [Content-Type=application/json]...\n",
      "\\ [1 files][ 44.9 MiB/ 44.9 MiB]                                                \n",
      "Operation completed over 1 objects/44.9 MiB.                                     \n"
     ]
    },
    {
     "data": {
      "text/plain": [
       "0"
      ]
     },
     "execution_count": 46,
     "metadata": {},
     "output_type": "execute_result"
    }
   ],
   "source": [
    "os.system(f'gsutil cp preprocessed_data.json gs://{gcs_bucket}/{gcs_folder}/preprocessed/')"
   ]
  },
  {
   "cell_type": "code",
   "execution_count": null,
   "id": "41ebdd30",
   "metadata": {},
   "outputs": [
    {
     "name": "stderr",
     "output_type": "stream",
     "text": [
      "Copying file://data_label_map.json [Content-Type=application/json]...\n",
      "/ [0 files][    0.0 B/  195.0 B]                                                \r\n",
      "/ [1 files][  195.0 B/  195.0 B]                                                \r\n",
      "Operation completed over 1 objects/195.0 B.                                      \n"
     ]
    },
    {
     "data": {
      "text/plain": [
       "0"
      ]
     },
     "execution_count": 47,
     "metadata": {},
     "output_type": "execute_result"
    }
   ],
   "source": [
    "label_map = {'source':'source',\n",
    "            'author':'author',\n",
    "            'engagements':'NULL',\n",
    "            'link':'NULL',\n",
    "            'uid':'uid',\n",
    "            'date':'date',\n",
    "            'queryName':'NULL',\n",
    "            'query_title':'NULL',\n",
    "            'subreddit':'NULL',\n",
    "            'sentiment':'NULL'}\n",
    "\n",
    "\n",
    "with open('data_label_map.json','w') as f:\n",
    "    json.dump(label_map,f)\n",
    "    \n",
    "os.system(f'gsutil cp data_label_map.json gs://{gcs_bucket}/{gcs_folder}/label_maps/')\n"
   ]
  },
  {
   "cell_type": "code",
   "execution_count": null,
   "id": "efca5257",
   "metadata": {},
   "outputs": [
    {
     "name": "stderr",
     "output_type": "stream",
     "text": [
      "Copying file://raw_data.json [Content-Type=application/json]...\n",
      "==> NOTE: You are uploading one or more large file(s), which would run          \n",
      "significantly faster if you enable parallel composite uploads. This\n",
      "feature can be enabled by editing the\n",
      "\"parallel_composite_upload_threshold\" value in your .boto\n",
      "configuration file. However, note that if you do this large files will\n",
      "be uploaded as `composite objects\n",
      "<https://cloud.google.com/storage/docs/composite-objects>`_,which\n",
      "means that any user who downloads such objects will need to have a\n",
      "compiled crcmod installed (see \"gsutil help crcmod\"). This is because\n",
      "without a compiled crcmod, computing checksums on composite objects is\n",
      "so slow that gsutil disables downloads of composite objects.\n",
      "\n",
      "/ [1 files][ 1006 MiB/ 1006 MiB]   47.6 MiB/s                                   \n",
      "Operation completed over 1 objects/1006.7 MiB.                                   \n"
     ]
    },
    {
     "data": {
      "text/plain": [
       "0"
      ]
     },
     "execution_count": 48,
     "metadata": {},
     "output_type": "execute_result"
    }
   ],
   "source": [
    "final_preds.to_json('raw_data.json',orient='records',lines=True)\n",
    "os.system(f'gsutil cp raw_data.json gs://{gcs_bucket}/{gcs_folder}/raw/')\n"
   ]
  },
  {
   "cell_type": "markdown",
   "id": "9a73e302",
   "metadata": {},
   "source": [
    "# Kick off new pipeline to obtain predictions "
   ]
  },
  {
   "cell_type": "code",
   "execution_count": 31,
   "id": "6724b27e",
   "metadata": {},
   "outputs": [
    {
     "data": {
      "text/plain": [
       "'SELECT \\n    * \\n    FROM \\n    (\\n        SELECT \\n        DISTINCT LEFT(text, 300) AS text, \\n        uid, \\n        category_1, \\n        probability_1, \\n        category_2, \\n        probability_2, \\n        subreddit_category_1,\\n        subreddit_probability_1\\n        FROM \\n        `gpe-analytics.project_google_arxr_analytics_20240109.redditnlp_output`\\n    )  \\n    LEFT JOIN (SELECT source ,uid,date engagements as NULL from gpe-analytics.project_google_arxr_analytics_20240109.raw_data) USING (uid)\\n    LEFT JOIN (\\n        SELECT \\n        * \\n        FROM \\n        `gpe-analytics.project_google_arxr_analytics_20240109.clusters`\\n    ) USING (uid) \\n    LEFT JOIN (SELECT * FROM `gpe-analytics.project_google_arxr_analytics_20240109.custom_nlp_tags`) USING (uid) LEFT JOIN (SELECT text as raw_text, uid,  FROM `gpe-analytics.project_google_arxr_analytics_20240109.raw_data`) USING (uid)'"
      ]
     },
     "execution_count": 31,
     "metadata": {},
     "output_type": "execute_result"
    }
   ],
   "source": [
    "\"\"\"SELECT \n",
    "    * \n",
    "    FROM \n",
    "    (\n",
    "        SELECT \n",
    "        DISTINCT LEFT(text, 300) AS text, \n",
    "        uid, \n",
    "        category_1, \n",
    "        probability_1, \n",
    "        category_2, \n",
    "        probability_2, \n",
    "        subreddit_category_1,\n",
    "        subreddit_probability_1\n",
    "        FROM \n",
    "        `gpe-analytics.project_google_arxr_analytics_20240109.redditnlp_output`\n",
    "    )  \n",
    "    LEFT JOIN (SELECT source ,uid,date engagements as NULL from gpe-analytics.project_google_arxr_analytics_20240109.raw_data) USING (uid)\n",
    "    LEFT JOIN (\n",
    "        SELECT \n",
    "        * \n",
    "        FROM \n",
    "        `gpe-analytics.project_google_arxr_analytics_20240109.clusters`\n",
    "    ) USING (uid) \n",
    "    LEFT JOIN (SELECT * FROM `gpe-analytics.project_google_arxr_analytics_20240109.custom_nlp_tags`) USING (uid) LEFT JOIN (SELECT text as raw_text, uid,  FROM `gpe-analytics.project_google_arxr_analytics_20240109.raw_data`) USING (uid)\"\"\""
   ]
  },
  {
   "cell_type": "code",
   "execution_count": null,
   "id": "0eb49d2f",
   "metadata": {},
   "outputs": [
    {
     "data": {
      "text/plain": [
       "'project_google_arxr_analytics_20240401'"
      ]
     },
     "execution_count": 52,
     "metadata": {},
     "output_type": "execute_result"
    }
   ],
   "source": [
    "\"project-google-arxr-analytics-20240401\".replace(\"-\",\"_\")"
   ]
  },
  {
   "cell_type": "code",
   "execution_count": null,
   "id": "555320dd",
   "metadata": {},
   "outputs": [],
   "source": [
    "CREATE TABLE `gpe-analytics.project_google_arxr_analytics_20240401.view_dashboard_final_update` as SELECT \n",
    "    * \n",
    "    FROM \n",
    "    (\n",
    "        SELECT \n",
    "        DISTINCT LEFT(text, 300) AS text, \n",
    "        uid, \n",
    "        category_1, \n",
    "        probability_1, \n",
    "        category_2, \n",
    "        probability_2, \n",
    "        subreddit_category_1,\n",
    "        subreddit_probability_1\n",
    "        FROM \n",
    "        `gpe-analytics.project_google_arxr_analytics_20240401.redditnlp_output`\n",
    "    )  \n",
    "    LEFT JOIN (SELECT updated_source ,link_url,uid,date_,query, tag, llm_label, engagements_ from `gpe-analytics.project_google_arxr_analytics_20240401.ar_xr_predictions_table_update`) USING (uid)\n",
    "    LEFT JOIN (\n",
    "        SELECT \n",
    "        * \n",
    "        FROM \n",
    "        `gpe-analytics.project_google_arxr_analytics_20240401.clusters`\n",
    "    ) USING (uid) \n",
    "    LEFT JOIN (SELECT * FROM `gpe-analytics.project_google_arxr_analytics_20240401.custom_nlp_tags`) USING (uid) "
   ]
  },
  {
   "cell_type": "code",
   "execution_count": null,
   "id": "0df5308a",
   "metadata": {},
   "outputs": [],
   "source": []
  },
  {
   "cell_type": "markdown",
   "id": "d006fdb5",
   "metadata": {},
   "source": [
    "# 2024/01/16 Create Clustering Dashboard "
   ]
  },
  {
   "cell_type": "code",
   "execution_count": null,
   "id": "208e99bd",
   "metadata": {},
   "outputs": [],
   "source": [
    "all_preds = pd.read_json('../data/predictions/final_preds/all_preds.json',orient='records',lines=True)"
   ]
  },
  {
   "cell_type": "code",
   "execution_count": null,
   "id": "ad146542",
   "metadata": {},
   "outputs": [
    {
     "name": "stdout",
     "output_type": "stream",
     "text": [
      "Unnamed: 0\n",
      "Query Id\n",
      "Query Name\n",
      "Date\n",
      "Title\n",
      "text\n",
      "uid\n",
      "Domain\n",
      "Sentiment\n",
      "Emotion\n",
      "Page Type\n",
      "Language\n",
      "Country Code\n",
      "Continent Code\n",
      "Continent\n",
      "Country\n",
      "Region Code\n",
      "Region\n",
      "City Code\n",
      "Account Type\n",
      "Assignment\n",
      "Author\n",
      "Avatar\n",
      "Category Details\n",
      "Checked\n",
      "City\n",
      "Display URLs\n",
      "Expanded URLs\n",
      "Facebook Author ID\n",
      "Facebook Comments\n",
      "Facebook Likes\n",
      "Facebook Role\n",
      "Facebook Shares\n",
      "Facebook Subtype\n",
      "Full Name\n",
      "Gender\n",
      "Hashtags\n",
      "Impact\n",
      "Impressions\n",
      "Instagram Comments\n",
      "Instagram Followers\n",
      "Instagram Following\n",
      "Instagram Likes\n",
      "Instagram Posts\n",
      "Interest\n",
      "Last Assignment Date\n",
      "Latitude\n",
      "Location Name\n",
      "Longitude\n",
      "Media Filter\n",
      "Media URLs\n",
      "Mentioned Authors\n",
      "Priority\n",
      "Professions\n",
      "Resource Id\n",
      "Short URLs\n",
      "Starred\n",
      "Status\n",
      "Subtype\n",
      "Tags\n",
      "Thread Author\n",
      "Thread Created Date\n",
      "Thread Entry Type\n",
      "Thread Id\n",
      "Thread URL\n",
      "Total Monthly Visitors\n",
      "Twitter Author ID\n",
      "Twitter Channel Role\n",
      "Twitter Followers\n",
      "Twitter Following\n",
      "Twitter Reply Count\n",
      "Twitter Reply to\n",
      "Twitter Retweet of\n",
      "Twitter Retweets\n",
      "Twitter Likes\n",
      "Twitter Tweets\n",
      "Twitter Verified\n",
      "Reach (new)\n",
      "Reddit Score\n",
      "Reddit Score Upvote Ratio\n",
      "Reddit Author Karma\n",
      "Reddit Author Awardee Karma\n",
      "Reddit Author Awarder Karma\n",
      "Reddit Comments\n",
      "Subreddit\n",
      "Subreddit Subscribers\n",
      "Sina Weibo Post Count\n",
      "Sina Weibo Favourites Count\n",
      "Sina Weibo Followers\n",
      "Sina Weibo Following\n",
      "Sina Weibo Bi Followers\n",
      "Sina Weibo Raw Location\n",
      "AI Image Generation\n",
      "Android Scorecard Trending Topics\n",
      "App store Robinhood Filter\n",
      "Chrome EOY Review | Competitors\n",
      "Chrome: Promote Key Topics\n",
      "Google AR/VR: Categories\n",
      "Google AR/VR: Companies\n",
      "Google AR/VR: Glasses\n",
      "Google AR/VR: Headsets\n",
      "Google P&E X-Brand Brand Pulse Categories\n",
      "K-pop Exclusion\n",
      "P&E Verticals 2020\n",
      "Switching Snapshot: Competitors\n",
      "Switching Snapshot: Platforms\n",
      "Switching Snapshot: SPICES filters\n",
      "[Chrome AI Snap] Browsers\n",
      "[Chrome AI Snap] ChatGPT vs Bard\n",
      "[Chrome AI Snap] Search Engines\n",
      "tag\n",
      "IRGC\n",
      "source\n",
      "accountType\n",
      "added\n",
      "assignment\n",
      "author\n",
      "authorVerifiedType\n",
      "avatarUrl\n",
      "blogName\n",
      "broadcastMediaUrl\n",
      "isSyndicated\n",
      "airType\n",
      "broadcastType\n",
      "mediaType\n",
      "categories\n",
      "categoryDetails\n",
      "checked\n",
      "city\n",
      "cityCode\n",
      "continent\n",
      "continentCode\n",
      "country\n",
      "countryCode\n",
      "region\n",
      "regionCode\n",
      "date\n",
      "displayUrls\n",
      "domain\n",
      "engagementType\n",
      "expandedUrls\n",
      "facebookAuthorId\n",
      "facebookComments\n",
      "facebookLikes\n",
      "facebookRole\n",
      "facebookShares\n",
      "facebookSubtype\n",
      "fullname\n",
      "gender\n",
      "impressions\n",
      "insightsHashtag\n",
      "insightsMentioned\n",
      "instagramCommentCount\n",
      "instagramFollowerCount\n",
      "instagramFollowingCount\n",
      "instagramInteractionsCount\n",
      "instagramLikeCount\n",
      "instagramPostCount\n",
      "interest\n",
      "itemReview\n",
      "language\n",
      "lastAssignmentDate\n",
      "latitude\n",
      "linkedinComments\n",
      "linkedinEngagement\n",
      "linkedinImpressions\n",
      "linkedinLikes\n",
      "linkedinShares\n",
      "linkedinSponsored\n",
      "linkedinVideoViews\n",
      "locationName\n",
      "longitude\n",
      "matchPositions\n",
      "mediaFilter\n",
      "mediaUrls\n",
      "monthlyVisitors\n",
      "originalUrl\n",
      "pageType\n",
      "parentPostId\n",
      "parentBlogName\n",
      "priority\n",
      "professions\n",
      "pubType\n",
      "publisherSubType\n",
      "queryId\n",
      "queryName\n",
      "rating\n",
      "reachEstimate\n",
      "redditScore\n",
      "redditScoreUpvoteRatio\n",
      "redditComments\n",
      "redditAuthorKarma\n",
      "redditAuthorAwardeeKarma\n",
      "redditAuthorAwarderKarma\n",
      "replyTo\n",
      "resourceType\n",
      "retweetOf\n",
      "rootPostId\n",
      "rootBlogName\n",
      "sentiment\n",
      "sinaWeiboAuthorId\n",
      "sinaWeiboFollowers\n",
      "sinaWeiboFollowing\n",
      "sinaWeiboBiFollowers\n",
      "sinaWeiboPostCount\n",
      "sinaWeiboFavouritesCount\n",
      "sinaWeiboRawLocation\n",
      "shortUrls\n",
      "snippet\n",
      "starred\n",
      "status\n",
      "subreddit\n",
      "subredditSubscribers\n",
      "subscriptions\n",
      "subtype\n",
      "tags\n",
      "threadAuthor\n",
      "threadCreated\n",
      "threadEntryType\n",
      "threadId\n",
      "threadURL\n",
      "title\n",
      "twitterAuthorId\n",
      "twitterFollowers\n",
      "twitterFollowing\n",
      "twitterPostCount\n",
      "twitterReplyCount\n",
      "twitterRetweets\n",
      "twitterLikeCount\n",
      "twitterRole\n",
      "twitterVerified\n",
      "updated\n",
      "url\n",
      "copyright\n",
      "weblogTitle\n",
      "classifications\n",
      "pageTypeName\n",
      "contentSource\n",
      "contentSourceName\n",
      "impact\n",
      "resourceId\n",
      "entityInfo\n",
      "imageMd5s\n",
      "imageInfo\n",
      "logoImages\n",
      "llm_label\n",
      "query\n"
     ]
    }
   ],
   "source": [
    "for x in all_preds.columns:\n",
    "    print(x)"
   ]
  },
  {
   "cell_type": "code",
   "execution_count": null,
   "id": "4c1d85d0",
   "metadata": {},
   "outputs": [],
   "source": [
    "all_preds['twitter_engagements']"
   ]
  }
 ],
 "metadata": {
  "kernelspec": {
   "display_name": ".venv",
   "language": "python",
   "name": "python3"
  },
  "language_info": {
   "codemirror_mode": {
    "name": "ipython",
    "version": 3
   },
   "file_extension": ".py",
   "mimetype": "text/x-python",
   "name": "python",
   "nbconvert_exporter": "python",
   "pygments_lexer": "ipython3",
   "version": "3.12.3"
  }
 },
 "nbformat": 4,
 "nbformat_minor": 5
}
